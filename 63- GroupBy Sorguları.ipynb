{
 "cells": [
  {
   "cell_type": "code",
   "execution_count": 1,
   "id": "1dc635a3",
   "metadata": {},
   "outputs": [],
   "source": [
    "import numpy as np\n",
    "import pandas as pd\n"
   ]
  },
  {
   "cell_type": "code",
   "execution_count": 5,
   "id": "b365ff82",
   "metadata": {},
   "outputs": [],
   "source": [
    "arr = np.array([[\"Bilişim\", 3000, \"Mustafa\"],[\"İnsan Kaynakları\",3500,\"Jale\"],[\"Üretim\", 2500, \"Kadir\"],[\"Üretim\",4500,\"Zeynep\"],[\"Bilişim\",4000,\"Murat\"],[\"İnsan Kaynakları\",2000,\"Ahmet\"]])"
   ]
  },
  {
   "cell_type": "code",
   "execution_count": 8,
   "id": "947ec90b",
   "metadata": {},
   "outputs": [],
   "source": [
    "df = pd.DataFrame(data = arr,index = [i for i in range(6)], columns = \"Departman Maaş Çalışan\".split(\" \"))"
   ]
  },
  {
   "cell_type": "code",
   "execution_count": 9,
   "id": "8786e52a",
   "metadata": {},
   "outputs": [
    {
     "data": {
      "text/html": [
       "<div>\n",
       "<style scoped>\n",
       "    .dataframe tbody tr th:only-of-type {\n",
       "        vertical-align: middle;\n",
       "    }\n",
       "\n",
       "    .dataframe tbody tr th {\n",
       "        vertical-align: top;\n",
       "    }\n",
       "\n",
       "    .dataframe thead th {\n",
       "        text-align: right;\n",
       "    }\n",
       "</style>\n",
       "<table border=\"1\" class=\"dataframe\">\n",
       "  <thead>\n",
       "    <tr style=\"text-align: right;\">\n",
       "      <th></th>\n",
       "      <th>Departman</th>\n",
       "      <th>Maaş</th>\n",
       "      <th>Çalışan</th>\n",
       "    </tr>\n",
       "  </thead>\n",
       "  <tbody>\n",
       "    <tr>\n",
       "      <th>0</th>\n",
       "      <td>Bilişim</td>\n",
       "      <td>3000</td>\n",
       "      <td>Mustafa</td>\n",
       "    </tr>\n",
       "    <tr>\n",
       "      <th>1</th>\n",
       "      <td>İnsan Kaynakları</td>\n",
       "      <td>3500</td>\n",
       "      <td>Jale</td>\n",
       "    </tr>\n",
       "    <tr>\n",
       "      <th>2</th>\n",
       "      <td>Üretim</td>\n",
       "      <td>2500</td>\n",
       "      <td>Kadir</td>\n",
       "    </tr>\n",
       "    <tr>\n",
       "      <th>3</th>\n",
       "      <td>Üretim</td>\n",
       "      <td>4500</td>\n",
       "      <td>Zeynep</td>\n",
       "    </tr>\n",
       "    <tr>\n",
       "      <th>4</th>\n",
       "      <td>Bilişim</td>\n",
       "      <td>4000</td>\n",
       "      <td>Murat</td>\n",
       "    </tr>\n",
       "    <tr>\n",
       "      <th>5</th>\n",
       "      <td>İnsan Kaynakları</td>\n",
       "      <td>2000</td>\n",
       "      <td>Ahmet</td>\n",
       "    </tr>\n",
       "  </tbody>\n",
       "</table>\n",
       "</div>"
      ],
      "text/plain": [
       "          Departman  Maaş  Çalışan\n",
       "0           Bilişim  3000  Mustafa\n",
       "1  İnsan Kaynakları  3500     Jale\n",
       "2            Üretim  2500    Kadir\n",
       "3            Üretim  4500   Zeynep\n",
       "4           Bilişim  4000    Murat\n",
       "5  İnsan Kaynakları  2000    Ahmet"
      ]
     },
     "execution_count": 9,
     "metadata": {},
     "output_type": "execute_result"
    }
   ],
   "source": [
    "df"
   ]
  },
  {
   "cell_type": "code",
   "execution_count": 10,
   "id": "b55e678b",
   "metadata": {},
   "outputs": [],
   "source": [
    "#groupby belli bir column değerine göre işlemler yapmayı sağlar"
   ]
  },
  {
   "cell_type": "code",
   "execution_count": 15,
   "id": "37c70ea2",
   "metadata": {},
   "outputs": [],
   "source": [
    "#ya da dataset = \n",
    "dataset = {\n",
    "        \"Departman\":[\"Bilişim\",\"İnsan Kaynakları\",\"Üretim\",\"Üretim\",\"Bilişim\",\"İnsan Kaynakları\"],\n",
    "        \"Maaş\":[3000,3500,2500,4500,4000,2000],\n",
    "        \"Çalışan\": [\"Mustafa\",\"Jale\",\"Kadir\",\"Zeynep\",\"Murat\",\"Ahmet\"]\n",
    "        }\n"
   ]
  },
  {
   "cell_type": "code",
   "execution_count": 16,
   "id": "beb971b7",
   "metadata": {},
   "outputs": [],
   "source": [
    "df = pd.DataFrame(dataset)"
   ]
  },
  {
   "cell_type": "code",
   "execution_count": 17,
   "id": "ceef752f",
   "metadata": {},
   "outputs": [
    {
     "data": {
      "text/html": [
       "<div>\n",
       "<style scoped>\n",
       "    .dataframe tbody tr th:only-of-type {\n",
       "        vertical-align: middle;\n",
       "    }\n",
       "\n",
       "    .dataframe tbody tr th {\n",
       "        vertical-align: top;\n",
       "    }\n",
       "\n",
       "    .dataframe thead th {\n",
       "        text-align: right;\n",
       "    }\n",
       "</style>\n",
       "<table border=\"1\" class=\"dataframe\">\n",
       "  <thead>\n",
       "    <tr style=\"text-align: right;\">\n",
       "      <th></th>\n",
       "      <th>Departman</th>\n",
       "      <th>Maaş</th>\n",
       "      <th>Çalışan</th>\n",
       "    </tr>\n",
       "  </thead>\n",
       "  <tbody>\n",
       "    <tr>\n",
       "      <th>0</th>\n",
       "      <td>Bilişim</td>\n",
       "      <td>3000</td>\n",
       "      <td>Mustafa</td>\n",
       "    </tr>\n",
       "    <tr>\n",
       "      <th>1</th>\n",
       "      <td>İnsan Kaynakları</td>\n",
       "      <td>3500</td>\n",
       "      <td>Jale</td>\n",
       "    </tr>\n",
       "    <tr>\n",
       "      <th>2</th>\n",
       "      <td>Üretim</td>\n",
       "      <td>2500</td>\n",
       "      <td>Kadir</td>\n",
       "    </tr>\n",
       "    <tr>\n",
       "      <th>3</th>\n",
       "      <td>Üretim</td>\n",
       "      <td>4500</td>\n",
       "      <td>Zeynep</td>\n",
       "    </tr>\n",
       "    <tr>\n",
       "      <th>4</th>\n",
       "      <td>Bilişim</td>\n",
       "      <td>4000</td>\n",
       "      <td>Murat</td>\n",
       "    </tr>\n",
       "    <tr>\n",
       "      <th>5</th>\n",
       "      <td>İnsan Kaynakları</td>\n",
       "      <td>2000</td>\n",
       "      <td>Ahmet</td>\n",
       "    </tr>\n",
       "  </tbody>\n",
       "</table>\n",
       "</div>"
      ],
      "text/plain": [
       "          Departman  Maaş  Çalışan\n",
       "0           Bilişim  3000  Mustafa\n",
       "1  İnsan Kaynakları  3500     Jale\n",
       "2            Üretim  2500    Kadir\n",
       "3            Üretim  4500   Zeynep\n",
       "4           Bilişim  4000    Murat\n",
       "5  İnsan Kaynakları  2000    Ahmet"
      ]
     },
     "execution_count": 17,
     "metadata": {},
     "output_type": "execute_result"
    }
   ],
   "source": [
    "df"
   ]
  },
  {
   "cell_type": "code",
   "execution_count": 18,
   "id": "87b9e66b",
   "metadata": {},
   "outputs": [],
   "source": [
    "DepGroup = df.groupby(\"Departman\")"
   ]
  },
  {
   "cell_type": "code",
   "execution_count": 19,
   "id": "0667a3e7",
   "metadata": {},
   "outputs": [
    {
     "data": {
      "text/plain": [
       "<pandas.core.groupby.generic.DataFrameGroupBy object at 0x000001BFF426D970>"
      ]
     },
     "execution_count": 19,
     "metadata": {},
     "output_type": "execute_result"
    }
   ],
   "source": [
    "DepGroup"
   ]
  },
  {
   "cell_type": "code",
   "execution_count": 20,
   "id": "c3660ea4",
   "metadata": {},
   "outputs": [
    {
     "data": {
      "text/html": [
       "<div>\n",
       "<style scoped>\n",
       "    .dataframe tbody tr th:only-of-type {\n",
       "        vertical-align: middle;\n",
       "    }\n",
       "\n",
       "    .dataframe tbody tr th {\n",
       "        vertical-align: top;\n",
       "    }\n",
       "\n",
       "    .dataframe thead th {\n",
       "        text-align: right;\n",
       "    }\n",
       "</style>\n",
       "<table border=\"1\" class=\"dataframe\">\n",
       "  <thead>\n",
       "    <tr style=\"text-align: right;\">\n",
       "      <th></th>\n",
       "      <th>Maaş</th>\n",
       "    </tr>\n",
       "    <tr>\n",
       "      <th>Departman</th>\n",
       "      <th></th>\n",
       "    </tr>\n",
       "  </thead>\n",
       "  <tbody>\n",
       "    <tr>\n",
       "      <th>Bilişim</th>\n",
       "      <td>7000</td>\n",
       "    </tr>\n",
       "    <tr>\n",
       "      <th>Üretim</th>\n",
       "      <td>7000</td>\n",
       "    </tr>\n",
       "    <tr>\n",
       "      <th>İnsan Kaynakları</th>\n",
       "      <td>5500</td>\n",
       "    </tr>\n",
       "  </tbody>\n",
       "</table>\n",
       "</div>"
      ],
      "text/plain": [
       "                  Maaş\n",
       "Departman             \n",
       "Bilişim           7000\n",
       "Üretim            7000\n",
       "İnsan Kaynakları  5500"
      ]
     },
     "execution_count": 20,
     "metadata": {},
     "output_type": "execute_result"
    }
   ],
   "source": [
    "DepGroup.sum()"
   ]
  },
  {
   "cell_type": "code",
   "execution_count": 21,
   "id": "822a74a4",
   "metadata": {},
   "outputs": [
    {
     "data": {
      "text/html": [
       "<div>\n",
       "<style scoped>\n",
       "    .dataframe tbody tr th:only-of-type {\n",
       "        vertical-align: middle;\n",
       "    }\n",
       "\n",
       "    .dataframe tbody tr th {\n",
       "        vertical-align: top;\n",
       "    }\n",
       "\n",
       "    .dataframe thead th {\n",
       "        text-align: right;\n",
       "    }\n",
       "</style>\n",
       "<table border=\"1\" class=\"dataframe\">\n",
       "  <thead>\n",
       "    <tr style=\"text-align: right;\">\n",
       "      <th></th>\n",
       "      <th>Maaş</th>\n",
       "    </tr>\n",
       "    <tr>\n",
       "      <th>Departman</th>\n",
       "      <th></th>\n",
       "    </tr>\n",
       "  </thead>\n",
       "  <tbody>\n",
       "    <tr>\n",
       "      <th>Bilişim</th>\n",
       "      <td>3500.0</td>\n",
       "    </tr>\n",
       "    <tr>\n",
       "      <th>Üretim</th>\n",
       "      <td>3500.0</td>\n",
       "    </tr>\n",
       "    <tr>\n",
       "      <th>İnsan Kaynakları</th>\n",
       "      <td>2750.0</td>\n",
       "    </tr>\n",
       "  </tbody>\n",
       "</table>\n",
       "</div>"
      ],
      "text/plain": [
       "                    Maaş\n",
       "Departman               \n",
       "Bilişim           3500.0\n",
       "Üretim            3500.0\n",
       "İnsan Kaynakları  2750.0"
      ]
     },
     "execution_count": 21,
     "metadata": {},
     "output_type": "execute_result"
    }
   ],
   "source": [
    "DepGroup.mean()"
   ]
  },
  {
   "cell_type": "code",
   "execution_count": 22,
   "id": "bfc149cb",
   "metadata": {},
   "outputs": [
    {
     "data": {
      "text/html": [
       "<div>\n",
       "<style scoped>\n",
       "    .dataframe tbody tr th:only-of-type {\n",
       "        vertical-align: middle;\n",
       "    }\n",
       "\n",
       "    .dataframe tbody tr th {\n",
       "        vertical-align: top;\n",
       "    }\n",
       "\n",
       "    .dataframe thead th {\n",
       "        text-align: right;\n",
       "    }\n",
       "</style>\n",
       "<table border=\"1\" class=\"dataframe\">\n",
       "  <thead>\n",
       "    <tr style=\"text-align: right;\">\n",
       "      <th></th>\n",
       "      <th>Maaş</th>\n",
       "    </tr>\n",
       "    <tr>\n",
       "      <th>Departman</th>\n",
       "      <th></th>\n",
       "    </tr>\n",
       "  </thead>\n",
       "  <tbody>\n",
       "    <tr>\n",
       "      <th>Bilişim</th>\n",
       "      <td>7000</td>\n",
       "    </tr>\n",
       "    <tr>\n",
       "      <th>Üretim</th>\n",
       "      <td>7000</td>\n",
       "    </tr>\n",
       "    <tr>\n",
       "      <th>İnsan Kaynakları</th>\n",
       "      <td>5500</td>\n",
       "    </tr>\n",
       "  </tbody>\n",
       "</table>\n",
       "</div>"
      ],
      "text/plain": [
       "                  Maaş\n",
       "Departman             \n",
       "Bilişim           7000\n",
       "Üretim            7000\n",
       "İnsan Kaynakları  5500"
      ]
     },
     "execution_count": 22,
     "metadata": {},
     "output_type": "execute_result"
    }
   ],
   "source": [
    "df.groupby(\"Departman\").sum()"
   ]
  },
  {
   "cell_type": "code",
   "execution_count": 23,
   "id": "084ccbc5",
   "metadata": {},
   "outputs": [
    {
     "data": {
      "text/html": [
       "<div>\n",
       "<style scoped>\n",
       "    .dataframe tbody tr th:only-of-type {\n",
       "        vertical-align: middle;\n",
       "    }\n",
       "\n",
       "    .dataframe tbody tr th {\n",
       "        vertical-align: top;\n",
       "    }\n",
       "\n",
       "    .dataframe thead th {\n",
       "        text-align: right;\n",
       "    }\n",
       "</style>\n",
       "<table border=\"1\" class=\"dataframe\">\n",
       "  <thead>\n",
       "    <tr style=\"text-align: right;\">\n",
       "      <th></th>\n",
       "      <th>Maaş</th>\n",
       "    </tr>\n",
       "    <tr>\n",
       "      <th>Departman</th>\n",
       "      <th></th>\n",
       "    </tr>\n",
       "  </thead>\n",
       "  <tbody>\n",
       "    <tr>\n",
       "      <th>Bilişim</th>\n",
       "      <td>3500.0</td>\n",
       "    </tr>\n",
       "    <tr>\n",
       "      <th>Üretim</th>\n",
       "      <td>3500.0</td>\n",
       "    </tr>\n",
       "    <tr>\n",
       "      <th>İnsan Kaynakları</th>\n",
       "      <td>2750.0</td>\n",
       "    </tr>\n",
       "  </tbody>\n",
       "</table>\n",
       "</div>"
      ],
      "text/plain": [
       "                    Maaş\n",
       "Departman               \n",
       "Bilişim           3500.0\n",
       "Üretim            3500.0\n",
       "İnsan Kaynakları  2750.0"
      ]
     },
     "execution_count": 23,
     "metadata": {},
     "output_type": "execute_result"
    }
   ],
   "source": [
    "df.groupby(\"Departman\").mean()"
   ]
  },
  {
   "cell_type": "code",
   "execution_count": 24,
   "id": "60022fa2",
   "metadata": {},
   "outputs": [
    {
     "data": {
      "text/plain": [
       "Maaş    7000\n",
       "Name: Bilişim, dtype: int64"
      ]
     },
     "execution_count": 24,
     "metadata": {},
     "output_type": "execute_result"
    }
   ],
   "source": [
    "df.groupby(\"Departman\").sum().loc[\"Bilişim\"]"
   ]
  },
  {
   "cell_type": "code",
   "execution_count": 25,
   "id": "7112498c",
   "metadata": {},
   "outputs": [
    {
     "data": {
      "text/plain": [
       "7000"
      ]
     },
     "execution_count": 25,
     "metadata": {},
     "output_type": "execute_result"
    }
   ],
   "source": [
    "int(df.groupby(\"Departman\").sum().loc[\"Bilişim\"])"
   ]
  },
  {
   "cell_type": "code",
   "execution_count": 26,
   "id": "a8d42c8a",
   "metadata": {},
   "outputs": [
    {
     "data": {
      "text/html": [
       "<div>\n",
       "<style scoped>\n",
       "    .dataframe tbody tr th:only-of-type {\n",
       "        vertical-align: middle;\n",
       "    }\n",
       "\n",
       "    .dataframe tbody tr th {\n",
       "        vertical-align: top;\n",
       "    }\n",
       "\n",
       "    .dataframe thead th {\n",
       "        text-align: right;\n",
       "    }\n",
       "</style>\n",
       "<table border=\"1\" class=\"dataframe\">\n",
       "  <thead>\n",
       "    <tr style=\"text-align: right;\">\n",
       "      <th></th>\n",
       "      <th>Maaş</th>\n",
       "      <th>Çalışan</th>\n",
       "    </tr>\n",
       "    <tr>\n",
       "      <th>Departman</th>\n",
       "      <th></th>\n",
       "      <th></th>\n",
       "    </tr>\n",
       "  </thead>\n",
       "  <tbody>\n",
       "    <tr>\n",
       "      <th>Bilişim</th>\n",
       "      <td>2</td>\n",
       "      <td>2</td>\n",
       "    </tr>\n",
       "    <tr>\n",
       "      <th>Üretim</th>\n",
       "      <td>2</td>\n",
       "      <td>2</td>\n",
       "    </tr>\n",
       "    <tr>\n",
       "      <th>İnsan Kaynakları</th>\n",
       "      <td>2</td>\n",
       "      <td>2</td>\n",
       "    </tr>\n",
       "  </tbody>\n",
       "</table>\n",
       "</div>"
      ],
      "text/plain": [
       "                  Maaş  Çalışan\n",
       "Departman                      \n",
       "Bilişim              2        2\n",
       "Üretim               2        2\n",
       "İnsan Kaynakları     2        2"
      ]
     },
     "execution_count": 26,
     "metadata": {},
     "output_type": "execute_result"
    }
   ],
   "source": [
    "df.groupby(\"Departman\").count()#iki çalışan iki maaş var demek"
   ]
  },
  {
   "cell_type": "code",
   "execution_count": 27,
   "id": "2cfb9167",
   "metadata": {},
   "outputs": [
    {
     "data": {
      "text/html": [
       "<div>\n",
       "<style scoped>\n",
       "    .dataframe tbody tr th:only-of-type {\n",
       "        vertical-align: middle;\n",
       "    }\n",
       "\n",
       "    .dataframe tbody tr th {\n",
       "        vertical-align: top;\n",
       "    }\n",
       "\n",
       "    .dataframe thead th {\n",
       "        text-align: right;\n",
       "    }\n",
       "</style>\n",
       "<table border=\"1\" class=\"dataframe\">\n",
       "  <thead>\n",
       "    <tr style=\"text-align: right;\">\n",
       "      <th></th>\n",
       "      <th>Maaş</th>\n",
       "      <th>Çalışan</th>\n",
       "    </tr>\n",
       "    <tr>\n",
       "      <th>Departman</th>\n",
       "      <th></th>\n",
       "      <th></th>\n",
       "    </tr>\n",
       "  </thead>\n",
       "  <tbody>\n",
       "    <tr>\n",
       "      <th>Bilişim</th>\n",
       "      <td>4000</td>\n",
       "      <td>Mustafa</td>\n",
       "    </tr>\n",
       "    <tr>\n",
       "      <th>Üretim</th>\n",
       "      <td>4500</td>\n",
       "      <td>Zeynep</td>\n",
       "    </tr>\n",
       "    <tr>\n",
       "      <th>İnsan Kaynakları</th>\n",
       "      <td>3500</td>\n",
       "      <td>Jale</td>\n",
       "    </tr>\n",
       "  </tbody>\n",
       "</table>\n",
       "</div>"
      ],
      "text/plain": [
       "                  Maaş  Çalışan\n",
       "Departman                      \n",
       "Bilişim           4000  Mustafa\n",
       "Üretim            4500   Zeynep\n",
       "İnsan Kaynakları  3500     Jale"
      ]
     },
     "execution_count": 27,
     "metadata": {},
     "output_type": "execute_result"
    }
   ],
   "source": [
    "df.groupby(\"Departman\").max()"
   ]
  },
  {
   "cell_type": "code",
   "execution_count": 33,
   "id": "fff1d038",
   "metadata": {},
   "outputs": [
    {
     "data": {
      "text/plain": [
       "Departman    Bilişimİnsan KaynaklarıÜretimÜretimBilişimİnsa...\n",
       "Maaş                                                     19500\n",
       "Çalışan                       MustafaJaleKadirZeynepMuratAhmet\n",
       "dtype: object"
      ]
     },
     "execution_count": 33,
     "metadata": {},
     "output_type": "execute_result"
    }
   ],
   "source": [
    "df.sum()"
   ]
  },
  {
   "cell_type": "code",
   "execution_count": 35,
   "id": "e8f5fa49",
   "metadata": {},
   "outputs": [
    {
     "data": {
      "text/html": [
       "<div>\n",
       "<style scoped>\n",
       "    .dataframe tbody tr th:only-of-type {\n",
       "        vertical-align: middle;\n",
       "    }\n",
       "\n",
       "    .dataframe tbody tr th {\n",
       "        vertical-align: top;\n",
       "    }\n",
       "\n",
       "    .dataframe thead th {\n",
       "        text-align: right;\n",
       "    }\n",
       "</style>\n",
       "<table border=\"1\" class=\"dataframe\">\n",
       "  <thead>\n",
       "    <tr style=\"text-align: right;\">\n",
       "      <th></th>\n",
       "      <th>Departman</th>\n",
       "      <th>Maaş</th>\n",
       "    </tr>\n",
       "    <tr>\n",
       "      <th>Çalışan</th>\n",
       "      <th></th>\n",
       "      <th></th>\n",
       "    </tr>\n",
       "  </thead>\n",
       "  <tbody>\n",
       "    <tr>\n",
       "      <th>Ahmet</th>\n",
       "      <td>İnsan Kaynakları</td>\n",
       "      <td>2000</td>\n",
       "    </tr>\n",
       "    <tr>\n",
       "      <th>Jale</th>\n",
       "      <td>İnsan Kaynakları</td>\n",
       "      <td>3500</td>\n",
       "    </tr>\n",
       "    <tr>\n",
       "      <th>Kadir</th>\n",
       "      <td>Üretim</td>\n",
       "      <td>2500</td>\n",
       "    </tr>\n",
       "    <tr>\n",
       "      <th>Murat</th>\n",
       "      <td>Bilişim</td>\n",
       "      <td>4000</td>\n",
       "    </tr>\n",
       "    <tr>\n",
       "      <th>Mustafa</th>\n",
       "      <td>Bilişim</td>\n",
       "      <td>3000</td>\n",
       "    </tr>\n",
       "    <tr>\n",
       "      <th>Zeynep</th>\n",
       "      <td>Üretim</td>\n",
       "      <td>4500</td>\n",
       "    </tr>\n",
       "  </tbody>\n",
       "</table>\n",
       "</div>"
      ],
      "text/plain": [
       "                Departman  Maaş\n",
       "Çalışan                        \n",
       "Ahmet    İnsan Kaynakları  2000\n",
       "Jale     İnsan Kaynakları  3500\n",
       "Kadir              Üretim  2500\n",
       "Murat             Bilişim  4000\n",
       "Mustafa           Bilişim  3000\n",
       "Zeynep             Üretim  4500"
      ]
     },
     "execution_count": 35,
     "metadata": {},
     "output_type": "execute_result"
    }
   ],
   "source": [
    "df.groupby(\"Çalışan\").max()#????neden en yüksek maaşı göstermiyor?"
   ]
  },
  {
   "cell_type": "code",
   "execution_count": 36,
   "id": "7f747dbc",
   "metadata": {},
   "outputs": [],
   "source": [
    "df[\"Hobi\"] = \"Yüzme Voleybol Voleybol Basketbol Dans Gitar\".split(\" \")"
   ]
  },
  {
   "cell_type": "code",
   "execution_count": 37,
   "id": "32c00d5c",
   "metadata": {},
   "outputs": [
    {
     "data": {
      "text/html": [
       "<div>\n",
       "<style scoped>\n",
       "    .dataframe tbody tr th:only-of-type {\n",
       "        vertical-align: middle;\n",
       "    }\n",
       "\n",
       "    .dataframe tbody tr th {\n",
       "        vertical-align: top;\n",
       "    }\n",
       "\n",
       "    .dataframe thead th {\n",
       "        text-align: right;\n",
       "    }\n",
       "</style>\n",
       "<table border=\"1\" class=\"dataframe\">\n",
       "  <thead>\n",
       "    <tr style=\"text-align: right;\">\n",
       "      <th></th>\n",
       "      <th>Departman</th>\n",
       "      <th>Maaş</th>\n",
       "      <th>Çalışan</th>\n",
       "      <th>Hobi</th>\n",
       "    </tr>\n",
       "  </thead>\n",
       "  <tbody>\n",
       "    <tr>\n",
       "      <th>0</th>\n",
       "      <td>Bilişim</td>\n",
       "      <td>3000</td>\n",
       "      <td>Mustafa</td>\n",
       "      <td>Yüzme</td>\n",
       "    </tr>\n",
       "    <tr>\n",
       "      <th>1</th>\n",
       "      <td>İnsan Kaynakları</td>\n",
       "      <td>3500</td>\n",
       "      <td>Jale</td>\n",
       "      <td>Voleybol</td>\n",
       "    </tr>\n",
       "    <tr>\n",
       "      <th>2</th>\n",
       "      <td>Üretim</td>\n",
       "      <td>2500</td>\n",
       "      <td>Kadir</td>\n",
       "      <td>Voleybol</td>\n",
       "    </tr>\n",
       "    <tr>\n",
       "      <th>3</th>\n",
       "      <td>Üretim</td>\n",
       "      <td>4500</td>\n",
       "      <td>Zeynep</td>\n",
       "      <td>Basketbol</td>\n",
       "    </tr>\n",
       "    <tr>\n",
       "      <th>4</th>\n",
       "      <td>Bilişim</td>\n",
       "      <td>4000</td>\n",
       "      <td>Murat</td>\n",
       "      <td>Dans</td>\n",
       "    </tr>\n",
       "    <tr>\n",
       "      <th>5</th>\n",
       "      <td>İnsan Kaynakları</td>\n",
       "      <td>2000</td>\n",
       "      <td>Ahmet</td>\n",
       "      <td>Gitar</td>\n",
       "    </tr>\n",
       "  </tbody>\n",
       "</table>\n",
       "</div>"
      ],
      "text/plain": [
       "          Departman  Maaş  Çalışan       Hobi\n",
       "0           Bilişim  3000  Mustafa      Yüzme\n",
       "1  İnsan Kaynakları  3500     Jale   Voleybol\n",
       "2            Üretim  2500    Kadir   Voleybol\n",
       "3            Üretim  4500   Zeynep  Basketbol\n",
       "4           Bilişim  4000    Murat       Dans\n",
       "5  İnsan Kaynakları  2000    Ahmet      Gitar"
      ]
     },
     "execution_count": 37,
     "metadata": {},
     "output_type": "execute_result"
    }
   ],
   "source": [
    "df"
   ]
  },
  {
   "cell_type": "code",
   "execution_count": 41,
   "id": "7bd86072",
   "metadata": {},
   "outputs": [],
   "source": [
    "df.drop(\"Hobi\", axis = 1, inplace=True)"
   ]
  },
  {
   "cell_type": "code",
   "execution_count": 42,
   "id": "ffc3cb8d",
   "metadata": {},
   "outputs": [
    {
     "data": {
      "text/html": [
       "<div>\n",
       "<style scoped>\n",
       "    .dataframe tbody tr th:only-of-type {\n",
       "        vertical-align: middle;\n",
       "    }\n",
       "\n",
       "    .dataframe tbody tr th {\n",
       "        vertical-align: top;\n",
       "    }\n",
       "\n",
       "    .dataframe thead th {\n",
       "        text-align: right;\n",
       "    }\n",
       "</style>\n",
       "<table border=\"1\" class=\"dataframe\">\n",
       "  <thead>\n",
       "    <tr style=\"text-align: right;\">\n",
       "      <th></th>\n",
       "      <th>Maaş</th>\n",
       "      <th>Çalışan</th>\n",
       "    </tr>\n",
       "    <tr>\n",
       "      <th>Departman</th>\n",
       "      <th></th>\n",
       "      <th></th>\n",
       "    </tr>\n",
       "  </thead>\n",
       "  <tbody>\n",
       "    <tr>\n",
       "      <th>Bilişim</th>\n",
       "      <td>3000</td>\n",
       "      <td>Murat</td>\n",
       "    </tr>\n",
       "    <tr>\n",
       "      <th>Üretim</th>\n",
       "      <td>2500</td>\n",
       "      <td>Kadir</td>\n",
       "    </tr>\n",
       "    <tr>\n",
       "      <th>İnsan Kaynakları</th>\n",
       "      <td>2000</td>\n",
       "      <td>Ahmet</td>\n",
       "    </tr>\n",
       "  </tbody>\n",
       "</table>\n",
       "</div>"
      ],
      "text/plain": [
       "                  Maaş Çalışan\n",
       "Departman                     \n",
       "Bilişim           3000   Murat\n",
       "Üretim            2500   Kadir\n",
       "İnsan Kaynakları  2000   Ahmet"
      ]
     },
     "execution_count": 42,
     "metadata": {},
     "output_type": "execute_result"
    }
   ],
   "source": [
    "df.groupby(\"Departman\").min()"
   ]
  },
  {
   "cell_type": "code",
   "execution_count": 46,
   "id": "893a13d0",
   "metadata": {},
   "outputs": [
    {
     "data": {
      "text/plain": [
       "Departman\n",
       "Bilişim             3000\n",
       "Üretim              2500\n",
       "İnsan Kaynakları    2000\n",
       "Name: Maaş, dtype: int64"
      ]
     },
     "execution_count": 46,
     "metadata": {},
     "output_type": "execute_result"
    }
   ],
   "source": [
    "df.groupby(\"Departman\").min()[\"Maaş\"]"
   ]
  },
  {
   "cell_type": "code",
   "execution_count": 47,
   "id": "234fa190",
   "metadata": {},
   "outputs": [
    {
     "data": {
      "text/plain": [
       "3000"
      ]
     },
     "execution_count": 47,
     "metadata": {},
     "output_type": "execute_result"
    }
   ],
   "source": [
    "df.groupby(\"Departman\").min()[\"Maaş\"][\"Bilişim\"]"
   ]
  },
  {
   "cell_type": "code",
   "execution_count": 48,
   "id": "a91e7df1",
   "metadata": {},
   "outputs": [
    {
     "data": {
      "text/html": [
       "<div>\n",
       "<style scoped>\n",
       "    .dataframe tbody tr th:only-of-type {\n",
       "        vertical-align: middle;\n",
       "    }\n",
       "\n",
       "    .dataframe tbody tr th {\n",
       "        vertical-align: top;\n",
       "    }\n",
       "\n",
       "    .dataframe thead th {\n",
       "        text-align: right;\n",
       "    }\n",
       "</style>\n",
       "<table border=\"1\" class=\"dataframe\">\n",
       "  <thead>\n",
       "    <tr style=\"text-align: right;\">\n",
       "      <th></th>\n",
       "      <th>Maaş</th>\n",
       "    </tr>\n",
       "    <tr>\n",
       "      <th>Departman</th>\n",
       "      <th></th>\n",
       "    </tr>\n",
       "  </thead>\n",
       "  <tbody>\n",
       "    <tr>\n",
       "      <th>Bilişim</th>\n",
       "      <td>3500.0</td>\n",
       "    </tr>\n",
       "    <tr>\n",
       "      <th>Üretim</th>\n",
       "      <td>3500.0</td>\n",
       "    </tr>\n",
       "    <tr>\n",
       "      <th>İnsan Kaynakları</th>\n",
       "      <td>2750.0</td>\n",
       "    </tr>\n",
       "  </tbody>\n",
       "</table>\n",
       "</div>"
      ],
      "text/plain": [
       "                    Maaş\n",
       "Departman               \n",
       "Bilişim           3500.0\n",
       "Üretim            3500.0\n",
       "İnsan Kaynakları  2750.0"
      ]
     },
     "execution_count": 48,
     "metadata": {},
     "output_type": "execute_result"
    }
   ],
   "source": [
    "df.groupby(\"Departman\").mean()"
   ]
  },
  {
   "cell_type": "code",
   "execution_count": 51,
   "id": "3ebed585",
   "metadata": {},
   "outputs": [
    {
     "data": {
      "text/plain": [
       "2750.0"
      ]
     },
     "execution_count": 51,
     "metadata": {},
     "output_type": "execute_result"
    }
   ],
   "source": [
    "df.groupby(\"Departman\").mean()[\"Maaş\"][\"İnsan Kaynakları\"]#Önce sütun sonra index(satır)"
   ]
  },
  {
   "cell_type": "code",
   "execution_count": null,
   "id": "3c106194",
   "metadata": {},
   "outputs": [],
   "source": []
  }
 ],
 "metadata": {
  "kernelspec": {
   "display_name": "Python 3 (ipykernel)",
   "language": "python",
   "name": "python3"
  },
  "language_info": {
   "codemirror_mode": {
    "name": "ipython",
    "version": 3
   },
   "file_extension": ".py",
   "mimetype": "text/x-python",
   "name": "python",
   "nbconvert_exporter": "python",
   "pygments_lexer": "ipython3",
   "version": "3.10.9"
  }
 },
 "nbformat": 4,
 "nbformat_minor": 5
}
