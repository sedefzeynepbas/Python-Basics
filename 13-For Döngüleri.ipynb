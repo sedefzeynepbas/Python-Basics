{
 "cells": [
  {
   "cell_type": "code",
   "execution_count": 1,
   "id": "651c7465",
   "metadata": {},
   "outputs": [
    {
     "data": {
      "text/plain": [
       "True"
      ]
     },
     "execution_count": 1,
     "metadata": {},
     "output_type": "execute_result"
    }
   ],
   "source": [
    "\"a\" in \"Merhaba\""
   ]
  },
  {
   "cell_type": "code",
   "execution_count": 2,
   "id": "d651301f",
   "metadata": {},
   "outputs": [
    {
     "data": {
      "text/plain": [
       "False"
      ]
     },
     "execution_count": 2,
     "metadata": {},
     "output_type": "execute_result"
    }
   ],
   "source": [
    "\"A\" in \"Merhaba\""
   ]
  },
  {
   "cell_type": "code",
   "execution_count": 3,
   "id": "a5bf49bc",
   "metadata": {},
   "outputs": [
    {
     "data": {
      "text/plain": [
       "False"
      ]
     },
     "execution_count": 3,
     "metadata": {},
     "output_type": "execute_result"
    }
   ],
   "source": [
    "5 in [1,2,3,4]"
   ]
  },
  {
   "cell_type": "code",
   "execution_count": 4,
   "id": "d03672fc",
   "metadata": {},
   "outputs": [],
   "source": [
    "b = [1,2,3,4]"
   ]
  },
  {
   "cell_type": "code",
   "execution_count": 5,
   "id": "d0ba0871",
   "metadata": {},
   "outputs": [
    {
     "data": {
      "text/plain": [
       "True"
      ]
     },
     "execution_count": 5,
     "metadata": {},
     "output_type": "execute_result"
    }
   ],
   "source": [
    "3 in b"
   ]
  },
  {
   "cell_type": "code",
   "execution_count": 6,
   "id": "429132b9",
   "metadata": {},
   "outputs": [
    {
     "data": {
      "text/plain": [
       "False"
      ]
     },
     "execution_count": 6,
     "metadata": {},
     "output_type": "execute_result"
    }
   ],
   "source": [
    "5 in b"
   ]
  },
  {
   "cell_type": "code",
   "execution_count": 7,
   "id": "e2248744",
   "metadata": {},
   "outputs": [
    {
     "data": {
      "text/plain": [
       "True"
      ]
     },
     "execution_count": 7,
     "metadata": {},
     "output_type": "execute_result"
    }
   ],
   "source": [
    "\"p\" in \"python\""
   ]
  },
  {
   "cell_type": "code",
   "execution_count": 8,
   "id": "c817669f",
   "metadata": {},
   "outputs": [
    {
     "data": {
      "text/plain": [
       "False"
      ]
     },
     "execution_count": 8,
     "metadata": {},
     "output_type": "execute_result"
    }
   ],
   "source": [
    "\"s\" in b"
   ]
  },
  {
   "cell_type": "code",
   "execution_count": 9,
   "id": "1c08727f",
   "metadata": {},
   "outputs": [
    {
     "data": {
      "text/plain": [
       "False"
      ]
     },
     "execution_count": 9,
     "metadata": {},
     "output_type": "execute_result"
    }
   ],
   "source": [
    "\"s\" in \"python\""
   ]
  },
  {
   "cell_type": "code",
   "execution_count": 10,
   "id": "6e46409a",
   "metadata": {},
   "outputs": [
    {
     "data": {
      "text/plain": [
       "False"
      ]
     },
     "execution_count": 10,
     "metadata": {},
     "output_type": "execute_result"
    }
   ],
   "source": [
    "4 in (1,2,3)"
   ]
  },
  {
   "cell_type": "code",
   "execution_count": 11,
   "id": "bf4624ed",
   "metadata": {},
   "outputs": [
    {
     "data": {
      "text/plain": [
       "True"
      ]
     },
     "execution_count": 11,
     "metadata": {},
     "output_type": "execute_result"
    }
   ],
   "source": [
    "not 4 in (1,2,3)"
   ]
  },
  {
   "cell_type": "markdown",
   "id": "15e828cb",
   "metadata": {},
   "source": [
    "demetlerin strignlerin listelerin vs içinde gezmeyi sağlayan döngü"
   ]
  },
  {
   "cell_type": "code",
   "execution_count": 12,
   "id": "eef09203",
   "metadata": {},
   "outputs": [],
   "source": [
    "liste = [1,2,3,4,5,6,7]"
   ]
  },
  {
   "cell_type": "code",
   "execution_count": 13,
   "id": "b4241908",
   "metadata": {},
   "outputs": [
    {
     "name": "stdout",
     "output_type": "stream",
     "text": [
      "1\n",
      "2\n",
      "3\n",
      "4\n",
      "5\n",
      "6\n",
      "7\n"
     ]
    }
   ],
   "source": [
    "for eleman in liste: \n",
    "    print(eleman)"
   ]
  },
  {
   "cell_type": "markdown",
   "id": "11f8ab09",
   "metadata": {},
   "source": [
    "\"\"\"ilk döngüde eleman olarak yazdığın değişken her dönüşte bir elemana eşit oluyor elemanlar bitince döngüden çıkılıyor\"\"\""
   ]
  },
  {
   "cell_type": "code",
   "execution_count": 4,
   "id": "0ce347cd",
   "metadata": {},
   "outputs": [],
   "source": [
    "toplam = 0"
   ]
  },
  {
   "cell_type": "code",
   "execution_count": 5,
   "id": "cf9357d9",
   "metadata": {},
   "outputs": [
    {
     "name": "stdout",
     "output_type": "stream",
     "text": [
      "Toplam: 1 Eleman: 1\n",
      "Toplam: 3 Eleman: 2\n",
      "Toplam: 6 Eleman: 3\n",
      "Toplam: 10 Eleman: 4\n",
      "Toplam: 15 Eleman: 5\n",
      "Toplam: 21 Eleman: 6\n",
      "Toplam: 28 Eleman: 7\n"
     ]
    }
   ],
   "source": [
    "liste = [1,2,3,4,5,6,7]\n",
    "for eleman in liste:\n",
    "    toplam = toplam + eleman\n",
    "    print(\"Toplam: {} Eleman: {}\".format(toplam,eleman))\n"
   ]
  },
  {
   "cell_type": "code",
   "execution_count": 6,
   "id": "b7338a9d",
   "metadata": {},
   "outputs": [
    {
     "name": "stdout",
     "output_type": "stream",
     "text": [
      "Toplam: 29 Eleman: 1\n",
      "Toplam: 31 Eleman: 2\n",
      "Toplam: 34 Eleman: 3\n",
      "Toplam: 38 Eleman: 4\n",
      "Toplam: 43 Eleman: 5\n",
      "Toplam: 49 Eleman: 6\n",
      "Toplam: 56 Eleman: 7\n"
     ]
    }
   ],
   "source": [
    "liste = [1,2,3,4,5,6,7]\n",
    "for eleman in liste:\n",
    "    toplam = toplam + eleman\n",
    "    print(\"Toplam: {} Eleman: {}\".format(toplam,eleman))"
   ]
  },
  {
   "cell_type": "markdown",
   "id": "08c5c02c",
   "metadata": {},
   "source": [
    "??? tekrar çalıştırınca öncesini unutmuyor\n"
   ]
  },
  {
   "cell_type": "code",
   "execution_count": 8,
   "id": "fe51738e",
   "metadata": {},
   "outputs": [
    {
     "data": {
      "text/plain": [
       "0"
      ]
     },
     "execution_count": 8,
     "metadata": {},
     "output_type": "execute_result"
    }
   ],
   "source": [
    "54 % 2"
   ]
  },
  {
   "cell_type": "code",
   "execution_count": 10,
   "id": "80fa2d5b",
   "metadata": {},
   "outputs": [
    {
     "name": "stdout",
     "output_type": "stream",
     "text": [
      "Eleman 1 bir tek sayıdır.\n",
      "Eleman 2 bir çift sayıdır.\n",
      "Eleman 3 bir tek sayıdır.\n",
      "Eleman 4 bir çift sayıdır.\n",
      "Eleman 34 bir çift sayıdır.\n",
      "Eleman 54 bir çift sayıdır.\n",
      "Eleman 63 bir tek sayıdır.\n",
      "Eleman 78 bir çift sayıdır.\n"
     ]
    }
   ],
   "source": [
    "liste = [1,2,3,4,34,54,63,78]\n",
    "\n",
    "for eleman in liste:\n",
    "    if eleman % 2 == 0:\n",
    "        print(\"Eleman {} bir çift sayıdır.\".format(eleman))\n",
    "    else:\n",
    "        print(\"Eleman {} bir tek sayıdır.\".format(eleman))"
   ]
  },
  {
   "cell_type": "code",
   "execution_count": 11,
   "id": "2d36256a",
   "metadata": {},
   "outputs": [
    {
     "name": "stdout",
     "output_type": "stream",
     "text": [
      "Çift sayılar:  2\n",
      "Çift sayılar:  4\n",
      "Çift sayılar:  34\n",
      "Çift sayılar:  54\n",
      "Çift sayılar:  78\n"
     ]
    }
   ],
   "source": [
    "liste = [1,2,3,4,34,54,63,78]\n",
    "\n",
    "for eleman in liste:\n",
    "    if eleman % 2 == 0:\n",
    "        print(\"Çift sayılar: \", eleman)\n",
    "        "
   ]
  },
  {
   "cell_type": "code",
   "execution_count": 12,
   "id": "e9e268c6",
   "metadata": {},
   "outputs": [
    {
     "name": "stdout",
     "output_type": "stream",
     "text": [
      "P\n",
      "y\n",
      "t\n",
      "h\n",
      "o\n",
      "n\n"
     ]
    }
   ],
   "source": [
    "s = \"Python\"\n",
    "\n",
    "for i in s:\n",
    "    print(i)"
   ]
  },
  {
   "cell_type": "code",
   "execution_count": 13,
   "id": "f8357c66",
   "metadata": {},
   "outputs": [
    {
     "name": "stdout",
     "output_type": "stream",
     "text": [
      "PPP\n",
      "yyy\n",
      "ttt\n",
      "hhh\n",
      "ooo\n",
      "nnn\n"
     ]
    }
   ],
   "source": [
    "s = \"Python\"\n",
    "\n",
    "for i in s:\n",
    "    print(i*3)"
   ]
  },
  {
   "cell_type": "code",
   "execution_count": 14,
   "id": "6756ed79",
   "metadata": {},
   "outputs": [
    {
     "name": "stdout",
     "output_type": "stream",
     "text": [
      "1\n",
      "2\n",
      "3\n",
      "4\n",
      "5\n"
     ]
    }
   ],
   "source": [
    "demet = (1,2,3,4,5)\n",
    "\n",
    "for a in demet:\n",
    "    print(a)"
   ]
  },
  {
   "cell_type": "code",
   "execution_count": 15,
   "id": "5fb328ca",
   "metadata": {},
   "outputs": [
    {
     "name": "stdout",
     "output_type": "stream",
     "text": [
      "(1, 2)\n",
      "(3, 4)\n",
      "(5, 6)\n",
      "(7, 8)\n"
     ]
    }
   ],
   "source": [
    "liste = [(1,2),(3,4),(5,6),(7,8)]\n",
    "\n",
    "for eleman in liste:\n",
    "    print(eleman)"
   ]
  },
  {
   "cell_type": "code",
   "execution_count": 16,
   "id": "d040cad8",
   "metadata": {},
   "outputs": [
    {
     "name": "stdout",
     "output_type": "stream",
     "text": [
      "i: 1 j: 2\n",
      "i: 3 j: 4\n",
      "i: 5 j: 6\n",
      "i: 7 j: 8\n"
     ]
    }
   ],
   "source": [
    "liste = [(1,2),(3,4),(5,6),(7,8)]\n",
    "\n",
    "for (i,j) in liste:\n",
    "    print(\"i: {} j: {}\".format(i,j))"
   ]
  },
  {
   "cell_type": "code",
   "execution_count": 17,
   "id": "eff91975",
   "metadata": {},
   "outputs": [
    {
     "name": "stdout",
     "output_type": "stream",
     "text": [
      "1 2 3\n",
      "4 5 6\n",
      "7 8 9\n",
      "10 11 12\n"
     ]
    }
   ],
   "source": [
    "liste = [(1,2,3),(4,5,6),(7,8,9),(10,11,12)]\n",
    "for (i,j,k) in liste:\n",
    "    print(i,j,k)"
   ]
  },
  {
   "cell_type": "code",
   "execution_count": 18,
   "id": "d4a673c6",
   "metadata": {},
   "outputs": [
    {
     "name": "stdout",
     "output_type": "stream",
     "text": [
      "6\n",
      "120\n",
      "504\n",
      "1320\n"
     ]
    }
   ],
   "source": [
    "liste = [(1,2,3),(4,5,6),(7,8,9),(10,11,12)]\n",
    "for (i,j,k) in liste:\n",
    "    print(i*j*k)"
   ]
  },
  {
   "cell_type": "code",
   "execution_count": 23,
   "id": "bd1bcad4",
   "metadata": {},
   "outputs": [
    {
     "data": {
      "text/plain": [
       "dict_keys(['bir', 'iki', 'üç', 'dört'])"
      ]
     },
     "execution_count": 23,
     "metadata": {},
     "output_type": "execute_result"
    }
   ],
   "source": [
    "sözlük = {\"bir\":1,\"iki\":2,\"üç\":3,\"dört\":4}\n",
    "sözlük.keys()"
   ]
  },
  {
   "cell_type": "code",
   "execution_count": 24,
   "id": "720931f3",
   "metadata": {},
   "outputs": [
    {
     "data": {
      "text/plain": [
       "dict_values([1, 2, 3, 4])"
      ]
     },
     "execution_count": 24,
     "metadata": {},
     "output_type": "execute_result"
    }
   ],
   "source": [
    "sözlük.values()"
   ]
  },
  {
   "cell_type": "code",
   "execution_count": 25,
   "id": "4f138fe2",
   "metadata": {},
   "outputs": [
    {
     "data": {
      "text/plain": [
       "dict_items([('bir', 1), ('iki', 2), ('üç', 3), ('dört', 4)])"
      ]
     },
     "execution_count": 25,
     "metadata": {},
     "output_type": "execute_result"
    }
   ],
   "source": [
    "sözlük.items()"
   ]
  },
  {
   "cell_type": "code",
   "execution_count": 26,
   "id": "e74042b1",
   "metadata": {},
   "outputs": [
    {
     "name": "stdout",
     "output_type": "stream",
     "text": [
      "bir\n",
      "iki\n",
      "üç\n",
      "dört\n"
     ]
    }
   ],
   "source": [
    "for eleman in sözlük:\n",
    "    print(eleman)"
   ]
  },
  {
   "cell_type": "markdown",
   "id": "bc8d73c1",
   "metadata": {},
   "source": [
    "value gelmedi."
   ]
  },
  {
   "cell_type": "code",
   "execution_count": 27,
   "id": "0fc75d68",
   "metadata": {},
   "outputs": [
    {
     "name": "stdout",
     "output_type": "stream",
     "text": [
      "1\n",
      "2\n",
      "3\n",
      "4\n"
     ]
    }
   ],
   "source": [
    "for eleman in sözlük.values():\n",
    "    print(eleman)"
   ]
  },
  {
   "cell_type": "code",
   "execution_count": 28,
   "id": "0a5e2b45",
   "metadata": {},
   "outputs": [
    {
     "data": {
      "text/plain": [
       "dict_values([1, 2, 3, 4])"
      ]
     },
     "execution_count": 28,
     "metadata": {},
     "output_type": "execute_result"
    }
   ],
   "source": [
    "sözlük.values()"
   ]
  },
  {
   "cell_type": "code",
   "execution_count": 32,
   "id": "c4d26990",
   "metadata": {},
   "outputs": [
    {
     "name": "stdout",
     "output_type": "stream",
     "text": [
      "Anahtar:  bir Değer 1\n",
      "Anahtar:  iki Değer 2\n",
      "Anahtar:  üç Değer 3\n",
      "Anahtar:  dört Değer 4\n"
     ]
    }
   ],
   "source": [
    "for (i,j) in sözlük.items():\n",
    "    print(\"Anahtar: \", i , \"Değer\", j)\n",
    "    "
   ]
  },
  {
   "cell_type": "code",
   "execution_count": null,
   "id": "39e4c415",
   "metadata": {},
   "outputs": [],
   "source": []
  }
 ],
 "metadata": {
  "kernelspec": {
   "display_name": "Python 3 (ipykernel)",
   "language": "python",
   "name": "python3"
  },
  "language_info": {
   "codemirror_mode": {
    "name": "ipython",
    "version": 3
   },
   "file_extension": ".py",
   "mimetype": "text/x-python",
   "name": "python",
   "nbconvert_exporter": "python",
   "pygments_lexer": "ipython3",
   "version": "3.9.7"
  }
 },
 "nbformat": 4,
 "nbformat_minor": 5
}
