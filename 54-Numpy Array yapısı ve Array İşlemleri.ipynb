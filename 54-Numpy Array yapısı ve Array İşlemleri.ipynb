{
 "cells": [
  {
   "cell_type": "code",
   "execution_count": 2,
   "id": "04ee9e74",
   "metadata": {},
   "outputs": [],
   "source": [
    "import numpy as np"
   ]
  },
  {
   "cell_type": "code",
   "execution_count": 5,
   "id": "9dac5a33",
   "metadata": {},
   "outputs": [],
   "source": [
    "import pandas as pd"
   ]
  },
  {
   "cell_type": "code",
   "execution_count": 7,
   "id": "9df4e7fe",
   "metadata": {},
   "outputs": [],
   "source": [
    "data_list = [1,2,3]"
   ]
  },
  {
   "cell_type": "code",
   "execution_count": 9,
   "id": "84bf65b9",
   "metadata": {},
   "outputs": [],
   "source": [
    "arr = np.array(data_list)"
   ]
  },
  {
   "cell_type": "code",
   "execution_count": 10,
   "id": "21dc0c3b",
   "metadata": {},
   "outputs": [
    {
     "data": {
      "text/plain": [
       "array([1, 2, 3])"
      ]
     },
     "execution_count": 10,
     "metadata": {},
     "output_type": "execute_result"
    }
   ],
   "source": [
    "arr"
   ]
  },
  {
   "cell_type": "code",
   "execution_count": 11,
   "id": "c8f98a99",
   "metadata": {},
   "outputs": [],
   "source": [
    "data_list2 = [[10,20,30],[40,50,60],[70,80,90]]"
   ]
  },
  {
   "cell_type": "code",
   "execution_count": 12,
   "id": "f034d054",
   "metadata": {},
   "outputs": [],
   "source": [
    "arr2 = np.array(data_list2)"
   ]
  },
  {
   "cell_type": "code",
   "execution_count": 13,
   "id": "001df866",
   "metadata": {},
   "outputs": [
    {
     "data": {
      "text/plain": [
       "array([[10, 20, 30],\n",
       "       [40, 50, 60],\n",
       "       [70, 80, 90]])"
      ]
     },
     "execution_count": 13,
     "metadata": {},
     "output_type": "execute_result"
    }
   ],
   "source": [
    "arr2"
   ]
  },
  {
   "cell_type": "code",
   "execution_count": 14,
   "id": "d3d32c1e",
   "metadata": {},
   "outputs": [],
   "source": [
    "arr3 = np.array([1,2,3,4,5])"
   ]
  },
  {
   "cell_type": "code",
   "execution_count": 15,
   "id": "67f33337",
   "metadata": {},
   "outputs": [
    {
     "data": {
      "text/plain": [
       "array([1, 2, 3, 4, 5])"
      ]
     },
     "execution_count": 15,
     "metadata": {},
     "output_type": "execute_result"
    }
   ],
   "source": [
    "arr3"
   ]
  },
  {
   "cell_type": "code",
   "execution_count": 16,
   "id": "bf2d97e6",
   "metadata": {},
   "outputs": [
    {
     "data": {
      "text/plain": [
       "1"
      ]
     },
     "execution_count": 16,
     "metadata": {},
     "output_type": "execute_result"
    }
   ],
   "source": [
    "arr3[0]"
   ]
  },
  {
   "cell_type": "code",
   "execution_count": 17,
   "id": "dffdb95d",
   "metadata": {},
   "outputs": [
    {
     "data": {
      "text/plain": [
       "5"
      ]
     },
     "execution_count": 17,
     "metadata": {},
     "output_type": "execute_result"
    }
   ],
   "source": [
    "arr3[4]"
   ]
  },
  {
   "cell_type": "code",
   "execution_count": 18,
   "id": "217e2fd6",
   "metadata": {},
   "outputs": [
    {
     "data": {
      "text/plain": [
       "array([[10, 20, 30],\n",
       "       [40, 50, 60],\n",
       "       [70, 80, 90]])"
      ]
     },
     "execution_count": 18,
     "metadata": {},
     "output_type": "execute_result"
    }
   ],
   "source": [
    "arr2"
   ]
  },
  {
   "cell_type": "code",
   "execution_count": 19,
   "id": "e0190746",
   "metadata": {},
   "outputs": [
    {
     "data": {
      "text/plain": [
       "90"
      ]
     },
     "execution_count": 19,
     "metadata": {},
     "output_type": "execute_result"
    }
   ],
   "source": [
    "arr2[2,2]"
   ]
  },
  {
   "cell_type": "code",
   "execution_count": 20,
   "id": "bf9ee2e1",
   "metadata": {},
   "outputs": [
    {
     "data": {
      "text/plain": [
       "10"
      ]
     },
     "execution_count": 20,
     "metadata": {},
     "output_type": "execute_result"
    }
   ],
   "source": [
    "arr2[0,0]"
   ]
  },
  {
   "cell_type": "code",
   "execution_count": 21,
   "id": "7ef296ff",
   "metadata": {},
   "outputs": [
    {
     "ename": "IndexError",
     "evalue": "index 3 is out of bounds for axis 1 with size 3",
     "output_type": "error",
     "traceback": [
      "\u001b[1;31m---------------------------------------------------------------------------\u001b[0m",
      "\u001b[1;31mIndexError\u001b[0m                                Traceback (most recent call last)",
      "\u001b[1;32m~\\AppData\\Local\\Temp/ipykernel_25028/1212233823.py\u001b[0m in \u001b[0;36m<module>\u001b[1;34m\u001b[0m\n\u001b[1;32m----> 1\u001b[1;33m \u001b[0marr2\u001b[0m\u001b[1;33m[\u001b[0m\u001b[1;36m0\u001b[0m\u001b[1;33m,\u001b[0m\u001b[1;36m3\u001b[0m\u001b[1;33m]\u001b[0m\u001b[1;33m\u001b[0m\u001b[1;33m\u001b[0m\u001b[0m\n\u001b[0m",
      "\u001b[1;31mIndexError\u001b[0m: index 3 is out of bounds for axis 1 with size 3"
     ]
    }
   ],
   "source": [
    "arr2[0,3]"
   ]
  },
  {
   "cell_type": "code",
   "execution_count": 22,
   "id": "2ecf2729",
   "metadata": {},
   "outputs": [
    {
     "data": {
      "text/plain": [
       "30"
      ]
     },
     "execution_count": 22,
     "metadata": {},
     "output_type": "execute_result"
    }
   ],
   "source": [
    "arr2[0,2]"
   ]
  },
  {
   "cell_type": "code",
   "execution_count": 23,
   "id": "12f3cf2d",
   "metadata": {},
   "outputs": [
    {
     "data": {
      "text/plain": [
       "array([10, 11, 12, 13, 14, 15, 16, 17, 18, 19])"
      ]
     },
     "execution_count": 23,
     "metadata": {},
     "output_type": "execute_result"
    }
   ],
   "source": [
    "np.arange(10,20)"
   ]
  },
  {
   "cell_type": "code",
   "execution_count": 24,
   "id": "a0ad981b",
   "metadata": {},
   "outputs": [
    {
     "data": {
      "text/plain": [
       "array([ 0,  3,  6,  9, 12, 15, 18, 21, 24, 27, 30, 33, 36, 39, 42, 45, 48,\n",
       "       51, 54, 57, 60, 63, 66, 69, 72, 75, 78, 81, 84, 87, 90, 93, 96, 99])"
      ]
     },
     "execution_count": 24,
     "metadata": {},
     "output_type": "execute_result"
    }
   ],
   "source": [
    "np.arange(0,100,3)"
   ]
  },
  {
   "cell_type": "code",
   "execution_count": 27,
   "id": "fe51bcef",
   "metadata": {},
   "outputs": [
    {
     "data": {
      "text/plain": [
       "array([ 0,  4,  8, 12, 16, 20, 24, 28, 32, 36, 40, 44, 48, 52, 56, 60, 64,\n",
       "       68, 72, 76, 80, 84, 88, 92, 96])"
      ]
     },
     "execution_count": 27,
     "metadata": {},
     "output_type": "execute_result"
    }
   ],
   "source": [
    "np.arange(0,100,4)"
   ]
  },
  {
   "cell_type": "code",
   "execution_count": 28,
   "id": "f4da46e0",
   "metadata": {},
   "outputs": [
    {
     "data": {
      "text/plain": [
       "array([], dtype=int32)"
      ]
     },
     "execution_count": 28,
     "metadata": {},
     "output_type": "execute_result"
    }
   ],
   "source": [
    "np.arange(0,100,-1)"
   ]
  },
  {
   "cell_type": "code",
   "execution_count": 44,
   "id": "e6fdb4be",
   "metadata": {},
   "outputs": [
    {
     "name": "stdout",
     "output_type": "stream",
     "text": [
      "\n"
     ]
    }
   ],
   "source": [
    "print(*range(0,100,-1))"
   ]
  },
  {
   "cell_type": "code",
   "execution_count": 45,
   "id": "8b0ecb14",
   "metadata": {},
   "outputs": [
    {
     "data": {
      "text/plain": [
       "array([0., 0., 0., 0., 0., 0., 0., 0., 0., 0.])"
      ]
     },
     "execution_count": 45,
     "metadata": {},
     "output_type": "execute_result"
    }
   ],
   "source": [
    "np.zeros(10)"
   ]
  },
  {
   "cell_type": "code",
   "execution_count": 46,
   "id": "62587dee",
   "metadata": {},
   "outputs": [
    {
     "data": {
      "text/plain": [
       "array([1., 1., 1., 1., 1.])"
      ]
     },
     "execution_count": 46,
     "metadata": {},
     "output_type": "execute_result"
    }
   ],
   "source": [
    "np.ones(5)"
   ]
  },
  {
   "cell_type": "code",
   "execution_count": 48,
   "id": "b6dd52db",
   "metadata": {},
   "outputs": [
    {
     "data": {
      "text/plain": [
       "array([[0., 0., 0., 0., 0., 0., 0., 0., 0., 0.],\n",
       "       [0., 0., 0., 0., 0., 0., 0., 0., 0., 0.],\n",
       "       [0., 0., 0., 0., 0., 0., 0., 0., 0., 0.],\n",
       "       [0., 0., 0., 0., 0., 0., 0., 0., 0., 0.],\n",
       "       [0., 0., 0., 0., 0., 0., 0., 0., 0., 0.],\n",
       "       [0., 0., 0., 0., 0., 0., 0., 0., 0., 0.],\n",
       "       [0., 0., 0., 0., 0., 0., 0., 0., 0., 0.],\n",
       "       [0., 0., 0., 0., 0., 0., 0., 0., 0., 0.],\n",
       "       [0., 0., 0., 0., 0., 0., 0., 0., 0., 0.],\n",
       "       [0., 0., 0., 0., 0., 0., 0., 0., 0., 0.]])"
      ]
     },
     "execution_count": 48,
     "metadata": {},
     "output_type": "execute_result"
    }
   ],
   "source": [
    "np.zeros((10,10))"
   ]
  },
  {
   "cell_type": "code",
   "execution_count": 49,
   "id": "46f373cc",
   "metadata": {},
   "outputs": [
    {
     "data": {
      "text/plain": [
       "array([[1., 1., 1., 1.],\n",
       "       [1., 1., 1., 1.],\n",
       "       [1., 1., 1., 1.]])"
      ]
     },
     "execution_count": 49,
     "metadata": {},
     "output_type": "execute_result"
    }
   ],
   "source": [
    "np.ones((3,4))"
   ]
  },
  {
   "cell_type": "code",
   "execution_count": 50,
   "id": "875f16ef",
   "metadata": {},
   "outputs": [
    {
     "data": {
      "text/plain": [
       "array([  0.,  25.,  50.,  75., 100.])"
      ]
     },
     "execution_count": 50,
     "metadata": {},
     "output_type": "execute_result"
    }
   ],
   "source": [
    "np.linspace(0,100,5)"
   ]
  },
  {
   "cell_type": "code",
   "execution_count": 53,
   "id": "8fe6c472",
   "metadata": {},
   "outputs": [
    {
     "data": {
      "text/plain": [
       "array([  0.        ,   4.16666667,   8.33333333,  12.5       ,\n",
       "        16.66666667,  20.83333333,  25.        ,  29.16666667,\n",
       "        33.33333333,  37.5       ,  41.66666667,  45.83333333,\n",
       "        50.        ,  54.16666667,  58.33333333,  62.5       ,\n",
       "        66.66666667,  70.83333333,  75.        ,  79.16666667,\n",
       "        83.33333333,  87.5       ,  91.66666667,  95.83333333,\n",
       "       100.        ])"
      ]
     },
     "execution_count": 53,
     "metadata": {},
     "output_type": "execute_result"
    }
   ],
   "source": [
    "np.linspace(0,100,25)"
   ]
  },
  {
   "cell_type": "code",
   "execution_count": 54,
   "id": "6d65c1a7",
   "metadata": {},
   "outputs": [
    {
     "data": {
      "text/plain": [
       "array([0. , 0.2, 0.4, 0.6, 0.8, 1. ])"
      ]
     },
     "execution_count": 54,
     "metadata": {},
     "output_type": "execute_result"
    }
   ],
   "source": [
    "np.linspace(0,1,6)"
   ]
  },
  {
   "cell_type": "code",
   "execution_count": 55,
   "id": "9719f20d",
   "metadata": {},
   "outputs": [
    {
     "data": {
      "text/plain": [
       "array([[1., 0., 0., 0., 0., 0.],\n",
       "       [0., 1., 0., 0., 0., 0.],\n",
       "       [0., 0., 1., 0., 0., 0.],\n",
       "       [0., 0., 0., 1., 0., 0.],\n",
       "       [0., 0., 0., 0., 1., 0.],\n",
       "       [0., 0., 0., 0., 0., 1.]])"
      ]
     },
     "execution_count": 55,
     "metadata": {},
     "output_type": "execute_result"
    }
   ],
   "source": [
    "np.eye(6)"
   ]
  },
  {
   "cell_type": "code",
   "execution_count": 56,
   "id": "6937f3b7",
   "metadata": {},
   "outputs": [
    {
     "data": {
      "text/plain": [
       "5"
      ]
     },
     "execution_count": 56,
     "metadata": {},
     "output_type": "execute_result"
    }
   ],
   "source": [
    "np.random.randint(0,10)"
   ]
  },
  {
   "cell_type": "code",
   "execution_count": 57,
   "id": "023330c1",
   "metadata": {},
   "outputs": [
    {
     "data": {
      "text/plain": [
       "2"
      ]
     },
     "execution_count": 57,
     "metadata": {},
     "output_type": "execute_result"
    }
   ],
   "source": [
    "np.random.randint(0,10)"
   ]
  },
  {
   "cell_type": "code",
   "execution_count": 58,
   "id": "56a2c623",
   "metadata": {},
   "outputs": [
    {
     "data": {
      "text/plain": [
       "14"
      ]
     },
     "execution_count": 58,
     "metadata": {},
     "output_type": "execute_result"
    }
   ],
   "source": [
    "np.random.randint(15)"
   ]
  },
  {
   "cell_type": "code",
   "execution_count": 59,
   "id": "0fdb5e8d",
   "metadata": {},
   "outputs": [
    {
     "data": {
      "text/plain": [
       "13"
      ]
     },
     "execution_count": 59,
     "metadata": {},
     "output_type": "execute_result"
    }
   ],
   "source": [
    "np.random.randint(15)"
   ]
  },
  {
   "cell_type": "code",
   "execution_count": 60,
   "id": "3bb5b280",
   "metadata": {},
   "outputs": [
    {
     "data": {
      "text/plain": [
       "0"
      ]
     },
     "execution_count": 60,
     "metadata": {},
     "output_type": "execute_result"
    }
   ],
   "source": [
    "np.random.randint(15)"
   ]
  },
  {
   "cell_type": "code",
   "execution_count": 61,
   "id": "ccdc217b",
   "metadata": {},
   "outputs": [
    {
     "data": {
      "text/plain": [
       "array([9, 3, 3, 1, 3])"
      ]
     },
     "execution_count": 61,
     "metadata": {},
     "output_type": "execute_result"
    }
   ],
   "source": [
    "np.random.randint(1,10,5)"
   ]
  },
  {
   "cell_type": "code",
   "execution_count": 63,
   "id": "17c617f8",
   "metadata": {},
   "outputs": [
    {
     "data": {
      "text/plain": [
       "array([0.55906305, 0.58529748, 0.35530661, 0.55835019, 0.4472565 ])"
      ]
     },
     "execution_count": 63,
     "metadata": {},
     "output_type": "execute_result"
    }
   ],
   "source": [
    "np.random.rand(5)#0 ile 1 arasında rastgele 5 değer"
   ]
  },
  {
   "cell_type": "code",
   "execution_count": 66,
   "id": "86da8d8b",
   "metadata": {},
   "outputs": [
    {
     "data": {
      "text/plain": [
       "array([-0.62639083, -0.29265562, -0.71710809,  0.64205499,  1.1407782 ])"
      ]
     },
     "execution_count": 66,
     "metadata": {},
     "output_type": "execute_result"
    }
   ],
   "source": [
    "np.random.randn(5)#0 ın etrafında gaussian distrubiton? (-ler de çıkıyor)"
   ]
  },
  {
   "cell_type": "code",
   "execution_count": 67,
   "id": "69a0ab3d",
   "metadata": {},
   "outputs": [],
   "source": [
    "arr = np.arange(25)"
   ]
  },
  {
   "cell_type": "code",
   "execution_count": 68,
   "id": "1d7317f5",
   "metadata": {},
   "outputs": [
    {
     "data": {
      "text/plain": [
       "array([ 0,  1,  2,  3,  4,  5,  6,  7,  8,  9, 10, 11, 12, 13, 14, 15, 16,\n",
       "       17, 18, 19, 20, 21, 22, 23, 24])"
      ]
     },
     "execution_count": 68,
     "metadata": {},
     "output_type": "execute_result"
    }
   ],
   "source": [
    "arr"
   ]
  },
  {
   "cell_type": "code",
   "execution_count": 69,
   "id": "c697ffe0",
   "metadata": {},
   "outputs": [
    {
     "data": {
      "text/plain": [
       "array([[ 0,  1,  2,  3,  4],\n",
       "       [ 5,  6,  7,  8,  9],\n",
       "       [10, 11, 12, 13, 14],\n",
       "       [15, 16, 17, 18, 19],\n",
       "       [20, 21, 22, 23, 24]])"
      ]
     },
     "execution_count": 69,
     "metadata": {},
     "output_type": "execute_result"
    }
   ],
   "source": [
    "arr.reshape(5,5)"
   ]
  },
  {
   "cell_type": "code",
   "execution_count": 70,
   "id": "189f4d79",
   "metadata": {},
   "outputs": [
    {
     "ename": "ValueError",
     "evalue": "cannot reshape array of size 25 into shape (4,5)",
     "output_type": "error",
     "traceback": [
      "\u001b[1;31m---------------------------------------------------------------------------\u001b[0m",
      "\u001b[1;31mValueError\u001b[0m                                Traceback (most recent call last)",
      "\u001b[1;32m~\\AppData\\Local\\Temp/ipykernel_25028/3434586255.py\u001b[0m in \u001b[0;36m<module>\u001b[1;34m\u001b[0m\n\u001b[1;32m----> 1\u001b[1;33m \u001b[0marr\u001b[0m\u001b[1;33m.\u001b[0m\u001b[0mreshape\u001b[0m\u001b[1;33m(\u001b[0m\u001b[1;36m4\u001b[0m\u001b[1;33m,\u001b[0m\u001b[1;36m5\u001b[0m\u001b[1;33m)\u001b[0m\u001b[1;33m\u001b[0m\u001b[1;33m\u001b[0m\u001b[0m\n\u001b[0m",
      "\u001b[1;31mValueError\u001b[0m: cannot reshape array of size 25 into shape (4,5)"
     ]
    }
   ],
   "source": [
    "arr.reshape(4,5)"
   ]
  },
  {
   "cell_type": "code",
   "execution_count": 71,
   "id": "7c709fea",
   "metadata": {},
   "outputs": [
    {
     "data": {
      "text/plain": [
       "array([[ 0,  1,  2,  3,  4,  5,  6,  7,  8,  9, 10, 11, 12, 13, 14, 15,\n",
       "        16, 17, 18, 19, 20, 21, 22, 23, 24]])"
      ]
     },
     "execution_count": 71,
     "metadata": {},
     "output_type": "execute_result"
    }
   ],
   "source": [
    "arr.reshape(1,25)"
   ]
  },
  {
   "cell_type": "code",
   "execution_count": 72,
   "id": "dfd0ba0f",
   "metadata": {},
   "outputs": [],
   "source": [
    "newArray = np.random.randint(1,100,10)"
   ]
  },
  {
   "cell_type": "code",
   "execution_count": 73,
   "id": "242dd935",
   "metadata": {},
   "outputs": [
    {
     "data": {
      "text/plain": [
       "array([57, 57, 90, 15, 52, 94, 69,  9, 62, 25])"
      ]
     },
     "execution_count": 73,
     "metadata": {},
     "output_type": "execute_result"
    }
   ],
   "source": [
    "newArray"
   ]
  },
  {
   "cell_type": "code",
   "execution_count": 74,
   "id": "c0180383",
   "metadata": {},
   "outputs": [
    {
     "data": {
      "text/plain": [
       "94"
      ]
     },
     "execution_count": 74,
     "metadata": {},
     "output_type": "execute_result"
    }
   ],
   "source": [
    "newArray.max()"
   ]
  },
  {
   "cell_type": "code",
   "execution_count": 75,
   "id": "b3e9a51b",
   "metadata": {},
   "outputs": [
    {
     "data": {
      "text/plain": [
       "9"
      ]
     },
     "execution_count": 75,
     "metadata": {},
     "output_type": "execute_result"
    }
   ],
   "source": [
    "newArray.min()"
   ]
  },
  {
   "cell_type": "code",
   "execution_count": 76,
   "id": "f1f7ab1e",
   "metadata": {},
   "outputs": [
    {
     "data": {
      "text/plain": [
       "530"
      ]
     },
     "execution_count": 76,
     "metadata": {},
     "output_type": "execute_result"
    }
   ],
   "source": [
    "newArray.sum()"
   ]
  },
  {
   "cell_type": "code",
   "execution_count": 78,
   "id": "c3174868",
   "metadata": {},
   "outputs": [
    {
     "data": {
      "text/plain": [
       "53.0"
      ]
     },
     "execution_count": 78,
     "metadata": {},
     "output_type": "execute_result"
    }
   ],
   "source": [
    "newArray.mean()#ortalama"
   ]
  },
  {
   "cell_type": "code",
   "execution_count": 80,
   "id": "1468d497",
   "metadata": {},
   "outputs": [
    {
     "data": {
      "text/plain": [
       "5"
      ]
     },
     "execution_count": 80,
     "metadata": {},
     "output_type": "execute_result"
    }
   ],
   "source": [
    "newArray.argmax()#max sayının olduğu index"
   ]
  },
  {
   "cell_type": "code",
   "execution_count": 81,
   "id": "2e12bc04",
   "metadata": {},
   "outputs": [
    {
     "data": {
      "text/plain": [
       "7"
      ]
     },
     "execution_count": 81,
     "metadata": {},
     "output_type": "execute_result"
    }
   ],
   "source": [
    "newArray.argmin()"
   ]
  },
  {
   "cell_type": "code",
   "execution_count": 82,
   "id": "b9dfbe8f",
   "metadata": {},
   "outputs": [],
   "source": [
    "detArray = np.random.randint(1,100,25)"
   ]
  },
  {
   "cell_type": "code",
   "execution_count": 83,
   "id": "74016d75",
   "metadata": {},
   "outputs": [
    {
     "data": {
      "text/plain": [
       "array([57, 64, 20, 61, 10,  8, 21, 31, 42, 77, 98,  4, 30, 29, 74, 75, 92,\n",
       "       65, 70, 45, 97, 10, 81, 53, 47])"
      ]
     },
     "execution_count": 83,
     "metadata": {},
     "output_type": "execute_result"
    }
   ],
   "source": [
    "detArray"
   ]
  },
  {
   "cell_type": "code",
   "execution_count": 84,
   "id": "2ffd9599",
   "metadata": {},
   "outputs": [],
   "source": [
    "detArray = detArray.reshape(5,5)"
   ]
  },
  {
   "cell_type": "code",
   "execution_count": 85,
   "id": "52056bfe",
   "metadata": {},
   "outputs": [
    {
     "data": {
      "text/plain": [
       "array([[57, 64, 20, 61, 10],\n",
       "       [ 8, 21, 31, 42, 77],\n",
       "       [98,  4, 30, 29, 74],\n",
       "       [75, 92, 65, 70, 45],\n",
       "       [97, 10, 81, 53, 47]])"
      ]
     },
     "execution_count": 85,
     "metadata": {},
     "output_type": "execute_result"
    }
   ],
   "source": [
    "detArray"
   ]
  },
  {
   "cell_type": "code",
   "execution_count": 86,
   "id": "6b3467d3",
   "metadata": {},
   "outputs": [
    {
     "data": {
      "text/plain": [
       "1129962445.9999983"
      ]
     },
     "execution_count": 86,
     "metadata": {},
     "output_type": "execute_result"
    }
   ],
   "source": [
    "np.linalg.det(detArray)#determinant"
   ]
  },
  {
   "cell_type": "code",
   "execution_count": 87,
   "id": "07c9d9d6",
   "metadata": {},
   "outputs": [],
   "source": [
    "detArray2 = np.array([[1,2],[3,4]])"
   ]
  },
  {
   "cell_type": "code",
   "execution_count": 88,
   "id": "f928c8a8",
   "metadata": {},
   "outputs": [
    {
     "data": {
      "text/plain": [
       "array([[1, 2],\n",
       "       [3, 4]])"
      ]
     },
     "execution_count": 88,
     "metadata": {},
     "output_type": "execute_result"
    }
   ],
   "source": [
    "detArray2"
   ]
  },
  {
   "cell_type": "code",
   "execution_count": 89,
   "id": "058c3bff",
   "metadata": {},
   "outputs": [
    {
     "data": {
      "text/plain": [
       "-2.0000000000000004"
      ]
     },
     "execution_count": 89,
     "metadata": {},
     "output_type": "execute_result"
    }
   ],
   "source": [
    "np.linalg.det(detArray2)"
   ]
  },
  {
   "cell_type": "code",
   "execution_count": 90,
   "id": "74d8666c",
   "metadata": {},
   "outputs": [
    {
     "data": {
      "text/plain": [
       "-2"
      ]
     },
     "execution_count": 90,
     "metadata": {},
     "output_type": "execute_result"
    }
   ],
   "source": [
    "round(np.linalg.det(detArray2))"
   ]
  },
  {
   "cell_type": "code",
   "execution_count": 10,
   "id": "22b235c4",
   "metadata": {},
   "outputs": [
    {
     "data": {
      "text/plain": [
       "2"
      ]
     },
     "execution_count": 10,
     "metadata": {},
     "output_type": "execute_result"
    }
   ],
   "source": [
    "np.random.randint(1,4.8)"
   ]
  },
  {
   "cell_type": "code",
   "execution_count": 14,
   "id": "44784866",
   "metadata": {},
   "outputs": [
    {
     "ename": "AttributeError",
     "evalue": "module 'numpy.random' has no attribute 'choose'",
     "output_type": "error",
     "traceback": [
      "\u001b[1;31m---------------------------------------------------------------------------\u001b[0m",
      "\u001b[1;31mAttributeError\u001b[0m                            Traceback (most recent call last)",
      "Cell \u001b[1;32mIn[14], line 1\u001b[0m\n\u001b[1;32m----> 1\u001b[0m \u001b[43mnp\u001b[49m\u001b[38;5;241;43m.\u001b[39;49m\u001b[43mrandom\u001b[49m\u001b[38;5;241;43m.\u001b[39;49m\u001b[43mchoose\u001b[49m(\u001b[38;5;241m5\u001b[39m,\u001b[38;5;241m10\u001b[39m)\n",
      "\u001b[1;31mAttributeError\u001b[0m: module 'numpy.random' has no attribute 'choose'"
     ]
    }
   ],
   "source": [
    "np.random.choose(5,10)"
   ]
  },
  {
   "cell_type": "code",
   "execution_count": 13,
   "id": "18674438",
   "metadata": {},
   "outputs": [
    {
     "ename": "AttributeError",
     "evalue": "module 'numpy.random' has no attribute 'float'",
     "output_type": "error",
     "traceback": [
      "\u001b[1;31m---------------------------------------------------------------------------\u001b[0m",
      "\u001b[1;31mAttributeError\u001b[0m                            Traceback (most recent call last)",
      "Cell \u001b[1;32mIn[13], line 1\u001b[0m\n\u001b[1;32m----> 1\u001b[0m \u001b[43mnp\u001b[49m\u001b[38;5;241;43m.\u001b[39;49m\u001b[43mrandom\u001b[49m\u001b[38;5;241;43m.\u001b[39;49m\u001b[43mfloat\u001b[49m(\u001b[38;5;241m5\u001b[39m,\u001b[38;5;241m10\u001b[39m)\n",
      "\u001b[1;31mAttributeError\u001b[0m: module 'numpy.random' has no attribute 'float'"
     ]
    }
   ],
   "source": [
    "np.random.float(5,10)"
   ]
  },
  {
   "cell_type": "code",
   "execution_count": null,
   "id": "69eb2a33",
   "metadata": {},
   "outputs": [],
   "source": []
  }
 ],
 "metadata": {
  "kernelspec": {
   "display_name": "Python 3 (ipykernel)",
   "language": "python",
   "name": "python3"
  },
  "language_info": {
   "codemirror_mode": {
    "name": "ipython",
    "version": 3
   },
   "file_extension": ".py",
   "mimetype": "text/x-python",
   "name": "python",
   "nbconvert_exporter": "python",
   "pygments_lexer": "ipython3",
   "version": "3.10.9"
  }
 },
 "nbformat": 4,
 "nbformat_minor": 5
}
