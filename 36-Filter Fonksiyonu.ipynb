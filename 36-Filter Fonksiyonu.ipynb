{
 "cells": [
  {
   "cell_type": "markdown",
   "id": "3b7b1bdd",
   "metadata": {},
   "source": [
    "filter(fonksiyon, iterasyon yapılabilen veritipi(liste vb.))\n",
    "Sadece True değerleri alır ve bir tane filter objesi döner"
   ]
  },
  {
   "cell_type": "code",
   "execution_count": 1,
   "id": "6ae75de6",
   "metadata": {},
   "outputs": [
    {
     "data": {
      "text/plain": [
       "<filter at 0x178b9f76640>"
      ]
     },
     "execution_count": 1,
     "metadata": {},
     "output_type": "execute_result"
    }
   ],
   "source": [
    "filter(lambda x : x % 2 == 0,range(9) )"
   ]
  },
  {
   "cell_type": "code",
   "execution_count": 2,
   "id": "3d601e24",
   "metadata": {},
   "outputs": [
    {
     "data": {
      "text/plain": [
       "[0, 2, 4, 6, 8]"
      ]
     },
     "execution_count": 2,
     "metadata": {},
     "output_type": "execute_result"
    }
   ],
   "source": [
    "list(filter(lambda x : x % 2 == 0,range(9) ))"
   ]
  },
  {
   "cell_type": "code",
   "execution_count": 7,
   "id": "423cb1bb",
   "metadata": {},
   "outputs": [],
   "source": [
    "def asal_mi(x):\n",
    "    i = 2\n",
    "    if x == 1 or x == 0:\n",
    "        return False\n",
    "    elif x== 2:\n",
    "        return True\n",
    "    else:\n",
    "        while(i<x):\n",
    "            if x % i == 0:\n",
    "                return False\n",
    "            i += 1\n",
    "        return True"
   ]
  },
  {
   "cell_type": "code",
   "execution_count": 8,
   "id": "a5476b67",
   "metadata": {},
   "outputs": [
    {
     "data": {
      "text/plain": [
       "False"
      ]
     },
     "execution_count": 8,
     "metadata": {},
     "output_type": "execute_result"
    }
   ],
   "source": [
    "asal_mi(1)"
   ]
  },
  {
   "cell_type": "code",
   "execution_count": 9,
   "id": "87433194",
   "metadata": {},
   "outputs": [
    {
     "data": {
      "text/plain": [
       "True"
      ]
     },
     "execution_count": 9,
     "metadata": {},
     "output_type": "execute_result"
    }
   ],
   "source": [
    "asal_mi(11)"
   ]
  },
  {
   "cell_type": "code",
   "execution_count": 10,
   "id": "e843d3a3",
   "metadata": {},
   "outputs": [
    {
     "data": {
      "text/plain": [
       "[2, 3, 5, 7, 11, 13, 17, 19]"
      ]
     },
     "execution_count": 10,
     "metadata": {},
     "output_type": "execute_result"
    }
   ],
   "source": [
    "list(filter(asal_mi,range(20) ))"
   ]
  },
  {
   "cell_type": "code",
   "execution_count": null,
   "id": "37b0b3e7",
   "metadata": {},
   "outputs": [],
   "source": []
  }
 ],
 "metadata": {
  "kernelspec": {
   "display_name": "Python 3 (ipykernel)",
   "language": "python",
   "name": "python3"
  },
  "language_info": {
   "codemirror_mode": {
    "name": "ipython",
    "version": 3
   },
   "file_extension": ".py",
   "mimetype": "text/x-python",
   "name": "python",
   "nbconvert_exporter": "python",
   "pygments_lexer": "ipython3",
   "version": "3.9.7"
  }
 },
 "nbformat": 4,
 "nbformat_minor": 5
}
