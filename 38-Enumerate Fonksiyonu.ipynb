{
 "cells": [
  {
   "cell_type": "code",
   "execution_count": 1,
   "id": "22b056cd",
   "metadata": {},
   "outputs": [
    {
     "name": "stdout",
     "output_type": "stream",
     "text": [
      "[(0, 'Tinki'), (1, 'Dipsi'), (2, 'Lala'), (3, 'Po')]\n"
     ]
    }
   ],
   "source": [
    "liste = [\"Tinki\",\"Dipsi\",\"Lala\",\"Po\"]\n",
    "# Sonucu (0,'Tinki'),(1,'Dipsi') vs yapmak istiyoruz\n",
    "i = 0\n",
    "\n",
    "sonuc = []\n",
    "while i < len(liste):\n",
    "    sonuc.append((i,liste[i]))\n",
    "    i += 1\n",
    "print(sonuc)"
   ]
  },
  {
   "cell_type": "code",
   "execution_count": 2,
   "id": "2117bb54",
   "metadata": {},
   "outputs": [
    {
     "data": {
      "text/plain": [
       "[(0, 'Tinki'), (1, 'Dipsi'), (2, 'Lala'), (3, 'Po')]"
      ]
     },
     "execution_count": 2,
     "metadata": {},
     "output_type": "execute_result"
    }
   ],
   "source": [
    "list(enumerate(liste))"
   ]
  },
  {
   "cell_type": "code",
   "execution_count": 3,
   "id": "5707423d",
   "metadata": {},
   "outputs": [
    {
     "name": "stdout",
     "output_type": "stream",
     "text": [
      "0 Tinki\n",
      "1 Dipsi\n",
      "2 Lala\n",
      "3 Po\n"
     ]
    }
   ],
   "source": [
    "for i,j in enumerate(liste):\n",
    "    print(i,j)"
   ]
  },
  {
   "cell_type": "code",
   "execution_count": 4,
   "id": "432daaf7",
   "metadata": {},
   "outputs": [
    {
     "name": "stdout",
     "output_type": "stream",
     "text": [
      "0 a\n",
      "2 c\n",
      "4 e\n",
      "6 g\n"
     ]
    }
   ],
   "source": [
    "liste = [\"a\",\"b\",\"c\",\"d\",\"e\",\"f\",\"g\"]\n",
    "for i,j in enumerate(liste):\n",
    "    if i % 2 == 0:\n",
    "        print(i,j)"
   ]
  },
  {
   "cell_type": "code",
   "execution_count": null,
   "id": "b39a47d6",
   "metadata": {},
   "outputs": [],
   "source": []
  }
 ],
 "metadata": {
  "kernelspec": {
   "display_name": "Python 3 (ipykernel)",
   "language": "python",
   "name": "python3"
  },
  "language_info": {
   "codemirror_mode": {
    "name": "ipython",
    "version": 3
   },
   "file_extension": ".py",
   "mimetype": "text/x-python",
   "name": "python",
   "nbconvert_exporter": "python",
   "pygments_lexer": "ipython3",
   "version": "3.9.7"
  }
 },
 "nbformat": 4,
 "nbformat_minor": 5
}
