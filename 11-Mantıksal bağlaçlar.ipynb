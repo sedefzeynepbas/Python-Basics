{
 "cells": [
  {
   "cell_type": "markdown",
   "id": "1e5734be",
   "metadata": {},
   "source": [
    "and operatörü"
   ]
  },
  {
   "cell_type": "code",
   "execution_count": 1,
   "id": "9bb206ab",
   "metadata": {},
   "outputs": [
    {
     "data": {
      "text/plain": [
       "True"
      ]
     },
     "execution_count": 1,
     "metadata": {},
     "output_type": "execute_result"
    }
   ],
   "source": [
    "1<2"
   ]
  },
  {
   "cell_type": "code",
   "execution_count": 3,
   "id": "dcb20cf0",
   "metadata": {},
   "outputs": [
    {
     "data": {
      "text/plain": [
       "True"
      ]
     },
     "execution_count": 3,
     "metadata": {},
     "output_type": "execute_result"
    }
   ],
   "source": [
    "\"tinki\" == \"tinki\""
   ]
  },
  {
   "cell_type": "code",
   "execution_count": 4,
   "id": "a9d65d6e",
   "metadata": {},
   "outputs": [
    {
     "data": {
      "text/plain": [
       "True"
      ]
     },
     "execution_count": 4,
     "metadata": {},
     "output_type": "execute_result"
    }
   ],
   "source": [
    "1<2 and \"tinki\" == \"tinki\""
   ]
  },
  {
   "cell_type": "code",
   "execution_count": 5,
   "id": "7df7c83f",
   "metadata": {},
   "outputs": [
    {
     "data": {
      "text/plain": [
       "False"
      ]
     },
     "execution_count": 5,
     "metadata": {},
     "output_type": "execute_result"
    }
   ],
   "source": [
    "1>2 and \"tinki\" == \"tinki\""
   ]
  },
  {
   "cell_type": "code",
   "execution_count": 6,
   "id": "4f731681",
   "metadata": {},
   "outputs": [
    {
     "data": {
      "text/plain": [
       "True"
      ]
     },
     "execution_count": 6,
     "metadata": {},
     "output_type": "execute_result"
    }
   ],
   "source": [
    "1<2 and \"araba\"<\"zula\" and 4.32<5.41"
   ]
  },
  {
   "cell_type": "code",
   "execution_count": 7,
   "id": "6ca215c1",
   "metadata": {},
   "outputs": [
    {
     "data": {
      "text/plain": [
       "False"
      ]
     },
     "execution_count": 7,
     "metadata": {},
     "output_type": "execute_result"
    }
   ],
   "source": [
    "1<2 and \"araba\">\"zula\" and 4.32<5.41"
   ]
  },
  {
   "cell_type": "code",
   "execution_count": 8,
   "id": "2593b2db",
   "metadata": {},
   "outputs": [
    {
     "data": {
      "text/plain": [
       "False"
      ]
     },
     "execution_count": 8,
     "metadata": {},
     "output_type": "execute_result"
    }
   ],
   "source": [
    "1>2 and \"araba\"<\"zula\" and 4.32<5.41"
   ]
  },
  {
   "cell_type": "markdown",
   "id": "9ed10a7d",
   "metadata": {},
   "source": [
    "or operatörü"
   ]
  },
  {
   "cell_type": "code",
   "execution_count": 10,
   "id": "5c5ed7b9",
   "metadata": {},
   "outputs": [
    {
     "data": {
      "text/plain": [
       "True"
      ]
     },
     "execution_count": 10,
     "metadata": {},
     "output_type": "execute_result"
    }
   ],
   "source": [
    "1<2 or \"tinki\"==\"vinki\""
   ]
  },
  {
   "cell_type": "code",
   "execution_count": 11,
   "id": "426a4c56",
   "metadata": {},
   "outputs": [
    {
     "data": {
      "text/plain": [
       "False"
      ]
     },
     "execution_count": 11,
     "metadata": {},
     "output_type": "execute_result"
    }
   ],
   "source": [
    "1>2 or \"tinki\"==\"vinki\""
   ]
  },
  {
   "cell_type": "code",
   "execution_count": 12,
   "id": "47300f6c",
   "metadata": {},
   "outputs": [
    {
     "data": {
      "text/plain": [
       "True"
      ]
     },
     "execution_count": 12,
     "metadata": {},
     "output_type": "execute_result"
    }
   ],
   "source": [
    "1<2 or \"tinki\"==\"tinki\""
   ]
  },
  {
   "cell_type": "code",
   "execution_count": 13,
   "id": "5641a8ae",
   "metadata": {},
   "outputs": [
    {
     "data": {
      "text/plain": [
       "True"
      ]
     },
     "execution_count": 13,
     "metadata": {},
     "output_type": "execute_result"
    }
   ],
   "source": [
    "1>2 or \"araba\"<\"zula\" or 4.32>5.41"
   ]
  },
  {
   "cell_type": "code",
   "execution_count": 14,
   "id": "e5eef278",
   "metadata": {},
   "outputs": [
    {
     "data": {
      "text/plain": [
       "True"
      ]
     },
     "execution_count": 14,
     "metadata": {},
     "output_type": "execute_result"
    }
   ],
   "source": [
    "1>2 or \"araba\"!=\"zula\" or 4.32>5.41"
   ]
  },
  {
   "cell_type": "code",
   "execution_count": 15,
   "id": "4a1d07b9",
   "metadata": {},
   "outputs": [
    {
     "data": {
      "text/plain": [
       "False"
      ]
     },
     "execution_count": 15,
     "metadata": {},
     "output_type": "execute_result"
    }
   ],
   "source": [
    "1>2 or \"araba\">\"zula\" or 4.32>5.41"
   ]
  },
  {
   "cell_type": "markdown",
   "id": "0e249e95",
   "metadata": {},
   "source": [
    "not operatörü"
   ]
  },
  {
   "cell_type": "code",
   "execution_count": 16,
   "id": "66331e19",
   "metadata": {},
   "outputs": [
    {
     "data": {
      "text/plain": [
       "True"
      ]
     },
     "execution_count": 16,
     "metadata": {},
     "output_type": "execute_result"
    }
   ],
   "source": [
    "2==2"
   ]
  },
  {
   "cell_type": "code",
   "execution_count": 18,
   "id": "f6c3e3f8",
   "metadata": {},
   "outputs": [
    {
     "data": {
      "text/plain": [
       "False"
      ]
     },
     "execution_count": 18,
     "metadata": {},
     "output_type": "execute_result"
    }
   ],
   "source": [
    "not 2==2"
   ]
  },
  {
   "cell_type": "code",
   "execution_count": 19,
   "id": "66a1c8d2",
   "metadata": {},
   "outputs": [
    {
     "data": {
      "text/plain": [
       "False"
      ]
     },
     "execution_count": 19,
     "metadata": {},
     "output_type": "execute_result"
    }
   ],
   "source": [
    "not \"Murat\"!=\"Mehmet\""
   ]
  },
  {
   "cell_type": "code",
   "execution_count": 20,
   "id": "12ca9c1b",
   "metadata": {},
   "outputs": [
    {
     "data": {
      "text/plain": [
       "False"
      ]
     },
     "execution_count": 20,
     "metadata": {},
     "output_type": "execute_result"
    }
   ],
   "source": [
    "not True"
   ]
  },
  {
   "cell_type": "markdown",
   "id": "7218f9b0",
   "metadata": {},
   "source": [
    "all together"
   ]
  },
  {
   "cell_type": "code",
   "execution_count": 21,
   "id": "24884e78",
   "metadata": {},
   "outputs": [
    {
     "data": {
      "text/plain": [
       "True"
      ]
     },
     "execution_count": 21,
     "metadata": {},
     "output_type": "execute_result"
    }
   ],
   "source": [
    "not (2.14>3.49 or (2!=2 and \"tinki\"==\"tinki\"))"
   ]
  },
  {
   "cell_type": "code",
   "execution_count": null,
   "id": "795aff2b",
   "metadata": {},
   "outputs": [],
   "source": []
  }
 ],
 "metadata": {
  "kernelspec": {
   "display_name": "Python 3 (ipykernel)",
   "language": "python",
   "name": "python3"
  },
  "language_info": {
   "codemirror_mode": {
    "name": "ipython",
    "version": 3
   },
   "file_extension": ".py",
   "mimetype": "text/x-python",
   "name": "python",
   "nbconvert_exporter": "python",
   "pygments_lexer": "ipython3",
   "version": "3.9.7"
  }
 },
 "nbformat": 4,
 "nbformat_minor": 5
}
