{
 "cells": [
  {
   "cell_type": "code",
   "execution_count": 1,
   "id": "e26ccaf6",
   "metadata": {},
   "outputs": [],
   "source": [
    "# zaman ve tarih işlemleri için kullanılan modül"
   ]
  },
  {
   "cell_type": "code",
   "execution_count": 1,
   "id": "0209858c",
   "metadata": {},
   "outputs": [
    {
     "name": "stdout",
     "output_type": "stream",
     "text": [
      "2023-03-21 16:01:12.304681\n"
     ]
    }
   ],
   "source": [
    "from datetime import datetime\n",
    "\n",
    "print(datetime.now())"
   ]
  },
  {
   "cell_type": "code",
   "execution_count": 2,
   "id": "a8b539fc",
   "metadata": {},
   "outputs": [],
   "source": [
    "şu_an = datetime.now()"
   ]
  },
  {
   "cell_type": "code",
   "execution_count": 3,
   "id": "dfc8ea4c",
   "metadata": {},
   "outputs": [
    {
     "name": "stdout",
     "output_type": "stream",
     "text": [
      "2023\n"
     ]
    },
    {
     "data": {
      "text/plain": [
       "datetime.datetime"
      ]
     },
     "execution_count": 3,
     "metadata": {},
     "output_type": "execute_result"
    }
   ],
   "source": [
    "print(şu_an.year)\n",
    "type(şu_an)"
   ]
  },
  {
   "cell_type": "code",
   "execution_count": 12,
   "id": "c80d52ea",
   "metadata": {},
   "outputs": [
    {
     "name": "stdout",
     "output_type": "stream",
     "text": [
      "2\n"
     ]
    }
   ],
   "source": [
    "print(şu_an.month)"
   ]
  },
  {
   "cell_type": "code",
   "execution_count": 13,
   "id": "cf9ba1cd",
   "metadata": {},
   "outputs": [
    {
     "name": "stdout",
     "output_type": "stream",
     "text": [
      "13\n"
     ]
    }
   ],
   "source": [
    "print(şu_an.hour)"
   ]
  },
  {
   "cell_type": "code",
   "execution_count": 14,
   "id": "07f97c15",
   "metadata": {},
   "outputs": [
    {
     "name": "stdout",
     "output_type": "stream",
     "text": [
      "910011\n"
     ]
    }
   ],
   "source": [
    "print(şu_an.microsecond)"
   ]
  },
  {
   "cell_type": "code",
   "execution_count": 15,
   "id": "e41dfeee",
   "metadata": {},
   "outputs": [
    {
     "name": "stdout",
     "output_type": "stream",
     "text": [
      "Mon Feb 20 13:51:54 2023\n"
     ]
    }
   ],
   "source": [
    "print(datetime.ctime(şu_an))"
   ]
  },
  {
   "cell_type": "code",
   "execution_count": 16,
   "id": "bd451fce",
   "metadata": {},
   "outputs": [
    {
     "name": "stdout",
     "output_type": "stream",
     "text": [
      "2023\n"
     ]
    }
   ],
   "source": [
    "print(datetime.strftime(şu_an,\"%Y\"))"
   ]
  },
  {
   "cell_type": "code",
   "execution_count": 18,
   "id": "541a828e",
   "metadata": {},
   "outputs": [
    {
     "name": "stdout",
     "output_type": "stream",
     "text": [
      "February\n"
     ]
    }
   ],
   "source": [
    "print(datetime.strftime(şu_an,\"%B\"))"
   ]
  },
  {
   "cell_type": "code",
   "execution_count": 19,
   "id": "ac7d13e4",
   "metadata": {},
   "outputs": [
    {
     "name": "stdout",
     "output_type": "stream",
     "text": [
      "02/20/23\n"
     ]
    }
   ],
   "source": [
    "print(datetime.strftime(şu_an,\"%D\"))"
   ]
  },
  {
   "cell_type": "code",
   "execution_count": 20,
   "id": "fb1f75e2",
   "metadata": {},
   "outputs": [
    {
     "name": "stdout",
     "output_type": "stream",
     "text": [
      "13:51:54\n"
     ]
    }
   ],
   "source": [
    "print(datetime.strftime(şu_an,\"%X\"))"
   ]
  },
  {
   "cell_type": "code",
   "execution_count": 24,
   "id": "f44c8cd9",
   "metadata": {},
   "outputs": [
    {
     "name": "stdout",
     "output_type": "stream",
     "text": [
      "Monday\n"
     ]
    }
   ],
   "source": [
    "print(datetime.strftime(şu_an,\"%A\"))\n",
    "                        "
   ]
  },
  {
   "cell_type": "code",
   "execution_count": 25,
   "id": "d81b1aed",
   "metadata": {},
   "outputs": [
    {
     "name": "stdout",
     "output_type": "stream",
     "text": [
      "February 2023\n"
     ]
    }
   ],
   "source": [
    "print(datetime.strftime(şu_an,\"%B %Y\"))"
   ]
  },
  {
   "cell_type": "code",
   "execution_count": 29,
   "id": "516e2aff",
   "metadata": {},
   "outputs": [
    {
     "name": "stdout",
     "output_type": "stream",
     "text": [
      "08\n"
     ]
    }
   ],
   "source": [
    "print(datetime.strftime(şu_an,\"%W\")) #kaçıncı haftada olduğunu gösterir..."
   ]
  },
  {
   "cell_type": "code",
   "execution_count": 30,
   "id": "27f68b6d",
   "metadata": {},
   "outputs": [
    {
     "name": "stdout",
     "output_type": "stream",
     "text": [
      "2023 February 08 Monday\n"
     ]
    }
   ],
   "source": [
    "print(datetime.strftime(şu_an,\"%Y %B %W %A\")) "
   ]
  },
  {
   "cell_type": "code",
   "execution_count": 31,
   "id": "93493c29",
   "metadata": {},
   "outputs": [],
   "source": [
    "liste = (datetime.strftime(şu_an,\"%Y %B %W %A\")).split(\" \")"
   ]
  },
  {
   "cell_type": "code",
   "execution_count": 32,
   "id": "78cfda3e",
   "metadata": {},
   "outputs": [
    {
     "data": {
      "text/plain": [
       "['2023', 'February', '08', 'Monday']"
      ]
     },
     "execution_count": 32,
     "metadata": {},
     "output_type": "execute_result"
    }
   ],
   "source": [
    "liste"
   ]
  },
  {
   "cell_type": "code",
   "execution_count": 56,
   "id": "8bc7cc45",
   "metadata": {},
   "outputs": [],
   "source": [
    "def tarihler():\n",
    "    with open(\"C:\\\\Users\\\\BSS5BU\\\\Desktop\\\\pycharm_files\\\\egzersiz_dosyalar\\\\tarihler.txt\",\"r\", encoding= \"utf-8\") as file:\n",
    "        for satır in file:\n",
    "            satır = satır.strip(\"\\n\")\n",
    "            liste = satır.split(\" \")\n",
    "            yield liste[2]\n",
    "            \n",
    "haftalar = tarihler()"
   ]
  },
  {
   "cell_type": "code",
   "execution_count": 57,
   "id": "8dd8e5a1",
   "metadata": {},
   "outputs": [
    {
     "name": "stdout",
     "output_type": "stream",
     "text": [
      "08\n",
      "09\n",
      "08\n",
      "08\n",
      "08\n",
      "08\n",
      "08\n",
      "08\n"
     ]
    }
   ],
   "source": [
    "for i in tarihler():\n",
    "    print(i)"
   ]
  },
  {
   "cell_type": "code",
   "execution_count": 58,
   "id": "8c3f4969",
   "metadata": {},
   "outputs": [
    {
     "data": {
      "text/plain": [
       "'08'"
      ]
     },
     "execution_count": 58,
     "metadata": {},
     "output_type": "execute_result"
    }
   ],
   "source": [
    "next(haftalar)"
   ]
  },
  {
   "cell_type": "code",
   "execution_count": 59,
   "id": "a6b1b9d3",
   "metadata": {},
   "outputs": [
    {
     "data": {
      "text/plain": [
       "'09'"
      ]
     },
     "execution_count": 59,
     "metadata": {},
     "output_type": "execute_result"
    }
   ],
   "source": [
    "next(haftalar)"
   ]
  },
  {
   "cell_type": "code",
   "execution_count": 60,
   "id": "47b5ad13",
   "metadata": {},
   "outputs": [
    {
     "data": {
      "text/plain": [
       "'08'"
      ]
     },
     "execution_count": 60,
     "metadata": {},
     "output_type": "execute_result"
    }
   ],
   "source": [
    "next(haftalar)"
   ]
  },
  {
   "cell_type": "code",
   "execution_count": 61,
   "id": "3eb3f46d",
   "metadata": {},
   "outputs": [
    {
     "data": {
      "text/plain": [
       "'08'"
      ]
     },
     "execution_count": 61,
     "metadata": {},
     "output_type": "execute_result"
    }
   ],
   "source": [
    "next(haftalar)"
   ]
  },
  {
   "cell_type": "code",
   "execution_count": 62,
   "id": "42bf5bd9",
   "metadata": {},
   "outputs": [
    {
     "data": {
      "text/plain": [
       "'08'"
      ]
     },
     "execution_count": 62,
     "metadata": {},
     "output_type": "execute_result"
    }
   ],
   "source": [
    "next(haftalar)"
   ]
  },
  {
   "cell_type": "code",
   "execution_count": 63,
   "id": "c731a4c6",
   "metadata": {},
   "outputs": [
    {
     "data": {
      "text/plain": [
       "'08'"
      ]
     },
     "execution_count": 63,
     "metadata": {},
     "output_type": "execute_result"
    }
   ],
   "source": [
    "next(haftalar)"
   ]
  },
  {
   "cell_type": "code",
   "execution_count": 64,
   "id": "06c5ca61",
   "metadata": {},
   "outputs": [
    {
     "data": {
      "text/plain": [
       "'08'"
      ]
     },
     "execution_count": 64,
     "metadata": {},
     "output_type": "execute_result"
    }
   ],
   "source": [
    "next(haftalar)"
   ]
  },
  {
   "cell_type": "code",
   "execution_count": 65,
   "id": "27371fc5",
   "metadata": {},
   "outputs": [
    {
     "data": {
      "text/plain": [
       "'08'"
      ]
     },
     "execution_count": 65,
     "metadata": {},
     "output_type": "execute_result"
    }
   ],
   "source": [
    "next(haftalar)"
   ]
  },
  {
   "cell_type": "code",
   "execution_count": 67,
   "id": "59df1039",
   "metadata": {},
   "outputs": [
    {
     "ename": "StopIteration",
     "evalue": "",
     "output_type": "error",
     "traceback": [
      "\u001b[1;31m---------------------------------------------------------------------------\u001b[0m",
      "\u001b[1;31mStopIteration\u001b[0m                             Traceback (most recent call last)",
      "\u001b[1;32m~\\AppData\\Local\\Temp/ipykernel_27344/2551259799.py\u001b[0m in \u001b[0;36m<module>\u001b[1;34m\u001b[0m\n\u001b[1;32m----> 1\u001b[1;33m \u001b[0mnext\u001b[0m\u001b[1;33m(\u001b[0m\u001b[0mhaftalar\u001b[0m\u001b[1;33m)\u001b[0m\u001b[1;33m\u001b[0m\u001b[1;33m\u001b[0m\u001b[0m\n\u001b[0m",
      "\u001b[1;31mStopIteration\u001b[0m: "
     ]
    }
   ],
   "source": [
    "next(haftalar)"
   ]
  },
  {
   "cell_type": "code",
   "execution_count": 68,
   "id": "7e7447d6",
   "metadata": {},
   "outputs": [],
   "source": [
    "haftalar2 = tarihler()"
   ]
  },
  {
   "cell_type": "code",
   "execution_count": 69,
   "id": "b69a36c8",
   "metadata": {},
   "outputs": [
    {
     "data": {
      "text/plain": [
       "'08'"
      ]
     },
     "execution_count": 69,
     "metadata": {},
     "output_type": "execute_result"
    }
   ],
   "source": [
    "next(haftalar2)"
   ]
  },
  {
   "cell_type": "code",
   "execution_count": 70,
   "id": "214fd756",
   "metadata": {},
   "outputs": [
    {
     "data": {
      "text/plain": [
       "'09'"
      ]
     },
     "execution_count": 70,
     "metadata": {},
     "output_type": "execute_result"
    }
   ],
   "source": [
    "next(haftalar2)"
   ]
  },
  {
   "cell_type": "code",
   "execution_count": 71,
   "id": "a0ba267b",
   "metadata": {},
   "outputs": [],
   "source": [
    "haftalar3 = iter(haftalar)"
   ]
  },
  {
   "cell_type": "code",
   "execution_count": 72,
   "id": "64677504",
   "metadata": {},
   "outputs": [
    {
     "ename": "StopIteration",
     "evalue": "",
     "output_type": "error",
     "traceback": [
      "\u001b[1;31m---------------------------------------------------------------------------\u001b[0m",
      "\u001b[1;31mStopIteration\u001b[0m                             Traceback (most recent call last)",
      "\u001b[1;32m~\\AppData\\Local\\Temp/ipykernel_27344/505462460.py\u001b[0m in \u001b[0;36m<module>\u001b[1;34m\u001b[0m\n\u001b[1;32m----> 1\u001b[1;33m \u001b[0mnext\u001b[0m\u001b[1;33m(\u001b[0m\u001b[0mhaftalar3\u001b[0m\u001b[1;33m)\u001b[0m\u001b[1;33m\u001b[0m\u001b[1;33m\u001b[0m\u001b[0m\n\u001b[0m",
      "\u001b[1;31mStopIteration\u001b[0m: "
     ]
    }
   ],
   "source": [
    "next(haftalar3)"
   ]
  },
  {
   "cell_type": "code",
   "execution_count": 73,
   "id": "edfaa39f",
   "metadata": {},
   "outputs": [
    {
     "name": "stdout",
     "output_type": "stream",
     "text": [
      "08\n",
      "08\n",
      "08\n",
      "08\n",
      "08\n",
      "08\n"
     ]
    }
   ],
   "source": [
    "for i in haftalar2:\n",
    "    print(i)"
   ]
  },
  {
   "cell_type": "code",
   "execution_count": 75,
   "id": "5673e651",
   "metadata": {},
   "outputs": [],
   "source": [
    "for i in haftalar2:\n",
    "    print(i)#kalmadı"
   ]
  },
  {
   "cell_type": "code",
   "execution_count": 76,
   "id": "1f6fe91e",
   "metadata": {},
   "outputs": [],
   "source": [
    "for i in haftalar:\n",
    "    print(i)#kalmadı"
   ]
  },
  {
   "cell_type": "code",
   "execution_count": 77,
   "id": "31a1de24",
   "metadata": {},
   "outputs": [],
   "source": [
    "for i in haftalar3:\n",
    "    print(i)#kalmadı"
   ]
  },
  {
   "cell_type": "code",
   "execution_count": 78,
   "id": "f1512441",
   "metadata": {},
   "outputs": [],
   "source": [
    "import locale"
   ]
  },
  {
   "cell_type": "code",
   "execution_count": 83,
   "id": "27abe8c0",
   "metadata": {},
   "outputs": [
    {
     "data": {
      "text/plain": [
       "'TR'"
      ]
     },
     "execution_count": 83,
     "metadata": {},
     "output_type": "execute_result"
    }
   ],
   "source": [
    "locale.setlocale(locale.LC_ALL,\"TR\")#tırnak içine bi şey söylemediğimiz için Türkiye yaptı(bu bilgisayar US gibi gözüktüğü için US)"
   ]
  },
  {
   "cell_type": "code",
   "execution_count": 90,
   "id": "b3ee5c0c",
   "metadata": {},
   "outputs": [
    {
     "data": {
      "text/plain": [
       "'2023 Şubat 08 Pazartesi'"
      ]
     },
     "execution_count": 90,
     "metadata": {},
     "output_type": "execute_result"
    }
   ],
   "source": [
    "(datetime.strftime(şu_an,\"%Y %B %W %A\"))"
   ]
  },
  {
   "cell_type": "code",
   "execution_count": 91,
   "id": "6e7aabde",
   "metadata": {},
   "outputs": [
    {
     "name": "stdout",
     "output_type": "stream",
     "text": [
      "2023-02-20 13:51:54.910011\n"
     ]
    }
   ],
   "source": [
    "print(şu_an)"
   ]
  },
  {
   "cell_type": "code",
   "execution_count": 92,
   "id": "f97443ab",
   "metadata": {},
   "outputs": [
    {
     "name": "stdout",
     "output_type": "stream",
     "text": [
      "1676892225.059095\n",
      "2023-02-20 14:23:45.059095\n"
     ]
    }
   ],
   "source": [
    "şu_an = datetime.now()\n",
    "saniye = datetime.timestamp(şu_an)\n",
    "print(saniye)\n",
    "şu_an2= datetime.fromtimestamp(saniye)\n",
    "print(şu_an2)"
   ]
  },
  {
   "cell_type": "code",
   "execution_count": 97,
   "id": "d0bb7c1f",
   "metadata": {},
   "outputs": [
    {
     "name": "stdout",
     "output_type": "stream",
     "text": [
      "1970-01-01 03:00:00\n"
     ]
    }
   ],
   "source": [
    "şu_an = datetime.fromtimestamp(0)\n",
    "print(şu_an)\n",
    "# bilgisayar aleminde zamanın başlaması 01.01.1970. Buna epoch zamanı deniyor milat bu tarih saat 03.00'tür \n",
    "# bilgisayar bu tarihten itibaren tarihi hesaplayarak tarihi zamanı bulur..."
   ]
  },
  {
   "cell_type": "code",
   "execution_count": 99,
   "id": "d67bcabb",
   "metadata": {},
   "outputs": [
    {
     "name": "stdout",
     "output_type": "stream",
     "text": [
      "1177 days, 14:29:30.311446\n"
     ]
    }
   ],
   "source": [
    "tarih = datetime(2019,12,1)\n",
    "şu_an = datetime.now()  #Tarihler arasındaki farkı bulduk\n",
    "print(şu_an-tarih)"
   ]
  },
  {
   "cell_type": "code",
   "execution_count": 5,
   "id": "a990b442",
   "metadata": {},
   "outputs": [
    {
     "data": {
      "text/plain": [
       "datetime.datetime"
      ]
     },
     "execution_count": 5,
     "metadata": {},
     "output_type": "execute_result"
    }
   ],
   "source": [
    "type(şu_an)"
   ]
  },
  {
   "cell_type": "code",
   "execution_count": null,
   "id": "e8055460",
   "metadata": {},
   "outputs": [],
   "source": []
  }
 ],
 "metadata": {
  "kernelspec": {
   "display_name": "Python 3 (ipykernel)",
   "language": "python",
   "name": "python3"
  },
  "language_info": {
   "codemirror_mode": {
    "name": "ipython",
    "version": 3
   },
   "file_extension": ".py",
   "mimetype": "text/x-python",
   "name": "python",
   "nbconvert_exporter": "python",
   "pygments_lexer": "ipython3",
   "version": "3.10.9"
  }
 },
 "nbformat": 4,
 "nbformat_minor": 5
}
