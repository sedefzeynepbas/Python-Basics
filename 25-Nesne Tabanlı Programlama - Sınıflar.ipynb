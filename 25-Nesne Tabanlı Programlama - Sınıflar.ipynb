{
 "cells": [
  {
   "cell_type": "code",
   "execution_count": 1,
   "id": "ce09a399",
   "metadata": {},
   "outputs": [],
   "source": [
    "liste =list()\n",
    "sözlük = dict()\n",
    "demet = tuple()\n",
    "def toplama(a,b):\n",
    "    return a+b\n"
   ]
  },
  {
   "cell_type": "code",
   "execution_count": 6,
   "id": "c402aef8",
   "metadata": {},
   "outputs": [
    {
     "data": {
      "text/plain": [
       "list"
      ]
     },
     "execution_count": 6,
     "metadata": {},
     "output_type": "execute_result"
    }
   ],
   "source": [
    "type(liste)"
   ]
  },
  {
   "cell_type": "code",
   "execution_count": 3,
   "id": "b783dcfb",
   "metadata": {},
   "outputs": [
    {
     "data": {
      "text/plain": [
       "dict"
      ]
     },
     "execution_count": 3,
     "metadata": {},
     "output_type": "execute_result"
    }
   ],
   "source": [
    "type(sözlük)"
   ]
  },
  {
   "cell_type": "code",
   "execution_count": 4,
   "id": "c8bbe1db",
   "metadata": {},
   "outputs": [
    {
     "data": {
      "text/plain": [
       "tuple"
      ]
     },
     "execution_count": 4,
     "metadata": {},
     "output_type": "execute_result"
    }
   ],
   "source": [
    "type(demet)"
   ]
  },
  {
   "cell_type": "code",
   "execution_count": 5,
   "id": "eb8fda35",
   "metadata": {},
   "outputs": [
    {
     "data": {
      "text/plain": [
       "function"
      ]
     },
     "execution_count": 5,
     "metadata": {},
     "output_type": "execute_result"
    }
   ],
   "source": [
    "type(toplama)"
   ]
  },
  {
   "cell_type": "code",
   "execution_count": 7,
   "id": "d7b07fcf",
   "metadata": {},
   "outputs": [],
   "source": [
    "class Araba():\n",
    "    marka = \"Porsche\"\n",
    "    renk =\"Kırmızı\"\n",
    "    beygir_gucu = 110\n",
    "    silindir = 4"
   ]
  },
  {
   "cell_type": "code",
   "execution_count": 8,
   "id": "c25f1247",
   "metadata": {},
   "outputs": [],
   "source": [
    "araba1 = Araba()"
   ]
  },
  {
   "cell_type": "code",
   "execution_count": 9,
   "id": "95bfaaeb",
   "metadata": {},
   "outputs": [
    {
     "data": {
      "text/plain": [
       "__main__.Araba"
      ]
     },
     "execution_count": 9,
     "metadata": {},
     "output_type": "execute_result"
    }
   ],
   "source": [
    "type(araba1)"
   ]
  },
  {
   "cell_type": "markdown",
   "id": "399fe05f",
   "metadata": {},
   "source": [
    "\"\"\"main.Araba-> araba klası demek\"\"\""
   ]
  },
  {
   "cell_type": "code",
   "execution_count": 10,
   "id": "9c323607",
   "metadata": {},
   "outputs": [],
   "source": [
    "araba2 = Araba()"
   ]
  },
  {
   "cell_type": "code",
   "execution_count": 11,
   "id": "66ec969a",
   "metadata": {},
   "outputs": [
    {
     "data": {
      "text/plain": [
       "'Porsche'"
      ]
     },
     "execution_count": 11,
     "metadata": {},
     "output_type": "execute_result"
    }
   ],
   "source": [
    "araba1.marka"
   ]
  },
  {
   "cell_type": "code",
   "execution_count": 12,
   "id": "7fbdedd6",
   "metadata": {},
   "outputs": [
    {
     "data": {
      "text/plain": [
       "'Porsche'"
      ]
     },
     "execution_count": 12,
     "metadata": {},
     "output_type": "execute_result"
    }
   ],
   "source": [
    "araba2.marka"
   ]
  },
  {
   "cell_type": "code",
   "execution_count": 13,
   "id": "11330162",
   "metadata": {},
   "outputs": [
    {
     "data": {
      "text/plain": [
       "110"
      ]
     },
     "execution_count": 13,
     "metadata": {},
     "output_type": "execute_result"
    }
   ],
   "source": [
    "araba2.beygir_gucu"
   ]
  },
  {
   "cell_type": "code",
   "execution_count": 14,
   "id": "16ece2ab",
   "metadata": {},
   "outputs": [
    {
     "data": {
      "text/plain": [
       "'Porsche'"
      ]
     },
     "execution_count": 14,
     "metadata": {},
     "output_type": "execute_result"
    }
   ],
   "source": [
    "Araba.marka"
   ]
  },
  {
   "cell_type": "code",
   "execution_count": 15,
   "id": "3692740a",
   "metadata": {},
   "outputs": [
    {
     "data": {
      "text/plain": [
       "110"
      ]
     },
     "execution_count": 15,
     "metadata": {},
     "output_type": "execute_result"
    }
   ],
   "source": [
    "Araba.beygir_gucu"
   ]
  },
  {
   "cell_type": "code",
   "execution_count": 16,
   "id": "306c0f27",
   "metadata": {},
   "outputs": [
    {
     "data": {
      "text/plain": [
       "['__class__',\n",
       " '__delattr__',\n",
       " '__dict__',\n",
       " '__dir__',\n",
       " '__doc__',\n",
       " '__eq__',\n",
       " '__format__',\n",
       " '__ge__',\n",
       " '__getattribute__',\n",
       " '__gt__',\n",
       " '__hash__',\n",
       " '__init__',\n",
       " '__init_subclass__',\n",
       " '__le__',\n",
       " '__lt__',\n",
       " '__module__',\n",
       " '__ne__',\n",
       " '__new__',\n",
       " '__reduce__',\n",
       " '__reduce_ex__',\n",
       " '__repr__',\n",
       " '__setattr__',\n",
       " '__sizeof__',\n",
       " '__str__',\n",
       " '__subclasshook__',\n",
       " '__weakref__',\n",
       " 'beygir_gucu',\n",
       " 'marka',\n",
       " 'renk',\n",
       " 'silindir']"
      ]
     },
     "execution_count": 16,
     "metadata": {},
     "output_type": "execute_result"
    }
   ],
   "source": [
    "dir(araba1)"
   ]
  },
  {
   "cell_type": "code",
   "execution_count": 19,
   "id": "6caa305d",
   "metadata": {},
   "outputs": [],
   "source": [
    "class Araba():\n",
    "    def __init__(self, marka, renk, beygir_gücü, silindir):\n",
    "        print(\"İnit fonksiyonu çağrıldı.\")\n",
    "        \n",
    "        self.marka = marka\n",
    "        self.renk = renk\n",
    "        self.beygir_gücü = beygir_gücü\n",
    "        self.silindir = silindir\n",
    "        \n",
    "        "
   ]
  },
  {
   "cell_type": "code",
   "execution_count": 18,
   "id": "43e25b9c",
   "metadata": {},
   "outputs": [
    {
     "name": "stdout",
     "output_type": "stream",
     "text": [
      "İnit fonksiyonu çağrıldı.\n"
     ]
    }
   ],
   "source": [
    "araba1 = Araba()"
   ]
  },
  {
   "cell_type": "markdown",
   "id": "72f1be8b",
   "metadata": {},
   "source": [
    "init otomatik olarak ilk çağrılan fonksiyon- self objeyi gösteren bir referans diğer parametrelerden önce mutlaka yazılmalı ve bu anahtar kelimesiyle kullanılmalı"
   ]
  },
  {
   "cell_type": "code",
   "execution_count": 20,
   "id": "367330c4",
   "metadata": {},
   "outputs": [
    {
     "name": "stdout",
     "output_type": "stream",
     "text": [
      "İnit fonksiyonu çağrıldı.\n"
     ]
    }
   ],
   "source": [
    "araba1 = Araba(\"Daimler\", \"Gümüş\", 110, 4)"
   ]
  },
  {
   "cell_type": "code",
   "execution_count": 21,
   "id": "dbc92f0d",
   "metadata": {},
   "outputs": [
    {
     "name": "stdout",
     "output_type": "stream",
     "text": [
      "İnit fonksiyonu çağrıldı.\n"
     ]
    }
   ],
   "source": [
    "araba2 = Araba(\"AMG\", \"Beyaz\", 90, 4)"
   ]
  },
  {
   "cell_type": "code",
   "execution_count": 23,
   "id": "ff0d66ce",
   "metadata": {},
   "outputs": [
    {
     "data": {
      "text/plain": [
       "'Daimler'"
      ]
     },
     "execution_count": 23,
     "metadata": {},
     "output_type": "execute_result"
    }
   ],
   "source": [
    "araba1.marka"
   ]
  },
  {
   "cell_type": "code",
   "execution_count": 24,
   "id": "7fc1333e",
   "metadata": {},
   "outputs": [
    {
     "data": {
      "text/plain": [
       "'AMG'"
      ]
     },
     "execution_count": 24,
     "metadata": {},
     "output_type": "execute_result"
    }
   ],
   "source": [
    "araba2.marka"
   ]
  },
  {
   "cell_type": "code",
   "execution_count": 25,
   "id": "0592bb4b",
   "metadata": {},
   "outputs": [],
   "source": [
    "class Araba():\n",
    "    def __init__(self, marka=\"Bilgi Yok\", renk=\"Bilgi Yok\", beygir_gücü=70, silindir=4):\n",
    "        print(\"İnit fonksiyonu çağrıldı.\")\n",
    "        \n",
    "        self.marka = marka\n",
    "        self.renk = renk\n",
    "        self.beygir_gücü = beygir_gücü\n",
    "        self.silindir = silindir"
   ]
  },
  {
   "cell_type": "code",
   "execution_count": 30,
   "id": "c05aa0a8",
   "metadata": {},
   "outputs": [
    {
     "name": "stdout",
     "output_type": "stream",
     "text": [
      "İnit fonksiyonu çağrıldı.\n"
     ]
    }
   ],
   "source": [
    "araba = Araba(beygir_gücü = 110)"
   ]
  },
  {
   "cell_type": "code",
   "execution_count": 31,
   "id": "c0ff7ce4",
   "metadata": {},
   "outputs": [
    {
     "data": {
      "text/plain": [
       "'Bilgi Yok'"
      ]
     },
     "execution_count": 31,
     "metadata": {},
     "output_type": "execute_result"
    }
   ],
   "source": [
    "araba.marka"
   ]
  },
  {
   "cell_type": "code",
   "execution_count": 32,
   "id": "c7e78874",
   "metadata": {},
   "outputs": [
    {
     "data": {
      "text/plain": [
       "'Bilgi Yok'"
      ]
     },
     "execution_count": 32,
     "metadata": {},
     "output_type": "execute_result"
    }
   ],
   "source": [
    "araba.renk"
   ]
  },
  {
   "cell_type": "code",
   "execution_count": 33,
   "id": "40961384",
   "metadata": {},
   "outputs": [
    {
     "data": {
      "text/plain": [
       "110"
      ]
     },
     "execution_count": 33,
     "metadata": {},
     "output_type": "execute_result"
    }
   ],
   "source": [
    "araba.beygir_gücü"
   ]
  },
  {
   "cell_type": "code",
   "execution_count": null,
   "id": "a8e818dc",
   "metadata": {},
   "outputs": [],
   "source": []
  }
 ],
 "metadata": {
  "kernelspec": {
   "display_name": "Python 3 (ipykernel)",
   "language": "python",
   "name": "python3"
  },
  "language_info": {
   "codemirror_mode": {
    "name": "ipython",
    "version": 3
   },
   "file_extension": ".py",
   "mimetype": "text/x-python",
   "name": "python",
   "nbconvert_exporter": "python",
   "pygments_lexer": "ipython3",
   "version": "3.9.7"
  }
 },
 "nbformat": 4,
 "nbformat_minor": 5
}
