{
 "cells": [
  {
   "cell_type": "code",
   "execution_count": 1,
   "id": "8305286d",
   "metadata": {},
   "outputs": [],
   "source": [
    "class Kitap():\n",
    "    pass"
   ]
  },
  {
   "cell_type": "code",
   "execution_count": 2,
   "id": "a03b2aaa",
   "metadata": {},
   "outputs": [],
   "source": [
    "kitap = Kitap() ## __init__ metodu çağrıldı"
   ]
  },
  {
   "cell_type": "code",
   "execution_count": 4,
   "id": "4b5f1e2f",
   "metadata": {},
   "outputs": [
    {
     "name": "stdout",
     "output_type": "stream",
     "text": [
      "<__main__.Kitap object at 0x0000020EA5A86640>\n"
     ]
    }
   ],
   "source": [
    "print(kitap) ## __str__ metodu çağrıldı"
   ]
  },
  {
   "cell_type": "code",
   "execution_count": 5,
   "id": "3c063c95",
   "metadata": {},
   "outputs": [
    {
     "ename": "TypeError",
     "evalue": "object of type 'Kitap' has no len()",
     "output_type": "error",
     "traceback": [
      "\u001b[1;31m---------------------------------------------------------------------------\u001b[0m",
      "\u001b[1;31mTypeError\u001b[0m                                 Traceback (most recent call last)",
      "\u001b[1;32m~\\AppData\\Local\\Temp/ipykernel_4304/518691340.py\u001b[0m in \u001b[0;36m<module>\u001b[1;34m\u001b[0m\n\u001b[1;32m----> 1\u001b[1;33m \u001b[0mlen\u001b[0m\u001b[1;33m(\u001b[0m\u001b[0mkitap\u001b[0m\u001b[1;33m)\u001b[0m\u001b[1;33m\u001b[0m\u001b[1;33m\u001b[0m\u001b[0m\n\u001b[0m",
      "\u001b[1;31mTypeError\u001b[0m: object of type 'Kitap' has no len()"
     ]
    }
   ],
   "source": [
    "len(kitap) ## len metodunu çağırmak istiyor ama bilmiyor bizim tanımlamamız gerekiyor"
   ]
  },
  {
   "cell_type": "code",
   "execution_count": 6,
   "id": "270ef9fc",
   "metadata": {},
   "outputs": [],
   "source": [
    "del kitap ## __del__ metodu"
   ]
  },
  {
   "cell_type": "code",
   "execution_count": 7,
   "id": "c6ef9ce2",
   "metadata": {},
   "outputs": [
    {
     "ename": "NameError",
     "evalue": "name 'kitap' is not defined",
     "output_type": "error",
     "traceback": [
      "\u001b[1;31m---------------------------------------------------------------------------\u001b[0m",
      "\u001b[1;31mNameError\u001b[0m                                 Traceback (most recent call last)",
      "\u001b[1;32m~\\AppData\\Local\\Temp/ipykernel_4304/436624881.py\u001b[0m in \u001b[0;36m<module>\u001b[1;34m\u001b[0m\n\u001b[1;32m----> 1\u001b[1;33m \u001b[0mkitap\u001b[0m\u001b[1;33m\u001b[0m\u001b[1;33m\u001b[0m\u001b[0m\n\u001b[0m",
      "\u001b[1;31mNameError\u001b[0m: name 'kitap' is not defined"
     ]
    }
   ],
   "source": [
    "kitap"
   ]
  },
  {
   "cell_type": "code",
   "execution_count": 8,
   "id": "136c4855",
   "metadata": {},
   "outputs": [],
   "source": [
    "class Kitap():\n",
    "    def __init__(self, isim, yazar, sayfa_say, tur):\n",
    "        print(\"init fonksiyonu\")\n",
    "        self.isim = isim\n",
    "        self.yazar = yazar\n",
    "        self.sayfa_say = sayfa_say\n",
    "        self.tur = tur\n",
    "        "
   ]
  },
  {
   "cell_type": "code",
   "execution_count": 9,
   "id": "7e18e6cf",
   "metadata": {},
   "outputs": [
    {
     "name": "stdout",
     "output_type": "stream",
     "text": [
      "init fonksiyonu\n"
     ]
    }
   ],
   "source": [
    "kitap = Kitap(\"Kediler\", \"Baby\", 333, \"non-fiction\")"
   ]
  },
  {
   "cell_type": "code",
   "execution_count": 14,
   "id": "4b4377ef",
   "metadata": {},
   "outputs": [],
   "source": [
    "class Kitap():\n",
    "    def __init__(self, isim, yazar, sayfa_say, tur):\n",
    "        print(\"init fonksiyonu\")\n",
    "        self.isim = isim\n",
    "        self.yazar = yazar\n",
    "        self.sayfa_say = sayfa_say\n",
    "        self.tur = tur\n",
    "    def __str__(self):\n",
    "        return \"İsim: {}\\nYazar: {}\\nSayfa Sayısı: {}\\nTür: {}\".format(self.isim, self.yazar, self.sayfa_say, self.tur)"
   ]
  },
  {
   "cell_type": "code",
   "execution_count": 15,
   "id": "a0514efc",
   "metadata": {},
   "outputs": [
    {
     "name": "stdout",
     "output_type": "stream",
     "text": [
      "init fonksiyonu\n"
     ]
    }
   ],
   "source": [
    "kitap = Kitap(\"Kediler\", \"Baby\", 333, \"non-fiction\")"
   ]
  },
  {
   "cell_type": "code",
   "execution_count": 16,
   "id": "921e10cc",
   "metadata": {},
   "outputs": [
    {
     "data": {
      "text/plain": [
       "<__main__.Kitap at 0x20ea5b77a60>"
      ]
     },
     "execution_count": 16,
     "metadata": {},
     "output_type": "execute_result"
    }
   ],
   "source": [
    "kitap"
   ]
  },
  {
   "cell_type": "code",
   "execution_count": 17,
   "id": "79e49d5c",
   "metadata": {},
   "outputs": [
    {
     "name": "stdout",
     "output_type": "stream",
     "text": [
      "İsim: Kediler\n",
      "Yazar Baby\n",
      "Sayfa Sayısı: 333\n",
      "Tür: non-fiction\n"
     ]
    }
   ],
   "source": [
    "print(kitap)"
   ]
  },
  {
   "cell_type": "code",
   "execution_count": 18,
   "id": "5eb76835",
   "metadata": {},
   "outputs": [
    {
     "data": {
      "text/plain": [
       "__main__.Kitap"
      ]
     },
     "execution_count": 18,
     "metadata": {},
     "output_type": "execute_result"
    }
   ],
   "source": [
    "type(kitap)"
   ]
  },
  {
   "cell_type": "code",
   "execution_count": 22,
   "id": "63be4388",
   "metadata": {},
   "outputs": [],
   "source": [
    "class Kitap():\n",
    "    def __init__(self, isim, yazar, sayfa_say, tur):\n",
    "        print(\"init fonksiyonu\")\n",
    "        self.isim = isim\n",
    "        self.yazar = yazar\n",
    "        self.sayfa_say = sayfa_say\n",
    "        self.tur = tur\n",
    "    def __str__(self):\n",
    "        return \"İsim: {}\\nYazar: {}\\nSayfa Sayısı: {}\\nTür: {}\".format(self.isim, self.yazar, self.sayfa_say, self.tur)\n",
    "    def __len__(self):\n",
    "        print(\"Sayfa Sayısı:\")\n",
    "        return self.sayfa_say"
   ]
  },
  {
   "cell_type": "code",
   "execution_count": 23,
   "id": "4088fa55",
   "metadata": {},
   "outputs": [
    {
     "name": "stdout",
     "output_type": "stream",
     "text": [
      "init fonksiyonu\n"
     ]
    }
   ],
   "source": [
    "kitap = Kitap(\"Kediler\", \"Baby\", 333, \"non-fiction\")"
   ]
  },
  {
   "cell_type": "code",
   "execution_count": 24,
   "id": "6e166909",
   "metadata": {},
   "outputs": [
    {
     "name": "stdout",
     "output_type": "stream",
     "text": [
      "Sayfa Sayısı:\n"
     ]
    },
    {
     "data": {
      "text/plain": [
       "333"
      ]
     },
     "execution_count": 24,
     "metadata": {},
     "output_type": "execute_result"
    }
   ],
   "source": [
    "len(kitap)"
   ]
  },
  {
   "cell_type": "markdown",
   "id": "0e17373d",
   "metadata": {},
   "source": [
    "Python'daki del len vs gibi metodlara ekstra özellikler ekliyoruz bu şekilde"
   ]
  },
  {
   "cell_type": "code",
   "execution_count": 26,
   "id": "900ffc5c",
   "metadata": {},
   "outputs": [],
   "source": [
    "class Kitap():\n",
    "    def __init__(self, isim, yazar, sayfa_say, tur):\n",
    "        print(\"init fonksiyonu\")\n",
    "        self.isim = isim\n",
    "        self.yazar = yazar\n",
    "        self.sayfa_say = sayfa_say\n",
    "        self.tur = tur\n",
    "    def __str__(self):\n",
    "        return \"İsim: {}\\nYazar: {}\\nSayfa Sayısı: {}\\nTür: {}\".format(self.isim, self.yazar, self.sayfa_say, self.tur)\n",
    "    def __len__(self):\n",
    "        print(\"Sayfa Sayısı:\")\n",
    "        return self.sayfa_say\n",
    "    def __del__(self):\n",
    "        print(\"Kitap objesi siliniyor...\")\n",
    "        "
   ]
  },
  {
   "cell_type": "code",
   "execution_count": 27,
   "id": "2a15bdd3",
   "metadata": {},
   "outputs": [
    {
     "name": "stdout",
     "output_type": "stream",
     "text": [
      "init fonksiyonu\n"
     ]
    }
   ],
   "source": [
    "kitap = Kitap(\"Kediler\", \"Baby\", 333, \"non-fiction\")"
   ]
  },
  {
   "cell_type": "code",
   "execution_count": 28,
   "id": "a81b6b5f",
   "metadata": {},
   "outputs": [
    {
     "name": "stdout",
     "output_type": "stream",
     "text": [
      "Kitap objesi siliniyor...\n"
     ]
    }
   ],
   "source": [
    "del kitap"
   ]
  },
  {
   "cell_type": "code",
   "execution_count": 29,
   "id": "d137533e",
   "metadata": {},
   "outputs": [
    {
     "ename": "NameError",
     "evalue": "name 'kitap' is not defined",
     "output_type": "error",
     "traceback": [
      "\u001b[1;31m---------------------------------------------------------------------------\u001b[0m",
      "\u001b[1;31mNameError\u001b[0m                                 Traceback (most recent call last)",
      "\u001b[1;32m~\\AppData\\Local\\Temp/ipykernel_4304/436624881.py\u001b[0m in \u001b[0;36m<module>\u001b[1;34m\u001b[0m\n\u001b[1;32m----> 1\u001b[1;33m \u001b[0mkitap\u001b[0m\u001b[1;33m\u001b[0m\u001b[1;33m\u001b[0m\u001b[0m\n\u001b[0m",
      "\u001b[1;31mNameError\u001b[0m: name 'kitap' is not defined"
     ]
    }
   ],
   "source": [
    "kitap"
   ]
  },
  {
   "cell_type": "markdown",
   "id": "68c3b1c1",
   "metadata": {},
   "source": [
    "https://diveintopython3.net/special-method-names.html"
   ]
  },
  {
   "cell_type": "code",
   "execution_count": 30,
   "id": "da582335",
   "metadata": {},
   "outputs": [],
   "source": [
    "liste = list(range(1,6))"
   ]
  },
  {
   "cell_type": "code",
   "execution_count": 31,
   "id": "0666a8ac",
   "metadata": {},
   "outputs": [
    {
     "data": {
      "text/plain": [
       "[1, 2, 3, 4, 5]"
      ]
     },
     "execution_count": 31,
     "metadata": {},
     "output_type": "execute_result"
    }
   ],
   "source": [
    "liste"
   ]
  },
  {
   "cell_type": "code",
   "execution_count": 32,
   "id": "91b81976",
   "metadata": {},
   "outputs": [
    {
     "ename": "IndexError",
     "evalue": "pop index out of range",
     "output_type": "error",
     "traceback": [
      "\u001b[1;31m---------------------------------------------------------------------------\u001b[0m",
      "\u001b[1;31mIndexError\u001b[0m                                Traceback (most recent call last)",
      "\u001b[1;32m~\\AppData\\Local\\Temp/ipykernel_4304/1767350229.py\u001b[0m in \u001b[0;36m<module>\u001b[1;34m\u001b[0m\n\u001b[1;32m----> 1\u001b[1;33m \u001b[0mliste\u001b[0m\u001b[1;33m.\u001b[0m\u001b[0mpop\u001b[0m\u001b[1;33m(\u001b[0m\u001b[1;36m5\u001b[0m\u001b[1;33m)\u001b[0m\u001b[1;33m\u001b[0m\u001b[1;33m\u001b[0m\u001b[0m\n\u001b[0m",
      "\u001b[1;31mIndexError\u001b[0m: pop index out of range"
     ]
    }
   ],
   "source": [
    "liste.pop(5)"
   ]
  },
  {
   "cell_type": "code",
   "execution_count": null,
   "id": "da09d796",
   "metadata": {},
   "outputs": [],
   "source": []
  }
 ],
 "metadata": {
  "kernelspec": {
   "display_name": "Python 3 (ipykernel)",
   "language": "python",
   "name": "python3"
  },
  "language_info": {
   "codemirror_mode": {
    "name": "ipython",
    "version": 3
   },
   "file_extension": ".py",
   "mimetype": "text/x-python",
   "name": "python",
   "nbconvert_exporter": "python",
   "pygments_lexer": "ipython3",
   "version": "3.9.7"
  }
 },
 "nbformat": 4,
 "nbformat_minor": 5
}
