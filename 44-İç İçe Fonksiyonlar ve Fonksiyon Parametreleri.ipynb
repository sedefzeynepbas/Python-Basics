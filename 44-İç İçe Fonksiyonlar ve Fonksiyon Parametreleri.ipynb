{
 "cells": [
  {
   "cell_type": "code",
   "execution_count": 37,
   "id": "094f6d66",
   "metadata": {},
   "outputs": [],
   "source": [
    "def fonksiyon(*args):\n",
    "    for i in args:\n",
    "        print(i)"
   ]
  },
  {
   "cell_type": "code",
   "execution_count": 38,
   "id": "346b0d21",
   "metadata": {},
   "outputs": [
    {
     "name": "stdout",
     "output_type": "stream",
     "text": [
      "1\n",
      "2\n",
      "3\n",
      "4\n",
      "5\n",
      "67\n"
     ]
    }
   ],
   "source": [
    "fonksiyon(1,2,3,4,5,67)"
   ]
  },
  {
   "cell_type": "code",
   "execution_count": 43,
   "id": "e1f72dd4",
   "metadata": {},
   "outputs": [],
   "source": [
    "def fonksiyon(isim,*args):\n",
    "    print(\"İsim:\", isim)\n",
    "    print(\"-----------\")\n",
    "    for i in args:\n",
    "        print(i)"
   ]
  },
  {
   "cell_type": "code",
   "execution_count": 44,
   "id": "595e5c75",
   "metadata": {},
   "outputs": [
    {
     "name": "stdout",
     "output_type": "stream",
     "text": [
      "İsim: Tinki\n",
      "-----------\n",
      "12\n",
      "345\n",
      "6\n",
      "7\n",
      "8\n"
     ]
    }
   ],
   "source": [
    "fonksiyon(\"Tinki\",12,345,6,7,8)"
   ]
  },
  {
   "cell_type": "code",
   "execution_count": 45,
   "id": "87abc1a0",
   "metadata": {},
   "outputs": [],
   "source": [
    "def fonksiyon(**kwargs):\n",
    "    print(kwargs)"
   ]
  },
  {
   "cell_type": "code",
   "execution_count": 46,
   "id": "5dd0bcf3",
   "metadata": {},
   "outputs": [
    {
     "name": "stdout",
     "output_type": "stream",
     "text": [
      "{'isim': 'Tinki', 'soyisim': 'Vinki', 'numara': '11'}\n"
     ]
    }
   ],
   "source": [
    "fonksiyon(isim = \"Tinki\", soyisim = \"Vinki\", numara = \"11\")"
   ]
  },
  {
   "cell_type": "code",
   "execution_count": 47,
   "id": "deed97a8",
   "metadata": {},
   "outputs": [],
   "source": [
    "def fonksiyon(**kwargs):\n",
    "    for i,j in kwargs.items():\n",
    "        print(\"Değer: {} Anahtar: {}\".format(i,j))"
   ]
  },
  {
   "cell_type": "code",
   "execution_count": 48,
   "id": "3498126e",
   "metadata": {},
   "outputs": [
    {
     "name": "stdout",
     "output_type": "stream",
     "text": [
      "Değer: isim Anahtar: Tinki\n",
      "Değer: soyisim Anahtar: Vinki\n",
      "Değer: numara Anahtar: 11\n"
     ]
    }
   ],
   "source": [
    "fonksiyon(isim = \"Tinki\", soyisim = \"Vinki\", numara = \"11\")"
   ]
  },
  {
   "cell_type": "code",
   "execution_count": 53,
   "id": "0fa444eb",
   "metadata": {},
   "outputs": [],
   "source": [
    "def fonksiyon(*args,**kwargs):\n",
    "    print(\"5 ten büyük argümanlar:\")\n",
    "    for i in args:\n",
    "        if i >5:\n",
    "            print(i)\n",
    "    print(\"5 ten büyük itemler:\")\n",
    "    for j,k in kwargs.items():\n",
    "        if k > 5:\n",
    "            print(j,k)\n",
    "        "
   ]
  },
  {
   "cell_type": "code",
   "execution_count": 56,
   "id": "a1a2e1ff",
   "metadata": {},
   "outputs": [
    {
     "name": "stdout",
     "output_type": "stream",
     "text": [
      "5 ten büyük argümanlar:\n",
      "6\n",
      "8\n",
      "54\n",
      "34\n",
      "24\n",
      "5 ten büyük itemler:\n",
      "f 6\n",
      "g 7\n"
     ]
    }
   ],
   "source": [
    "fonksiyon(1,2,3,4,6,8,54,34,24,a = 1,b=2,c=3,d=4,e=5,f=6,g=7)\n"
   ]
  },
  {
   "cell_type": "markdown",
   "id": "579c0d02",
   "metadata": {},
   "source": [
    "İÇ İÇE FONKSİYONLAR"
   ]
  },
  {
   "cell_type": "code",
   "execution_count": 57,
   "id": "5da657be",
   "metadata": {},
   "outputs": [],
   "source": [
    "def hello(isim):\n",
    "    print(\"Hello {}\".format(isim))"
   ]
  },
  {
   "cell_type": "code",
   "execution_count": 58,
   "id": "6ce8e4ec",
   "metadata": {},
   "outputs": [
    {
     "name": "stdout",
     "output_type": "stream",
     "text": [
      "Hello World\n"
     ]
    }
   ],
   "source": [
    "hello(\"World\")"
   ]
  },
  {
   "cell_type": "code",
   "execution_count": 59,
   "id": "8fe0fea2",
   "metadata": {},
   "outputs": [
    {
     "data": {
      "text/plain": [
       "<function __main__.hello(isim)>"
      ]
     },
     "execution_count": 59,
     "metadata": {},
     "output_type": "execute_result"
    }
   ],
   "source": [
    "hello"
   ]
  },
  {
   "cell_type": "code",
   "execution_count": 60,
   "id": "86970f54",
   "metadata": {},
   "outputs": [],
   "source": [
    "merhaba = hello"
   ]
  },
  {
   "cell_type": "code",
   "execution_count": 62,
   "id": "b6c0fea6",
   "metadata": {},
   "outputs": [
    {
     "data": {
      "text/plain": [
       "<function __main__.hello(isim)>"
      ]
     },
     "execution_count": 62,
     "metadata": {},
     "output_type": "execute_result"
    }
   ],
   "source": [
    "merhaba"
   ]
  },
  {
   "cell_type": "code",
   "execution_count": 63,
   "id": "b3d655e5",
   "metadata": {},
   "outputs": [
    {
     "name": "stdout",
     "output_type": "stream",
     "text": [
      "Hello Tinki\n"
     ]
    }
   ],
   "source": [
    "merhaba(\"Tinki\")"
   ]
  },
  {
   "cell_type": "code",
   "execution_count": 64,
   "id": "91f2fdf1",
   "metadata": {},
   "outputs": [],
   "source": [
    "del hello"
   ]
  },
  {
   "cell_type": "code",
   "execution_count": 65,
   "id": "8007cfbf",
   "metadata": {},
   "outputs": [
    {
     "data": {
      "text/plain": [
       "<function __main__.hello(isim)>"
      ]
     },
     "execution_count": 65,
     "metadata": {},
     "output_type": "execute_result"
    }
   ],
   "source": [
    "merhaba"
   ]
  },
  {
   "cell_type": "code",
   "execution_count": 67,
   "id": "cb7ee952",
   "metadata": {},
   "outputs": [
    {
     "ename": "NameError",
     "evalue": "name 'hello' is not defined",
     "output_type": "error",
     "traceback": [
      "\u001b[1;31m---------------------------------------------------------------------------\u001b[0m",
      "\u001b[1;31mNameError\u001b[0m                                 Traceback (most recent call last)",
      "\u001b[1;32m~\\AppData\\Local\\Temp/ipykernel_21300/3305111549.py\u001b[0m in \u001b[0;36m<module>\u001b[1;34m\u001b[0m\n\u001b[1;32m----> 1\u001b[1;33m \u001b[0mhello\u001b[0m\u001b[1;33m\u001b[0m\u001b[1;33m\u001b[0m\u001b[0m\n\u001b[0m",
      "\u001b[1;31mNameError\u001b[0m: name 'hello' is not defined"
     ]
    }
   ],
   "source": [
    "hello"
   ]
  },
  {
   "cell_type": "code",
   "execution_count": 66,
   "id": "3e306e53",
   "metadata": {},
   "outputs": [
    {
     "name": "stdout",
     "output_type": "stream",
     "text": [
      "Hello BBY\n"
     ]
    }
   ],
   "source": [
    "merhaba(\"BBY\")"
   ]
  },
  {
   "cell_type": "code",
   "execution_count": 97,
   "id": "e923e4ef",
   "metadata": {},
   "outputs": [],
   "source": [
    "def fonksiyon():\n",
    "    \n",
    "    merhaba(\"Pinkie\")\n",
    "    def fonksiyon2():\n",
    "        print(\"Alt fonksiyon\")\n",
    "    fonksiyon2()\n",
    "    print(\"Üst fonksiyon\")"
   ]
  },
  {
   "cell_type": "code",
   "execution_count": 98,
   "id": "e3a8a20c",
   "metadata": {},
   "outputs": [
    {
     "name": "stdout",
     "output_type": "stream",
     "text": [
      "Hello Pinkie\n",
      "Alt fonksiyon\n",
      "Üst fonksiyon\n"
     ]
    }
   ],
   "source": [
    "fonksiyon()"
   ]
  },
  {
   "cell_type": "code",
   "execution_count": 72,
   "id": "eddcc57a",
   "metadata": {},
   "outputs": [
    {
     "ename": "NameError",
     "evalue": "name 'fonksiyon2' is not defined",
     "output_type": "error",
     "traceback": [
      "\u001b[1;31m---------------------------------------------------------------------------\u001b[0m",
      "\u001b[1;31mNameError\u001b[0m                                 Traceback (most recent call last)",
      "\u001b[1;32m~\\AppData\\Local\\Temp/ipykernel_21300/1149327145.py\u001b[0m in \u001b[0;36m<module>\u001b[1;34m\u001b[0m\n\u001b[1;32m----> 1\u001b[1;33m \u001b[0mfonksiyon2\u001b[0m\u001b[1;33m(\u001b[0m\u001b[1;33m)\u001b[0m\u001b[1;33m\u001b[0m\u001b[1;33m\u001b[0m\u001b[0m\n\u001b[0m",
      "\u001b[1;31mNameError\u001b[0m: name 'fonksiyon2' is not defined"
     ]
    }
   ],
   "source": [
    "fonksiyon2()"
   ]
  },
  {
   "cell_type": "code",
   "execution_count": 79,
   "id": "277beb1b",
   "metadata": {},
   "outputs": [],
   "source": [
    "from functools import reduce\n",
    "def fonksiyon(*args): #gönderdiğimiz args bir demet oluşturuyor\n",
    "    return reduce(lambda i,j : i + j, args)\n",
    "    "
   ]
  },
  {
   "cell_type": "code",
   "execution_count": 81,
   "id": "1b2a5749",
   "metadata": {},
   "outputs": [
    {
     "data": {
      "text/plain": [
       "25"
      ]
     },
     "execution_count": 81,
     "metadata": {},
     "output_type": "execute_result"
    }
   ],
   "source": [
    "fonksiyon(1,2,3,4,5,10)"
   ]
  },
  {
   "cell_type": "code",
   "execution_count": 87,
   "id": "b2b06cc0",
   "metadata": {},
   "outputs": [],
   "source": [
    "def fonksiyon(*args): #gönderdiğimiz args bir demet oluşturuyor\n",
    "    return tuple(map(lambda i,j : i + j, args))\n",
    "    "
   ]
  },
  {
   "cell_type": "code",
   "execution_count": 89,
   "id": "1176a9db",
   "metadata": {},
   "outputs": [
    {
     "ename": "TypeError",
     "evalue": "<lambda>() missing 1 required positional argument: 'j'",
     "output_type": "error",
     "traceback": [
      "\u001b[1;31m---------------------------------------------------------------------------\u001b[0m",
      "\u001b[1;31mTypeError\u001b[0m                                 Traceback (most recent call last)",
      "\u001b[1;32m~\\AppData\\Local\\Temp/ipykernel_21300/1545357058.py\u001b[0m in \u001b[0;36m<module>\u001b[1;34m\u001b[0m\n\u001b[1;32m----> 1\u001b[1;33m \u001b[0mfonksiyon\u001b[0m\u001b[1;33m(\u001b[0m\u001b[1;33m(\u001b[0m\u001b[1;36m1\u001b[0m\u001b[1;33m,\u001b[0m\u001b[1;36m2\u001b[0m\u001b[1;33m,\u001b[0m\u001b[1;36m3\u001b[0m\u001b[1;33m,\u001b[0m\u001b[1;36m4\u001b[0m\u001b[1;33m,\u001b[0m\u001b[1;36m5\u001b[0m\u001b[1;33m,\u001b[0m\u001b[1;36m19\u001b[0m\u001b[1;33m)\u001b[0m\u001b[1;33m)\u001b[0m \u001b[1;31m#her elemana tek tek eşit oluyor map fonksiyonunda o yüzden olmuyor\u001b[0m\u001b[1;33m\u001b[0m\u001b[1;33m\u001b[0m\u001b[0m\n\u001b[0m",
      "\u001b[1;32m~\\AppData\\Local\\Temp/ipykernel_21300/2624052361.py\u001b[0m in \u001b[0;36mfonksiyon\u001b[1;34m(*args)\u001b[0m\n\u001b[0;32m      1\u001b[0m \u001b[1;32mdef\u001b[0m \u001b[0mfonksiyon\u001b[0m\u001b[1;33m(\u001b[0m\u001b[1;33m*\u001b[0m\u001b[0margs\u001b[0m\u001b[1;33m)\u001b[0m\u001b[1;33m:\u001b[0m \u001b[1;31m#gönderdiğimiz args bir demet oluşturuyor\u001b[0m\u001b[1;33m\u001b[0m\u001b[1;33m\u001b[0m\u001b[0m\n\u001b[1;32m----> 2\u001b[1;33m     \u001b[1;32mreturn\u001b[0m \u001b[0mtuple\u001b[0m\u001b[1;33m(\u001b[0m\u001b[0mmap\u001b[0m\u001b[1;33m(\u001b[0m\u001b[1;32mlambda\u001b[0m \u001b[0mi\u001b[0m\u001b[1;33m,\u001b[0m\u001b[0mj\u001b[0m \u001b[1;33m:\u001b[0m \u001b[0mi\u001b[0m \u001b[1;33m+\u001b[0m \u001b[0mj\u001b[0m\u001b[1;33m,\u001b[0m \u001b[0margs\u001b[0m\u001b[1;33m)\u001b[0m\u001b[1;33m)\u001b[0m\u001b[1;33m\u001b[0m\u001b[1;33m\u001b[0m\u001b[0m\n\u001b[0m\u001b[0;32m      3\u001b[0m \u001b[1;33m\u001b[0m\u001b[0m\n",
      "\u001b[1;31mTypeError\u001b[0m: <lambda>() missing 1 required positional argument: 'j'"
     ]
    }
   ],
   "source": [
    "fonksiyon((1,2,3,4,5,19)) #her elemana tek tek eşit oluyor map fonksiyonunda o yüzden olmuyor"
   ]
  },
  {
   "cell_type": "code",
   "execution_count": 99,
   "id": "95aa1bce",
   "metadata": {},
   "outputs": [],
   "source": [
    "def fonksiyon(*args): #gönderdiğimiz args bir demet oluşturuyor\n",
    "    \n",
    "    def toplama(args):\n",
    "        toplam = 0\n",
    "        for i in args:\n",
    "            toplam += i\n",
    "        return toplam #neden print(toplam) diyince ekrana yazdırmadı????\n",
    "    print(toplama(args))\n",
    "        \n",
    "    "
   ]
  },
  {
   "cell_type": "code",
   "execution_count": 101,
   "id": "46be625f",
   "metadata": {},
   "outputs": [
    {
     "name": "stdout",
     "output_type": "stream",
     "text": [
      "28\n"
     ]
    }
   ],
   "source": [
    "fonksiyon(1,2,3,4,5,6,7)"
   ]
  },
  {
   "cell_type": "code",
   "execution_count": null,
   "id": "f1df87c5",
   "metadata": {},
   "outputs": [],
   "source": []
  }
 ],
 "metadata": {
  "kernelspec": {
   "display_name": "Python 3 (ipykernel)",
   "language": "python",
   "name": "python3"
  },
  "language_info": {
   "codemirror_mode": {
    "name": "ipython",
    "version": 3
   },
   "file_extension": ".py",
   "mimetype": "text/x-python",
   "name": "python",
   "nbconvert_exporter": "python",
   "pygments_lexer": "ipython3",
   "version": "3.9.7"
  }
 },
 "nbformat": 4,
 "nbformat_minor": 5
}
