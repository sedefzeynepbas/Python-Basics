{
 "cells": [
  {
   "cell_type": "markdown",
   "id": "c7a1c2a8",
   "metadata": {},
   "source": [
    "Anahtar:Değer ilişkisi"
   ]
  },
  {
   "cell_type": "code",
   "execution_count": 1,
   "id": "296faaed",
   "metadata": {},
   "outputs": [],
   "source": [
    "sözlük1 = {\"bir\":1,\"iki\":2,\"üç\":3,\"dört\":4}"
   ]
  },
  {
   "cell_type": "code",
   "execution_count": 2,
   "id": "84011c51",
   "metadata": {},
   "outputs": [
    {
     "data": {
      "text/plain": [
       "dict"
      ]
     },
     "execution_count": 2,
     "metadata": {},
     "output_type": "execute_result"
    }
   ],
   "source": [
    "type(sözlük1)"
   ]
  },
  {
   "cell_type": "code",
   "execution_count": 3,
   "id": "97e4b0f8",
   "metadata": {},
   "outputs": [],
   "source": [
    "sözlük2 = {}"
   ]
  },
  {
   "cell_type": "code",
   "execution_count": 4,
   "id": "f5c92a62",
   "metadata": {},
   "outputs": [
    {
     "data": {
      "text/plain": [
       "{}"
      ]
     },
     "execution_count": 4,
     "metadata": {},
     "output_type": "execute_result"
    }
   ],
   "source": [
    "sözlük2"
   ]
  },
  {
   "cell_type": "code",
   "execution_count": 6,
   "id": "650f61d1",
   "metadata": {},
   "outputs": [],
   "source": [
    "sözlük2 = dict()"
   ]
  },
  {
   "cell_type": "code",
   "execution_count": 7,
   "id": "a8dcc170",
   "metadata": {},
   "outputs": [
    {
     "data": {
      "text/plain": [
       "{}"
      ]
     },
     "execution_count": 7,
     "metadata": {},
     "output_type": "execute_result"
    }
   ],
   "source": [
    "sözlük2"
   ]
  },
  {
   "cell_type": "code",
   "execution_count": 8,
   "id": "2c2a4f92",
   "metadata": {},
   "outputs": [
    {
     "data": {
      "text/plain": [
       "{'bir': 1, 'iki': 2, 'üç': 3, 'dört': 4}"
      ]
     },
     "execution_count": 8,
     "metadata": {},
     "output_type": "execute_result"
    }
   ],
   "source": [
    "sözlük1"
   ]
  },
  {
   "cell_type": "code",
   "execution_count": 9,
   "id": "ebd410ab",
   "metadata": {},
   "outputs": [
    {
     "data": {
      "text/plain": [
       "1"
      ]
     },
     "execution_count": 9,
     "metadata": {},
     "output_type": "execute_result"
    }
   ],
   "source": [
    "sözlük1[\"bir\"]"
   ]
  },
  {
   "cell_type": "code",
   "execution_count": 10,
   "id": "ff6fcf78",
   "metadata": {},
   "outputs": [
    {
     "data": {
      "text/plain": [
       "4"
      ]
     },
     "execution_count": 10,
     "metadata": {},
     "output_type": "execute_result"
    }
   ],
   "source": [
    "sözlük1[\"dört\"]"
   ]
  },
  {
   "cell_type": "code",
   "execution_count": 11,
   "id": "d2ea1989",
   "metadata": {},
   "outputs": [
    {
     "ename": "KeyError",
     "evalue": "'beş'",
     "output_type": "error",
     "traceback": [
      "\u001b[1;31m---------------------------------------------------------------------------\u001b[0m",
      "\u001b[1;31mKeyError\u001b[0m                                  Traceback (most recent call last)",
      "\u001b[1;32m~\\AppData\\Local\\Temp/ipykernel_15052/2377591889.py\u001b[0m in \u001b[0;36m<module>\u001b[1;34m\u001b[0m\n\u001b[1;32m----> 1\u001b[1;33m \u001b[0msözlük1\u001b[0m\u001b[1;33m[\u001b[0m\u001b[1;34m\"beş\"\u001b[0m\u001b[1;33m]\u001b[0m\u001b[1;33m\u001b[0m\u001b[1;33m\u001b[0m\u001b[0m\n\u001b[0m",
      "\u001b[1;31mKeyError\u001b[0m: 'beş'"
     ]
    }
   ],
   "source": [
    "sözlük1[\"beş\"]"
   ]
  },
  {
   "cell_type": "code",
   "execution_count": 12,
   "id": "418f50e7",
   "metadata": {},
   "outputs": [
    {
     "data": {
      "text/plain": [
       "{'bir': 1, 'iki': 2, 'üç': 3, 'dört': 4}"
      ]
     },
     "execution_count": 12,
     "metadata": {},
     "output_type": "execute_result"
    }
   ],
   "source": [
    "sözlük1"
   ]
  },
  {
   "cell_type": "code",
   "execution_count": 13,
   "id": "13df4293",
   "metadata": {},
   "outputs": [],
   "source": [
    "sözlük1[\"beş\"] = 5"
   ]
  },
  {
   "cell_type": "code",
   "execution_count": 14,
   "id": "e9df54ad",
   "metadata": {},
   "outputs": [
    {
     "data": {
      "text/plain": [
       "{'bir': 1, 'iki': 2, 'üç': 3, 'dört': 4, 'beş': 5}"
      ]
     },
     "execution_count": 14,
     "metadata": {},
     "output_type": "execute_result"
    }
   ],
   "source": [
    "sözlük1"
   ]
  },
  {
   "cell_type": "code",
   "execution_count": 16,
   "id": "3c9f6afc",
   "metadata": {},
   "outputs": [
    {
     "data": {
      "text/plain": [
       "5"
      ]
     },
     "execution_count": 16,
     "metadata": {},
     "output_type": "execute_result"
    }
   ],
   "source": [
    "sözlük1[\"beş\"]"
   ]
  },
  {
   "cell_type": "code",
   "execution_count": 18,
   "id": "5125a1ce",
   "metadata": {},
   "outputs": [],
   "source": [
    "a = {\"bir\":[1,2,3,4], \"iki\": [[1,2],[3,4],[5,6]],\"üç\":15}"
   ]
  },
  {
   "cell_type": "code",
   "execution_count": 20,
   "id": "680714e1",
   "metadata": {},
   "outputs": [
    {
     "data": {
      "text/plain": [
       "[[1, 2], [3, 4], [5, 6]]"
      ]
     },
     "execution_count": 20,
     "metadata": {},
     "output_type": "execute_result"
    }
   ],
   "source": [
    "a[\"iki\"]"
   ]
  },
  {
   "cell_type": "code",
   "execution_count": 22,
   "id": "a7b68138",
   "metadata": {},
   "outputs": [
    {
     "data": {
      "text/plain": [
       "4"
      ]
     },
     "execution_count": 22,
     "metadata": {},
     "output_type": "execute_result"
    }
   ],
   "source": [
    "a[\"iki\"][1][1]"
   ]
  },
  {
   "cell_type": "code",
   "execution_count": 23,
   "id": "204d572d",
   "metadata": {},
   "outputs": [
    {
     "data": {
      "text/plain": [
       "{'bir': 1, 'iki': 2, 'üç': 3, 'dört': 4, 'beş': 5}"
      ]
     },
     "execution_count": 23,
     "metadata": {},
     "output_type": "execute_result"
    }
   ],
   "source": [
    "sözlük1"
   ]
  },
  {
   "cell_type": "code",
   "execution_count": 24,
   "id": "9c2832eb",
   "metadata": {},
   "outputs": [],
   "source": [
    "sözlük1[\"beş\"] = 10"
   ]
  },
  {
   "cell_type": "code",
   "execution_count": 25,
   "id": "34920d97",
   "metadata": {},
   "outputs": [
    {
     "data": {
      "text/plain": [
       "{'bir': 1, 'iki': 2, 'üç': 3, 'dört': 4, 'beş': 10}"
      ]
     },
     "execution_count": 25,
     "metadata": {},
     "output_type": "execute_result"
    }
   ],
   "source": [
    "sözlük1"
   ]
  },
  {
   "cell_type": "code",
   "execution_count": 26,
   "id": "3267a1d2",
   "metadata": {},
   "outputs": [],
   "source": [
    "sözlük1[\"beş\"] +=1"
   ]
  },
  {
   "cell_type": "code",
   "execution_count": 28,
   "id": "ef18a1e2",
   "metadata": {},
   "outputs": [
    {
     "data": {
      "text/plain": [
       "11"
      ]
     },
     "execution_count": 28,
     "metadata": {},
     "output_type": "execute_result"
    }
   ],
   "source": [
    "sözlük1[\"beş\"]"
   ]
  },
  {
   "cell_type": "code",
   "execution_count": 31,
   "id": "52a24b2d",
   "metadata": {},
   "outputs": [],
   "source": [
    "a = {\"sayılar\":{\"bir\":1,\"iki\":2,\"üç\":3},\"meyveler\":{\"kiraz\":\"yaz\",\"portakal\":\"kış\",\"erik\":\"yaz\"}}"
   ]
  },
  {
   "cell_type": "code",
   "execution_count": 32,
   "id": "71b8379f",
   "metadata": {},
   "outputs": [
    {
     "data": {
      "text/plain": [
       "2"
      ]
     },
     "execution_count": 32,
     "metadata": {},
     "output_type": "execute_result"
    }
   ],
   "source": [
    "a[\"sayılar\"][\"iki\"]"
   ]
  },
  {
   "cell_type": "code",
   "execution_count": 33,
   "id": "15f5fbcb",
   "metadata": {},
   "outputs": [
    {
     "data": {
      "text/plain": [
       "'kış'"
      ]
     },
     "execution_count": 33,
     "metadata": {},
     "output_type": "execute_result"
    }
   ],
   "source": [
    "a[\"meyveler\"][\"portakal\"]"
   ]
  },
  {
   "cell_type": "markdown",
   "id": "790a8046",
   "metadata": {},
   "source": [
    "Temel metodları"
   ]
  },
  {
   "cell_type": "code",
   "execution_count": 34,
   "id": "b8921f54",
   "metadata": {},
   "outputs": [
    {
     "data": {
      "text/plain": [
       "{'bir': 1, 'iki': 2, 'üç': 3, 'dört': 4, 'beş': 11}"
      ]
     },
     "execution_count": 34,
     "metadata": {},
     "output_type": "execute_result"
    }
   ],
   "source": [
    "sözlük1"
   ]
  },
  {
   "cell_type": "code",
   "execution_count": 35,
   "id": "ad430e76",
   "metadata": {},
   "outputs": [],
   "source": [
    "sözlük1[\"beş\"] = 5"
   ]
  },
  {
   "cell_type": "code",
   "execution_count": 36,
   "id": "1f221b09",
   "metadata": {},
   "outputs": [
    {
     "data": {
      "text/plain": [
       "{'bir': 1, 'iki': 2, 'üç': 3, 'dört': 4, 'beş': 5}"
      ]
     },
     "execution_count": 36,
     "metadata": {},
     "output_type": "execute_result"
    }
   ],
   "source": [
    "sözlük1"
   ]
  },
  {
   "cell_type": "code",
   "execution_count": 37,
   "id": "d9d24dc4",
   "metadata": {},
   "outputs": [
    {
     "data": {
      "text/plain": [
       "dict_keys(['bir', 'iki', 'üç', 'dört', 'beş'])"
      ]
     },
     "execution_count": 37,
     "metadata": {},
     "output_type": "execute_result"
    }
   ],
   "source": [
    "sözlük1.keys()"
   ]
  },
  {
   "cell_type": "code",
   "execution_count": 38,
   "id": "b9671aaf",
   "metadata": {},
   "outputs": [
    {
     "data": {
      "text/plain": [
       "dict_values([1, 2, 3, 4, 5])"
      ]
     },
     "execution_count": 38,
     "metadata": {},
     "output_type": "execute_result"
    }
   ],
   "source": [
    "sözlük1.values()"
   ]
  },
  {
   "cell_type": "code",
   "execution_count": 39,
   "id": "3606033a",
   "metadata": {},
   "outputs": [
    {
     "data": {
      "text/plain": [
       "dict_items([('bir', 1), ('iki', 2), ('üç', 3), ('dört', 4), ('beş', 5)])"
      ]
     },
     "execution_count": 39,
     "metadata": {},
     "output_type": "execute_result"
    }
   ],
   "source": [
    "sözlük1.items()"
   ]
  },
  {
   "cell_type": "code",
   "execution_count": 40,
   "id": "7f0a7bfa",
   "metadata": {},
   "outputs": [
    {
     "name": "stdout",
     "output_type": "stream",
     "text": [
      "bir 1\n",
      "iki 2\n",
      "üç 3\n",
      "dört 4\n",
      "beş 5\n"
     ]
    }
   ],
   "source": [
    "for k,v in sözlük1.items():\n",
    "    print(k,v)"
   ]
  },
  {
   "cell_type": "markdown",
   "id": "64e12df4",
   "metadata": {},
   "source": [
    "---done---"
   ]
  },
  {
   "cell_type": "code",
   "execution_count": null,
   "id": "f50d4aa8",
   "metadata": {},
   "outputs": [],
   "source": []
  }
 ],
 "metadata": {
  "kernelspec": {
   "display_name": "Python 3 (ipykernel)",
   "language": "python",
   "name": "python3"
  },
  "language_info": {
   "codemirror_mode": {
    "name": "ipython",
    "version": 3
   },
   "file_extension": ".py",
   "mimetype": "text/x-python",
   "name": "python",
   "nbconvert_exporter": "python",
   "pygments_lexer": "ipython3",
   "version": "3.9.7"
  }
 },
 "nbformat": 4,
 "nbformat_minor": 5
}
