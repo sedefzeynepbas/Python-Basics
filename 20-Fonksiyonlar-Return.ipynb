{
 "cells": [
  {
   "cell_type": "code",
   "execution_count": 1,
   "id": "1c24ef44",
   "metadata": {},
   "outputs": [],
   "source": [
    "def toplama(a,b,c):\n",
    "    print(\"Toplamları:\",a+b+c)\n"
   ]
  },
  {
   "cell_type": "code",
   "execution_count": 2,
   "id": "3bb1afe4",
   "metadata": {},
   "outputs": [],
   "source": [
    "def mb2(s):\n",
    "    print(\"İkiyle çarpımı:\",s*2)"
   ]
  },
  {
   "cell_type": "code",
   "execution_count": 3,
   "id": "62e5dcc2",
   "metadata": {},
   "outputs": [
    {
     "name": "stdout",
     "output_type": "stream",
     "text": [
      "Toplamları: 12\n"
     ]
    },
    {
     "ename": "TypeError",
     "evalue": "unsupported operand type(s) for *: 'NoneType' and 'int'",
     "output_type": "error",
     "traceback": [
      "\u001b[1;31m---------------------------------------------------------------------------\u001b[0m",
      "\u001b[1;31mTypeError\u001b[0m                                 Traceback (most recent call last)",
      "\u001b[1;32m~\\AppData\\Local\\Temp/ipykernel_20116/1766367974.py\u001b[0m in \u001b[0;36m<module>\u001b[1;34m\u001b[0m\n\u001b[0;32m      1\u001b[0m \u001b[0mtoplam\u001b[0m \u001b[1;33m=\u001b[0m \u001b[0mtoplama\u001b[0m\u001b[1;33m(\u001b[0m\u001b[1;36m3\u001b[0m\u001b[1;33m,\u001b[0m\u001b[1;36m4\u001b[0m\u001b[1;33m,\u001b[0m\u001b[1;36m5\u001b[0m\u001b[1;33m)\u001b[0m\u001b[1;33m\u001b[0m\u001b[1;33m\u001b[0m\u001b[0m\n\u001b[1;32m----> 2\u001b[1;33m \u001b[0mmb2\u001b[0m\u001b[1;33m(\u001b[0m\u001b[0mtoplam\u001b[0m\u001b[1;33m)\u001b[0m\u001b[1;33m\u001b[0m\u001b[1;33m\u001b[0m\u001b[0m\n\u001b[0m",
      "\u001b[1;32m~\\AppData\\Local\\Temp/ipykernel_20116/58388682.py\u001b[0m in \u001b[0;36mmb2\u001b[1;34m(s)\u001b[0m\n\u001b[0;32m      1\u001b[0m \u001b[1;32mdef\u001b[0m \u001b[0mmb2\u001b[0m\u001b[1;33m(\u001b[0m\u001b[0ms\u001b[0m\u001b[1;33m)\u001b[0m\u001b[1;33m:\u001b[0m\u001b[1;33m\u001b[0m\u001b[1;33m\u001b[0m\u001b[0m\n\u001b[1;32m----> 2\u001b[1;33m     \u001b[0mprint\u001b[0m\u001b[1;33m(\u001b[0m\u001b[1;34m\"İkiyle çarpımı:\"\u001b[0m\u001b[1;33m,\u001b[0m\u001b[0ms\u001b[0m\u001b[1;33m*\u001b[0m\u001b[1;36m2\u001b[0m\u001b[1;33m)\u001b[0m\u001b[1;33m\u001b[0m\u001b[1;33m\u001b[0m\u001b[0m\n\u001b[0m",
      "\u001b[1;31mTypeError\u001b[0m: unsupported operand type(s) for *: 'NoneType' and 'int'"
     ]
    }
   ],
   "source": [
    "toplam = toplama(3,4,5)\n",
    "mb2(toplam)"
   ]
  },
  {
   "cell_type": "code",
   "execution_count": 4,
   "id": "56364cf3",
   "metadata": {},
   "outputs": [
    {
     "data": {
      "text/plain": [
       "NoneType"
      ]
     },
     "execution_count": 4,
     "metadata": {},
     "output_type": "execute_result"
    }
   ],
   "source": [
    "type(toplam)"
   ]
  },
  {
   "cell_type": "markdown",
   "id": "b7877290",
   "metadata": {},
   "source": [
    "biz sadece print ettik değer döndürmedik"
   ]
  },
  {
   "cell_type": "code",
   "execution_count": 6,
   "id": "93ce3173",
   "metadata": {},
   "outputs": [],
   "source": [
    "def toplama(a,b,c):\n",
    "    return a+b+c\n",
    "def mb2(s):\n",
    "    return s*2\n",
    "    "
   ]
  },
  {
   "cell_type": "code",
   "execution_count": 7,
   "id": "d3d6b72d",
   "metadata": {},
   "outputs": [
    {
     "name": "stdout",
     "output_type": "stream",
     "text": [
      "24\n"
     ]
    }
   ],
   "source": [
    "toplam = toplama(3,4,5)\n",
    "print(mb2(toplam))"
   ]
  },
  {
   "cell_type": "code",
   "execution_count": 18,
   "id": "f63d2256",
   "metadata": {},
   "outputs": [],
   "source": [
    "def c3(a):\n",
    "    print(\"1. fonk\")\n",
    "    return a*3\n",
    "def a2(a):\n",
    "    print(\"2. fonk\")\n",
    "    return a+2\n",
    "def b4(a):\n",
    "    print(\"3. fonk\")\n",
    "    return a/4"
   ]
  },
  {
   "cell_type": "code",
   "execution_count": 19,
   "id": "d60d68e4",
   "metadata": {},
   "outputs": [
    {
     "name": "stdout",
     "output_type": "stream",
     "text": [
      "1. fonk\n",
      "2. fonk\n",
      "3. fonk\n",
      "4.25\n"
     ]
    }
   ],
   "source": [
    "print(b4(a2(c3(5))))"
   ]
  },
  {
   "cell_type": "code",
   "execution_count": 20,
   "id": "13936225",
   "metadata": {},
   "outputs": [],
   "source": [
    "def c3(a):\n",
    "    return a*3\n",
    "    print(\"1. fonk\")"
   ]
  },
  {
   "cell_type": "code",
   "execution_count": 27,
   "id": "0ce8f1a3",
   "metadata": {},
   "outputs": [
    {
     "name": "stdout",
     "output_type": "stream",
     "text": [
      "1. fonk\n",
      "9\n"
     ]
    }
   ],
   "source": [
    "print(c3(3))"
   ]
  },
  {
   "cell_type": "code",
   "execution_count": 24,
   "id": "e7e7842f",
   "metadata": {},
   "outputs": [],
   "source": [
    "def c3(a):\n",
    "    print(\"1. fonk\")\n",
    "    return a*3"
   ]
  },
  {
   "cell_type": "code",
   "execution_count": 26,
   "id": "0bbf12d2",
   "metadata": {},
   "outputs": [
    {
     "name": "stdout",
     "output_type": "stream",
     "text": [
      "1. fonk\n",
      "9\n"
     ]
    }
   ],
   "source": [
    "print(c3(3))"
   ]
  },
  {
   "cell_type": "markdown",
   "id": "a8ed7ee9",
   "metadata": {},
   "source": [
    "return kullanılmayan fonksiyonlara void fonksiyonlar denir."
   ]
  },
  {
   "cell_type": "code",
   "execution_count": null,
   "id": "5db661a0",
   "metadata": {},
   "outputs": [],
   "source": []
  }
 ],
 "metadata": {
  "kernelspec": {
   "display_name": "Python 3 (ipykernel)",
   "language": "python",
   "name": "python3"
  },
  "language_info": {
   "codemirror_mode": {
    "name": "ipython",
    "version": 3
   },
   "file_extension": ".py",
   "mimetype": "text/x-python",
   "name": "python",
   "nbconvert_exporter": "python",
   "pygments_lexer": "ipython3",
   "version": "3.9.7"
  }
 },
 "nbformat": 4,
 "nbformat_minor": 5
}
