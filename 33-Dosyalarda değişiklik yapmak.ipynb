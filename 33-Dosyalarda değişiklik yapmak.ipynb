{
 "cells": [
  {
   "cell_type": "code",
   "execution_count": 1,
   "id": "c1b738b2",
   "metadata": {},
   "outputs": [
    {
     "name": "stdout",
     "output_type": "stream",
     "text": [
      "Tinki vinki\n",
      "Beybi\n",
      "Loyal\n",
      "Dipsi\n",
      "Lala\n",
      "Po\n",
      "\n"
     ]
    }
   ],
   "source": [
    "with open(\"C:/Users/BSS5BU/Desktop/bilgiler.txt\", \"r+\", encoding = \"utf-8\") as file:\n",
    "    print(file.read())"
   ]
  },
  {
   "cell_type": "code",
   "execution_count": 6,
   "id": "c69600e2",
   "metadata": {},
   "outputs": [],
   "source": [
    "with open(\"C:/Users/BSS5BU/Desktop/bilgiler.txt\", \"r+\", encoding = \"utf-8\") as file:\n",
    "    file.seek(10)\n",
    "    file.write(\"\\nDeneme\")"
   ]
  },
  {
   "cell_type": "code",
   "execution_count": 7,
   "id": "bef59fc8",
   "metadata": {},
   "outputs": [
    {
     "name": "stdout",
     "output_type": "stream",
     "text": [
      "Tinki vink\n",
      "Denemeeoyal\n",
      "Dipsi\n",
      "Lala\n",
      "Po\n",
      "\n"
     ]
    }
   ],
   "source": [
    "with open(\"C:/Users/BSS5BU/Desktop/bilgiler.txt\", \"r+\", encoding = \"utf-8\") as file:\n",
    "    print(file.read())"
   ]
  },
  {
   "cell_type": "code",
   "execution_count": 8,
   "id": "62d2d54c",
   "metadata": {},
   "outputs": [
    {
     "name": "stdout",
     "output_type": "stream",
     "text": [
      "Tinki vinki\n",
      "Beybi\n",
      "Loyal\n",
      "Dipsi\n",
      "Lala\n",
      "Po\n",
      "\n"
     ]
    }
   ],
   "source": [
    "with open(\"C:/Users/BSS5BU/Desktop/bilgiler.txt\", \"r+\", encoding = \"utf-8\") as file:\n",
    "    print(file.read())"
   ]
  },
  {
   "cell_type": "code",
   "execution_count": 9,
   "id": "8099e96d",
   "metadata": {},
   "outputs": [],
   "source": [
    "with open(\"C:/Users/BSS5BU/Desktop/bilgiler.txt\", \"a\", encoding = \"utf-8\") as file:\n",
    "    file.write(\"Ginger\\n\")"
   ]
  },
  {
   "cell_type": "code",
   "execution_count": 10,
   "id": "bea3bd81",
   "metadata": {},
   "outputs": [
    {
     "name": "stdout",
     "output_type": "stream",
     "text": [
      "Tinki vinki\n",
      "Beybi\n",
      "Loyal\n",
      "Dipsi\n",
      "Lala\n",
      "Po\n",
      "Ginger\n",
      "\n"
     ]
    }
   ],
   "source": [
    "with open(\"C:/Users/BSS5BU/Desktop/bilgiler.txt\", \"r+\", encoding = \"utf-8\") as file:\n",
    "    print(file.read())"
   ]
  },
  {
   "cell_type": "code",
   "execution_count": 11,
   "id": "db360019",
   "metadata": {},
   "outputs": [],
   "source": [
    "with open(\"C:/Users/BSS5BU/Desktop/bilgiler.txt\", \"a\", encoding = \"utf-8\") as file:\n",
    "    file.write(\"Tırmık\\n\")"
   ]
  },
  {
   "cell_type": "code",
   "execution_count": 12,
   "id": "90162c7c",
   "metadata": {},
   "outputs": [
    {
     "name": "stdout",
     "output_type": "stream",
     "text": [
      "Tinki vinki\n",
      "Beybi\n",
      "Loyal\n",
      "Dipsi\n",
      "Lala\n",
      "Po\n",
      "Ginger\n",
      "Tırmık\n",
      "\n"
     ]
    }
   ],
   "source": [
    "with open(\"C:/Users/BSS5BU/Desktop/bilgiler.txt\", \"r+\", encoding = \"utf-8\") as file:\n",
    "    print(file.read())"
   ]
  },
  {
   "cell_type": "code",
   "execution_count": 15,
   "id": "2dcf3ab5",
   "metadata": {},
   "outputs": [
    {
     "name": "stdout",
     "output_type": "stream",
     "text": [
      "Lola\n",
      "Lola\n",
      "Lola\n",
      "Tinki vinki\n",
      "Beybi\n",
      "Loyal\n",
      "Dipsi\n",
      "Lala\n",
      "Po\n",
      "Ginger\n",
      "Tırmık\n",
      "\n"
     ]
    }
   ],
   "source": [
    "with open(\"C:/Users/BSS5BU/Desktop/bilgiler.txt\", \"r+\", encoding = \"utf-8\") as file:\n",
    "    icerik = file.read()\n",
    "    icerik = \"Lola\\n\" + icerik\n",
    "    file.seek(0)\n",
    "    file.write(icerik)\n",
    "    print(icerik)"
   ]
  },
  {
   "cell_type": "code",
   "execution_count": 16,
   "id": "f732e30a",
   "metadata": {},
   "outputs": [
    {
     "name": "stdout",
     "output_type": "stream",
     "text": [
      "Lola\n",
      "Lola\n",
      "Lola\n",
      "Tinki vinki\n",
      "Beybi\n",
      "Loyal\n",
      "Dipsi\n",
      "Lala\n",
      "Po\n",
      "Ginger\n",
      "Tırmık\n",
      "\n"
     ]
    }
   ],
   "source": [
    "with open(\"C:/Users/BSS5BU/Desktop/bilgiler.txt\", \"r+\", encoding = \"utf-8\") as file:\n",
    "    print(file.read())"
   ]
  },
  {
   "cell_type": "code",
   "execution_count": 19,
   "id": "162bafbc",
   "metadata": {},
   "outputs": [
    {
     "name": "stdout",
     "output_type": "stream",
     "text": [
      "['Lola\\n', 'Lola\\n', 'Lola\\n', 'Tinki vinki\\n', 'Beybi\\n', 'Loyal\\n', 'Dipsi\\n', 'Lala\\n', 'Po\\n', 'Ginger\\n', 'Tırmık\\n']\n"
     ]
    }
   ],
   "source": [
    "with open(\"C:/Users/BSS5BU/Desktop/bilgiler.txt\", \"r+\", encoding = \"utf-8\") as file:\n",
    "    liste = file.readlines()\n",
    "    print(liste)"
   ]
  },
  {
   "cell_type": "code",
   "execution_count": 27,
   "id": "de2d5e3f",
   "metadata": {},
   "outputs": [],
   "source": [
    "with open(\"C:/Users/BSS5BU/Desktop/bilgiler.txt\", \"r+\", encoding = \"utf-8\") as file:\n",
    "    liste = file.readlines()\n",
    "    liste.insert(3, \"Kuzu\\n\")\n",
    "    file.seek(0)\n",
    "    for i in liste:\n",
    "        file.write(i)"
   ]
  },
  {
   "cell_type": "code",
   "execution_count": 28,
   "id": "9e78a441",
   "metadata": {},
   "outputs": [
    {
     "name": "stdout",
     "output_type": "stream",
     "text": [
      "Lola\n",
      "Lola\n",
      "Lola\n",
      "Kuzu\n",
      "\n",
      "Kuzu\n",
      "Kuzu\n",
      "KuzuTinki vinki\n",
      "Beybi\n",
      "Loyal\n",
      "Dipsi\n",
      "Lala\n",
      "Po\n",
      "Ginger\n",
      "Tırmık\n",
      "\n"
     ]
    }
   ],
   "source": [
    "with open(\"C:/Users/BSS5BU/Desktop/bilgiler.txt\", \"r+\", encoding = \"utf-8\") as file:\n",
    "    print(file.read())"
   ]
  },
  {
   "cell_type": "code",
   "execution_count": 5,
   "id": "1f6f0be3",
   "metadata": {},
   "outputs": [],
   "source": [
    "with open(\"C:/Users/BSS5BU/Desktop/bilgiler.txt\", \"r+\", encoding = \"utf-8\") as file:\n",
    "    liste = file.readlines()\n",
    "    liste.insert(3, \"Ponçik\\n\")\n",
    "    file.seek(0)\n",
    "    file.writelines(liste)"
   ]
  },
  {
   "cell_type": "code",
   "execution_count": 6,
   "id": "0ca5c0da",
   "metadata": {},
   "outputs": [
    {
     "name": "stdout",
     "output_type": "stream",
     "text": [
      "Ponçik\n",
      "Tinki vinki\n",
      "\n",
      "Ponçik\n",
      "Tinki vinki\n",
      "Kuzu\n",
      "KuzuTinki vinki\n",
      "Lala\n",
      "Tırmık\n",
      "Po\n",
      "Tırmık\n",
      "\n",
      "Po\n",
      "Ginger\n",
      "Tırmık\n",
      "\n"
     ]
    }
   ],
   "source": [
    "with open(\"C:/Users/BSS5BU/Desktop/bilgiler.txt\", \"r+\", encoding = \"utf-8\") as file:\n",
    "    print(file.read())"
   ]
  },
  {
   "cell_type": "code",
   "execution_count": 29,
   "id": "1748dfd7",
   "metadata": {},
   "outputs": [],
   "source": [
    "with open(\"C:/Users/BSS5BU/Desktop/bilgiler.txt\", \"r+\", encoding = \"utf-8\") as file:\n",
    "    liste = file.readlines()\n",
    "    liste.pop(-1)\n",
    "    file.seek(0)\n",
    "    file.writelines(liste)\n",
    "    "
   ]
  },
  {
   "cell_type": "code",
   "execution_count": 30,
   "id": "515891b7",
   "metadata": {},
   "outputs": [
    {
     "name": "stdout",
     "output_type": "stream",
     "text": [
      "Ponçik\n",
      "Tinki vinki\n",
      "Ponçik\n",
      "Tinki vinki\n",
      "Kuzu\n",
      "KuzuTinki vinki\n",
      "Lala\n",
      "Tırmık\n",
      "Po\n",
      "Tırmık\n",
      "Ginger\n",
      "Tırmık\n",
      "mık\n",
      "ırmık\n",
      "mık\n",
      "\n"
     ]
    }
   ],
   "source": [
    "with open(\"C:/Users/BSS5BU/Desktop/bilgiler.txt\", \"r+\", encoding = \"utf-8\") as file:\n",
    "    print(file.read())"
   ]
  },
  {
   "cell_type": "markdown",
   "id": "eb8f9ccf",
   "metadata": {},
   "source": [
    "silme yapamadım."
   ]
  },
  {
   "cell_type": "code",
   "execution_count": null,
   "id": "f8f3f33a",
   "metadata": {},
   "outputs": [],
   "source": []
  }
 ],
 "metadata": {
  "kernelspec": {
   "display_name": "Python 3 (ipykernel)",
   "language": "python",
   "name": "python3"
  },
  "language_info": {
   "codemirror_mode": {
    "name": "ipython",
    "version": 3
   },
   "file_extension": ".py",
   "mimetype": "text/x-python",
   "name": "python",
   "nbconvert_exporter": "python",
   "pygments_lexer": "ipython3",
   "version": "3.10.9"
  }
 },
 "nbformat": 4,
 "nbformat_minor": 5
}
