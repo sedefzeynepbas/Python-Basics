{
 "cells": [
  {
   "cell_type": "code",
   "execution_count": 1,
   "id": "7adbb0ca",
   "metadata": {},
   "outputs": [
    {
     "data": {
      "text/plain": [
       "133"
      ]
     },
     "execution_count": 1,
     "metadata": {},
     "output_type": "execute_result"
    }
   ],
   "source": [
    "k = 34\n",
    "l = 45\n",
    "m = 54\n",
    "k + l + m"
   ]
  },
  {
   "cell_type": "code",
   "execution_count": 2,
   "id": "32434170",
   "metadata": {},
   "outputs": [
    {
     "data": {
      "text/plain": [
       "-11"
      ]
     },
     "execution_count": 2,
     "metadata": {},
     "output_type": "execute_result"
    }
   ],
   "source": [
    "k - l"
   ]
  },
  {
   "cell_type": "code",
   "execution_count": 3,
   "id": "f910cf43",
   "metadata": {},
   "outputs": [
    {
     "data": {
      "text/plain": [
       "82620"
      ]
     },
     "execution_count": 3,
     "metadata": {},
     "output_type": "execute_result"
    }
   ],
   "source": [
    "k * l * m"
   ]
  },
  {
   "cell_type": "code",
   "execution_count": 4,
   "id": "93738202",
   "metadata": {},
   "outputs": [
    {
     "data": {
      "text/plain": [
       "0.7555555555555555"
      ]
     },
     "execution_count": 4,
     "metadata": {},
     "output_type": "execute_result"
    }
   ],
   "source": [
    "k / l"
   ]
  },
  {
   "cell_type": "code",
   "execution_count": 5,
   "id": "8cbc73f4",
   "metadata": {},
   "outputs": [
    {
     "data": {
      "text/plain": [
       "7.699999999999999"
      ]
     },
     "execution_count": 5,
     "metadata": {},
     "output_type": "execute_result"
    }
   ],
   "source": [
    "i = 3.4\n",
    "j = 4.3\n",
    "i + j"
   ]
  },
  {
   "cell_type": "code",
   "execution_count": 6,
   "id": "c637ae08",
   "metadata": {},
   "outputs": [
    {
     "data": {
      "text/plain": [
       "-0.8999999999999999"
      ]
     },
     "execution_count": 6,
     "metadata": {},
     "output_type": "execute_result"
    }
   ],
   "source": [
    "i- j"
   ]
  },
  {
   "cell_type": "code",
   "execution_count": 7,
   "id": "cc022f21",
   "metadata": {},
   "outputs": [
    {
     "data": {
      "text/plain": [
       "14.62"
      ]
     },
     "execution_count": 7,
     "metadata": {},
     "output_type": "execute_result"
    }
   ],
   "source": [
    "i * j"
   ]
  },
  {
   "cell_type": "markdown",
   "id": "83e88419",
   "metadata": {},
   "source": [
    "Tamsayı bölmesi"
   ]
  },
  {
   "cell_type": "code",
   "execution_count": 8,
   "id": "2d50b2da",
   "metadata": {},
   "outputs": [],
   "source": [
    "a = 345\n",
    "b = 36"
   ]
  },
  {
   "cell_type": "code",
   "execution_count": 9,
   "id": "2592b00d",
   "metadata": {},
   "outputs": [
    {
     "data": {
      "text/plain": [
       "9.583333333333334"
      ]
     },
     "execution_count": 9,
     "metadata": {},
     "output_type": "execute_result"
    }
   ],
   "source": [
    "a / b"
   ]
  },
  {
   "cell_type": "code",
   "execution_count": 10,
   "id": "54b259f7",
   "metadata": {},
   "outputs": [
    {
     "data": {
      "text/plain": [
       "9"
      ]
     },
     "execution_count": 10,
     "metadata": {},
     "output_type": "execute_result"
    }
   ],
   "source": [
    "a // b"
   ]
  },
  {
   "cell_type": "code",
   "execution_count": 11,
   "id": "fe2425f2",
   "metadata": {},
   "outputs": [
    {
     "data": {
      "text/plain": [
       "1.9912280701754386"
      ]
     },
     "execution_count": 11,
     "metadata": {},
     "output_type": "execute_result"
    }
   ],
   "source": [
    "22.7 / 11.4"
   ]
  },
  {
   "cell_type": "code",
   "execution_count": 12,
   "id": "f144decb",
   "metadata": {},
   "outputs": [
    {
     "data": {
      "text/plain": [
       "1.0"
      ]
     },
     "execution_count": 12,
     "metadata": {},
     "output_type": "execute_result"
    }
   ],
   "source": [
    "22.7 // 11.4"
   ]
  },
  {
   "cell_type": "markdown",
   "id": "c34cc840",
   "metadata": {},
   "source": [
    "Kalanı bulma"
   ]
  },
  {
   "cell_type": "code",
   "execution_count": 13,
   "id": "cdc8f7ce",
   "metadata": {},
   "outputs": [
    {
     "data": {
      "text/plain": [
       "1"
      ]
     },
     "execution_count": 13,
     "metadata": {},
     "output_type": "execute_result"
    }
   ],
   "source": [
    "13 % 4"
   ]
  },
  {
   "cell_type": "code",
   "execution_count": 14,
   "id": "ac52ff49",
   "metadata": {},
   "outputs": [
    {
     "data": {
      "text/plain": [
       "11.299999999999999"
      ]
     },
     "execution_count": 14,
     "metadata": {},
     "output_type": "execute_result"
    }
   ],
   "source": [
    "22.7 % 11.4"
   ]
  },
  {
   "cell_type": "code",
   "execution_count": 15,
   "id": "6cc099fe",
   "metadata": {},
   "outputs": [
    {
     "data": {
      "text/plain": [
       "0"
      ]
     },
     "execution_count": 15,
     "metadata": {},
     "output_type": "execute_result"
    }
   ],
   "source": [
    "4 % 2"
   ]
  },
  {
   "cell_type": "markdown",
   "id": "7003de35",
   "metadata": {},
   "source": [
    "Çift mi tek mi'yi bulmak için kullanılabilir*"
   ]
  },
  {
   "cell_type": "markdown",
   "id": "e6531744",
   "metadata": {},
   "source": [
    "Üs bulma"
   ]
  },
  {
   "cell_type": "code",
   "execution_count": 17,
   "id": "814a3b5c",
   "metadata": {},
   "outputs": [
    {
     "data": {
      "text/plain": [
       "16"
      ]
     },
     "execution_count": 17,
     "metadata": {},
     "output_type": "execute_result"
    }
   ],
   "source": [
    "2 ** 4"
   ]
  },
  {
   "cell_type": "code",
   "execution_count": 18,
   "id": "94bbf1b7",
   "metadata": {},
   "outputs": [
    {
     "data": {
      "text/plain": [
       "27"
      ]
     },
     "execution_count": 18,
     "metadata": {},
     "output_type": "execute_result"
    }
   ],
   "source": [
    "3 ** 3"
   ]
  },
  {
   "cell_type": "code",
   "execution_count": 19,
   "id": "5c4c3ec8",
   "metadata": {},
   "outputs": [
    {
     "data": {
      "text/plain": [
       "729"
      ]
     },
     "execution_count": 19,
     "metadata": {},
     "output_type": "execute_result"
    }
   ],
   "source": [
    "3 ** 6"
   ]
  },
  {
   "cell_type": "code",
   "execution_count": 20,
   "id": "86e37316",
   "metadata": {},
   "outputs": [
    {
     "data": {
      "text/plain": [
       "8.0"
      ]
     },
     "execution_count": 20,
     "metadata": {},
     "output_type": "execute_result"
    }
   ],
   "source": [
    "64 ** 0.5"
   ]
  },
  {
   "cell_type": "code",
   "execution_count": 21,
   "id": "e41f198e",
   "metadata": {},
   "outputs": [
    {
     "data": {
      "text/plain": [
       "5.0"
      ]
     },
     "execution_count": 21,
     "metadata": {},
     "output_type": "execute_result"
    }
   ],
   "source": [
    "25 ** 0.5"
   ]
  },
  {
   "cell_type": "code",
   "execution_count": 22,
   "id": "49021f25",
   "metadata": {},
   "outputs": [
    {
     "data": {
      "text/plain": [
       "2.0"
      ]
     },
     "execution_count": 22,
     "metadata": {},
     "output_type": "execute_result"
    }
   ],
   "source": [
    "8 ** (1/3)"
   ]
  },
  {
   "cell_type": "markdown",
   "id": "14251ebc",
   "metadata": {},
   "source": [
    "küpkök ve karekök bulabildik"
   ]
  },
  {
   "cell_type": "code",
   "execution_count": 23,
   "id": "3c8909bf",
   "metadata": {},
   "outputs": [],
   "source": [
    "a = -4"
   ]
  },
  {
   "cell_type": "code",
   "execution_count": 24,
   "id": "4d810ea3",
   "metadata": {},
   "outputs": [
    {
     "data": {
      "text/plain": [
       "-4"
      ]
     },
     "execution_count": 24,
     "metadata": {},
     "output_type": "execute_result"
    }
   ],
   "source": [
    "a"
   ]
  },
  {
   "cell_type": "code",
   "execution_count": 25,
   "id": "bfab028f",
   "metadata": {},
   "outputs": [
    {
     "data": {
      "text/plain": [
       "4"
      ]
     },
     "execution_count": 25,
     "metadata": {},
     "output_type": "execute_result"
    }
   ],
   "source": [
    "-a"
   ]
  },
  {
   "cell_type": "code",
   "execution_count": 26,
   "id": "73b9d183",
   "metadata": {},
   "outputs": [
    {
     "data": {
      "text/plain": [
       "-4.0"
      ]
     },
     "execution_count": 26,
     "metadata": {},
     "output_type": "execute_result"
    }
   ],
   "source": [
    "8 + 4 * 3 / 2 - 18"
   ]
  },
  {
   "cell_type": "markdown",
   "id": "d958d653",
   "metadata": {},
   "source": [
    "---Done with operators---"
   ]
  },
  {
   "cell_type": "code",
   "execution_count": null,
   "id": "2562e140",
   "metadata": {},
   "outputs": [],
   "source": []
  }
 ],
 "metadata": {
  "kernelspec": {
   "display_name": "Python 3 (ipykernel)",
   "language": "python",
   "name": "python3"
  },
  "language_info": {
   "codemirror_mode": {
    "name": "ipython",
    "version": 3
   },
   "file_extension": ".py",
   "mimetype": "text/x-python",
   "name": "python",
   "nbconvert_exporter": "python",
   "pygments_lexer": "ipython3",
   "version": "3.9.7"
  }
 },
 "nbformat": 4,
 "nbformat_minor": 5
}
