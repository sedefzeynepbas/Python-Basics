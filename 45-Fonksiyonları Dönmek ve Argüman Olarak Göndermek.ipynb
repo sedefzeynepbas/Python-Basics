{
 "cells": [
  {
   "cell_type": "code",
   "execution_count": 3,
   "id": "58d9d14e",
   "metadata": {},
   "outputs": [],
   "source": [
    "from functools import reduce\n",
    "def anafonksiyon(islem_adi):\n",
    "    def toplama(*args):\n",
    "        return reduce(lambda x,y : x+y, args)\n",
    "    def carpim(*args):\n",
    "        return reduce(lambda x,y : x*y, args)\n",
    "    if islem_adi == \"toplama\":\n",
    "        return toplama\n",
    "    else:\n",
    "        return carpim\n",
    "        "
   ]
  },
  {
   "cell_type": "code",
   "execution_count": 4,
   "id": "9ef7a998",
   "metadata": {},
   "outputs": [],
   "source": [
    "fonk = anafonksiyon(\"toplama\")"
   ]
  },
  {
   "cell_type": "code",
   "execution_count": 5,
   "id": "d22ccdcd",
   "metadata": {},
   "outputs": [
    {
     "data": {
      "text/plain": [
       "<function __main__.anafonksiyon.<locals>.toplama(*args)>"
      ]
     },
     "execution_count": 5,
     "metadata": {},
     "output_type": "execute_result"
    }
   ],
   "source": [
    "fonk"
   ]
  },
  {
   "cell_type": "code",
   "execution_count": 6,
   "id": "01ba715a",
   "metadata": {},
   "outputs": [
    {
     "data": {
      "text/plain": [
       "15"
      ]
     },
     "execution_count": 6,
     "metadata": {},
     "output_type": "execute_result"
    }
   ],
   "source": [
    "fonk(1,2,3,4,5)"
   ]
  },
  {
   "cell_type": "code",
   "execution_count": 7,
   "id": "2df0d98b",
   "metadata": {},
   "outputs": [],
   "source": [
    "fonkcarpma = anafonksiyon(\"çarpma\")"
   ]
  },
  {
   "cell_type": "code",
   "execution_count": 8,
   "id": "f14d883b",
   "metadata": {},
   "outputs": [
    {
     "data": {
      "text/plain": [
       "120"
      ]
     },
     "execution_count": 8,
     "metadata": {},
     "output_type": "execute_result"
    }
   ],
   "source": [
    "fonkcarpma(1,2,3,4,5)"
   ]
  },
  {
   "cell_type": "code",
   "execution_count": 13,
   "id": "286f13e1",
   "metadata": {},
   "outputs": [
    {
     "data": {
      "text/plain": [
       "120"
      ]
     },
     "execution_count": 13,
     "metadata": {},
     "output_type": "execute_result"
    }
   ],
   "source": [
    "fonkcarpma(*range(1,6))"
   ]
  },
  {
   "cell_type": "code",
   "execution_count": 16,
   "id": "ae753d18",
   "metadata": {},
   "outputs": [
    {
     "data": {
      "text/plain": [
       "160"
      ]
     },
     "execution_count": 16,
     "metadata": {},
     "output_type": "execute_result"
    }
   ],
   "source": [
    "fonkcarpma(*(1,2,4,20))"
   ]
  },
  {
   "cell_type": "code",
   "execution_count": 17,
   "id": "698d7fc5",
   "metadata": {},
   "outputs": [
    {
     "data": {
      "text/plain": [
       "160"
      ]
     },
     "execution_count": 17,
     "metadata": {},
     "output_type": "execute_result"
    }
   ],
   "source": [
    "fonkcarpma(*[1,2,4,20])"
   ]
  },
  {
   "cell_type": "code",
   "execution_count": 18,
   "id": "9596c92b",
   "metadata": {},
   "outputs": [],
   "source": [
    "def toplama(a,b):\n",
    "    return a+b\n",
    "def çıkarma(a,b):\n",
    "    return a-b\n",
    "def çarpma(a,b):\n",
    "    return a*b\n",
    "def bölme(a,b):\n",
    "    return a/b\n"
   ]
  },
  {
   "cell_type": "code",
   "execution_count": 28,
   "id": "8164812f",
   "metadata": {},
   "outputs": [],
   "source": [
    "def anafonksiyon(f1,f2,f3,f4,islem_adi):\n",
    "    if islem_adi == \"toplama\":\n",
    "        print(f1(3,4))\n",
    "    elif islem_adi == \"çıkarma\":\n",
    "        print(f2(10,3))\n",
    "    elif islem_adi == \"çarpma\":\n",
    "        print(f3(3,5))\n",
    "    elif islem_adi == \"bölme\":\n",
    "        print(f4(3,4))\n",
    "    else:\n",
    "        print(\"Geçersizİşlem!\")"
   ]
  },
  {
   "cell_type": "code",
   "execution_count": 30,
   "id": "32c99184",
   "metadata": {},
   "outputs": [
    {
     "name": "stdout",
     "output_type": "stream",
     "text": [
      "0.75\n"
     ]
    }
   ],
   "source": [
    "anafonksiyon(toplama,çıkarma,çarpma,bölme,\"bölme\")"
   ]
  },
  {
   "cell_type": "code",
   "execution_count": 31,
   "id": "0f02e7ef",
   "metadata": {},
   "outputs": [
    {
     "name": "stdout",
     "output_type": "stream",
     "text": [
      "Geçersizİşlem!\n"
     ]
    }
   ],
   "source": [
    "anafonksiyon(toplama,çıkarma,çarpma,bölme,\"böle\")"
   ]
  },
  {
   "cell_type": "code",
   "execution_count": null,
   "id": "b3f422e9",
   "metadata": {},
   "outputs": [],
   "source": []
  }
 ],
 "metadata": {
  "kernelspec": {
   "display_name": "Python 3 (ipykernel)",
   "language": "python",
   "name": "python3"
  },
  "language_info": {
   "codemirror_mode": {
    "name": "ipython",
    "version": 3
   },
   "file_extension": ".py",
   "mimetype": "text/x-python",
   "name": "python",
   "nbconvert_exporter": "python",
   "pygments_lexer": "ipython3",
   "version": "3.9.7"
  }
 },
 "nbformat": 4,
 "nbformat_minor": 5
}
