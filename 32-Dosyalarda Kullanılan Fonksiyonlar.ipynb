{
 "cells": [
  {
   "cell_type": "markdown",
   "id": "87606437",
   "metadata": {},
   "source": [
    "otomatik dosya kapatma"
   ]
  },
  {
   "cell_type": "code",
   "execution_count": 5,
   "id": "5f45d071",
   "metadata": {},
   "outputs": [
    {
     "name": "stdout",
     "output_type": "stream",
     "text": [
      "Tinki vinki\n",
      "Beybi\n",
      "Loyal\n",
      "Dipsi\n",
      "Lala\n",
      "Po\n"
     ]
    }
   ],
   "source": [
    "with open(\"C:/Users/BSS5BU/Desktop/bilgiler.txt\", \"r\", encoding = \"utf-8\") as file:\n",
    "    for i in file:\n",
    "        print(i, end = \"\")\n",
    "\n",
    "          "
   ]
  },
  {
   "cell_type": "markdown",
   "id": "9da90abd",
   "metadata": {},
   "source": [
    "dosyaları ileri geri sarmak"
   ]
  },
  {
   "cell_type": "code",
   "execution_count": 6,
   "id": "0cf7d6a4",
   "metadata": {},
   "outputs": [
    {
     "name": "stdout",
     "output_type": "stream",
     "text": [
      "0\n"
     ]
    }
   ],
   "source": [
    "with open(\"C:/Users/BSS5BU/Desktop/bilgiler.txt\", \"r\", encoding = \"utf-8\") as file:\n",
    "    print(file.tell())"
   ]
  },
  {
   "cell_type": "code",
   "execution_count": 8,
   "id": "130c60a1",
   "metadata": {},
   "outputs": [
    {
     "name": "stdout",
     "output_type": "stream",
     "text": [
      "0\n",
      "20\n"
     ]
    }
   ],
   "source": [
    "with open(\"C:/Users/BSS5BU/Desktop/bilgiler.txt\", \"r\", encoding = \"utf-8\") as file:\n",
    "    print(file.tell())\n",
    "    file.seek(20)\n",
    "    print(file.tell())"
   ]
  },
  {
   "cell_type": "code",
   "execution_count": 9,
   "id": "1d9b449a",
   "metadata": {},
   "outputs": [
    {
     "name": "stdout",
     "output_type": "stream",
     "text": [
      " vinki Bey\n"
     ]
    }
   ],
   "source": [
    "with open(\"C:/Users/BSS5BU/Desktop/bilgiler.txt\", \"r\", encoding = \"utf-8\") as file:\n",
    "    file.seek(5)\n",
    "    icerik = file.read(10)\n",
    "    print(icerik)"
   ]
  },
  {
   "cell_type": "code",
   "execution_count": 10,
   "id": "abf00cd7",
   "metadata": {},
   "outputs": [
    {
     "name": "stdout",
     "output_type": "stream",
     "text": [
      "15\n",
      " vinki Bey\n"
     ]
    }
   ],
   "source": [
    "with open(\"C:/Users/BSS5BU/Desktop/bilgiler.txt\", \"r\", encoding = \"utf-8\") as file:\n",
    "    file.seek(5)\n",
    "    icerik = file.read(10)\n",
    "    print(file.tell())\n",
    "    print(icerik)"
   ]
  },
  {
   "cell_type": "code",
   "execution_count": 14,
   "id": "936d7224",
   "metadata": {},
   "outputs": [
    {
     "name": "stdout",
     "output_type": "stream",
     "text": [
      "Tinki v\n"
     ]
    }
   ],
   "source": [
    "with open(\"C:/Users/BSS5BU/Desktop/bilgiler.txt\", \"r\", encoding = \"utf-8\") as file:\n",
    "    file.seek(5)\n",
    "    icerik = file.read(10)\n",
    "    file.seek(0)\n",
    "    icerik2 = file.read(7)\n",
    "    print(icerik2)"
   ]
  },
  {
   "cell_type": "code",
   "execution_count": null,
   "id": "0e341226",
   "metadata": {},
   "outputs": [],
   "source": []
  }
 ],
 "metadata": {
  "kernelspec": {
   "display_name": "Python 3 (ipykernel)",
   "language": "python",
   "name": "python3"
  },
  "language_info": {
   "codemirror_mode": {
    "name": "ipython",
    "version": 3
   },
   "file_extension": ".py",
   "mimetype": "text/x-python",
   "name": "python",
   "nbconvert_exporter": "python",
   "pygments_lexer": "ipython3",
   "version": "3.10.9"
  }
 },
 "nbformat": 4,
 "nbformat_minor": 5
}
