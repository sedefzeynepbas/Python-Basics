{
 "cells": [
  {
   "cell_type": "code",
   "execution_count": 1,
   "id": "e03ffa9b",
   "metadata": {},
   "outputs": [],
   "source": [
    "liste1 = [1,2,3,4,5]\n",
    "liste2 = [i*2 for i in liste1]"
   ]
  },
  {
   "cell_type": "code",
   "execution_count": 2,
   "id": "1f087087",
   "metadata": {},
   "outputs": [
    {
     "data": {
      "text/plain": [
       "[2, 4, 6, 8, 10]"
      ]
     },
     "execution_count": 2,
     "metadata": {},
     "output_type": "execute_result"
    }
   ],
   "source": [
    "liste2"
   ]
  },
  {
   "cell_type": "code",
   "execution_count": 3,
   "id": "a4237b02",
   "metadata": {},
   "outputs": [
    {
     "name": "stdout",
     "output_type": "stream",
     "text": [
      "6\n"
     ]
    }
   ],
   "source": [
    "def times2(x):\n",
    "    return x*2\n",
    "print(times2(3))"
   ]
  },
  {
   "cell_type": "code",
   "execution_count": 4,
   "id": "c20c78e7",
   "metadata": {},
   "outputs": [],
   "source": [
    "times2 = lambda x : x * 2"
   ]
  },
  {
   "cell_type": "code",
   "execution_count": 5,
   "id": "dc4e87a0",
   "metadata": {},
   "outputs": [
    {
     "data": {
      "text/plain": [
       "function"
      ]
     },
     "execution_count": 5,
     "metadata": {},
     "output_type": "execute_result"
    }
   ],
   "source": [
    "type(times2)"
   ]
  },
  {
   "cell_type": "code",
   "execution_count": 6,
   "id": "706f2dcc",
   "metadata": {},
   "outputs": [
    {
     "name": "stdout",
     "output_type": "stream",
     "text": [
      "6\n"
     ]
    }
   ],
   "source": [
    "print(times2(3))"
   ]
  },
  {
   "cell_type": "code",
   "execution_count": 7,
   "id": "a3825bd8",
   "metadata": {},
   "outputs": [
    {
     "name": "stdout",
     "output_type": "stream",
     "text": [
      "33\n"
     ]
    }
   ],
   "source": [
    "def topla(x,y,z,):\n",
    "    return x + y + z\n",
    "print(topla(10,11,12))"
   ]
  },
  {
   "cell_type": "code",
   "execution_count": 10,
   "id": "4b3c3b86",
   "metadata": {},
   "outputs": [],
   "source": [
    "topla = lambda x,y,z : x + y + z"
   ]
  },
  {
   "cell_type": "code",
   "execution_count": 11,
   "id": "042f6f3a",
   "metadata": {},
   "outputs": [
    {
     "data": {
      "text/plain": [
       "12"
      ]
     },
     "execution_count": 11,
     "metadata": {},
     "output_type": "execute_result"
    }
   ],
   "source": [
    "topla(3,4,5)"
   ]
  },
  {
   "cell_type": "code",
   "execution_count": 13,
   "id": "c25e0c95",
   "metadata": {},
   "outputs": [
    {
     "name": "stdout",
     "output_type": "stream",
     "text": [
      "nohtyP\n"
     ]
    }
   ],
   "source": [
    "def terscevir(s):\n",
    "    return s[::-1]\n",
    "print(terscevir(\"Python\"))"
   ]
  },
  {
   "cell_type": "code",
   "execution_count": 14,
   "id": "3fbce020",
   "metadata": {},
   "outputs": [],
   "source": [
    "ters = lambda s : s[::-1]"
   ]
  },
  {
   "cell_type": "code",
   "execution_count": 16,
   "id": "ba3f7004",
   "metadata": {},
   "outputs": [
    {
     "data": {
      "text/plain": [
       "'margorP'"
      ]
     },
     "execution_count": 16,
     "metadata": {},
     "output_type": "execute_result"
    }
   ],
   "source": [
    "ters(\"Program\")"
   ]
  },
  {
   "cell_type": "code",
   "execution_count": 17,
   "id": "824e859c",
   "metadata": {},
   "outputs": [],
   "source": [
    "def cifttek(sayi):\n",
    "    return sayi % 2 == 0"
   ]
  },
  {
   "cell_type": "code",
   "execution_count": 18,
   "id": "d0bb3462",
   "metadata": {},
   "outputs": [
    {
     "name": "stdout",
     "output_type": "stream",
     "text": [
      "True\n"
     ]
    }
   ],
   "source": [
    "print(cifttek(14))"
   ]
  },
  {
   "cell_type": "code",
   "execution_count": 20,
   "id": "7d3b02a9",
   "metadata": {},
   "outputs": [
    {
     "name": "stdout",
     "output_type": "stream",
     "text": [
      "False\n"
     ]
    }
   ],
   "source": [
    "print(cifttek(1))"
   ]
  },
  {
   "cell_type": "code",
   "execution_count": 21,
   "id": "20b17f21",
   "metadata": {},
   "outputs": [],
   "source": [
    "cifttek = lambda sayi : sayi % 2 == 0"
   ]
  },
  {
   "cell_type": "code",
   "execution_count": 22,
   "id": "93765a57",
   "metadata": {},
   "outputs": [
    {
     "data": {
      "text/plain": [
       "True"
      ]
     },
     "execution_count": 22,
     "metadata": {},
     "output_type": "execute_result"
    }
   ],
   "source": [
    "cifttek(14)"
   ]
  },
  {
   "cell_type": "code",
   "execution_count": 23,
   "id": "7b553788",
   "metadata": {},
   "outputs": [
    {
     "data": {
      "text/plain": [
       "False"
      ]
     },
     "execution_count": 23,
     "metadata": {},
     "output_type": "execute_result"
    }
   ],
   "source": [
    "cifttek(-1)"
   ]
  },
  {
   "cell_type": "code",
   "execution_count": 24,
   "id": "35bf604c",
   "metadata": {},
   "outputs": [
    {
     "data": {
      "text/plain": [
       "True"
      ]
     },
     "execution_count": 24,
     "metadata": {},
     "output_type": "execute_result"
    }
   ],
   "source": [
    "cifttek(-2)"
   ]
  },
  {
   "cell_type": "code",
   "execution_count": 25,
   "id": "8f482bff",
   "metadata": {},
   "outputs": [],
   "source": [
    "a = \"-1\"\n",
    "a = int(a)"
   ]
  },
  {
   "cell_type": "code",
   "execution_count": 26,
   "id": "71aaba4b",
   "metadata": {},
   "outputs": [
    {
     "data": {
      "text/plain": [
       "-1"
      ]
     },
     "execution_count": 26,
     "metadata": {},
     "output_type": "execute_result"
    }
   ],
   "source": [
    "a"
   ]
  },
  {
   "cell_type": "code",
   "execution_count": 27,
   "id": "94582d02",
   "metadata": {},
   "outputs": [
    {
     "data": {
      "text/plain": [
       "int"
      ]
     },
     "execution_count": 27,
     "metadata": {},
     "output_type": "execute_result"
    }
   ],
   "source": [
    "type(a)"
   ]
  },
  {
   "cell_type": "code",
   "execution_count": 29,
   "id": "e7604995",
   "metadata": {},
   "outputs": [
    {
     "ename": "IndentationError",
     "evalue": "unexpected indent (Temp/ipykernel_10528/1316132354.py, line 2)",
     "output_type": "error",
     "traceback": [
      "\u001b[1;36m  File \u001b[1;32m\"C:\\Users\\BSS5BU\\AppData\\Local\\Temp/ipykernel_10528/1316132354.py\"\u001b[1;36m, line \u001b[1;32m2\u001b[0m\n\u001b[1;33m    for n in range(1, 1001):\u001b[0m\n\u001b[1;37m    ^\u001b[0m\n\u001b[1;31mIndentationError\u001b[0m\u001b[1;31m:\u001b[0m unexpected indent\n"
     ]
    }
   ],
   "source": [
    "liste_m = []\n",
    "    for n in range(1, 1001):\n",
    "        b = 0\n",
    "        liste = []\n",
    "        for i in range(1,n):\n",
    "            if n % i == 0:\n",
    "                liste += [i]\n",
    "                b += i\n",
    "            if b == n:\n",
    "                liste_m.append(n)"
   ]
  },
  {
   "cell_type": "code",
   "execution_count": 30,
   "id": "7116e5df",
   "metadata": {},
   "outputs": [
    {
     "data": {
      "text/plain": [
       "247"
      ]
     },
     "execution_count": 30,
     "metadata": {},
     "output_type": "execute_result"
    }
   ],
   "source": [
    "13*19"
   ]
  },
  {
   "cell_type": "code",
   "execution_count": null,
   "id": "e8bea3b1",
   "metadata": {},
   "outputs": [],
   "source": []
  }
 ],
 "metadata": {
  "kernelspec": {
   "display_name": "Python 3 (ipykernel)",
   "language": "python",
   "name": "python3"
  },
  "language_info": {
   "codemirror_mode": {
    "name": "ipython",
    "version": 3
   },
   "file_extension": ".py",
   "mimetype": "text/x-python",
   "name": "python",
   "nbconvert_exporter": "python",
   "pygments_lexer": "ipython3",
   "version": "3.9.7"
  }
 },
 "nbformat": 4,
 "nbformat_minor": 5
}
