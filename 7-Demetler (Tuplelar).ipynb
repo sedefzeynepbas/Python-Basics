{
 "cells": [
  {
   "cell_type": "markdown",
   "id": "25dfd911",
   "metadata": {},
   "source": [
    "Demetler değiştirilemez listeler gibi, değiştirilmesini istemediğimiz şeyler için kullanılır"
   ]
  },
  {
   "cell_type": "code",
   "execution_count": 1,
   "id": "8839df8a",
   "metadata": {},
   "outputs": [],
   "source": [
    "demet = (1,2,3,4,5,6,7)"
   ]
  },
  {
   "cell_type": "code",
   "execution_count": 2,
   "id": "ce379885",
   "metadata": {},
   "outputs": [
    {
     "data": {
      "text/plain": [
       "tuple"
      ]
     },
     "execution_count": 2,
     "metadata": {},
     "output_type": "execute_result"
    }
   ],
   "source": [
    "type(demet)"
   ]
  },
  {
   "cell_type": "code",
   "execution_count": 3,
   "id": "e1a91c55",
   "metadata": {},
   "outputs": [
    {
     "data": {
      "text/plain": [
       "5"
      ]
     },
     "execution_count": 3,
     "metadata": {},
     "output_type": "execute_result"
    }
   ],
   "source": [
    "demet[4]"
   ]
  },
  {
   "cell_type": "code",
   "execution_count": 4,
   "id": "9d352c25",
   "metadata": {},
   "outputs": [
    {
     "data": {
      "text/plain": [
       "1"
      ]
     },
     "execution_count": 4,
     "metadata": {},
     "output_type": "execute_result"
    }
   ],
   "source": [
    "demet[0]"
   ]
  },
  {
   "cell_type": "code",
   "execution_count": 5,
   "id": "c58552a0",
   "metadata": {},
   "outputs": [
    {
     "data": {
      "text/plain": [
       "7"
      ]
     },
     "execution_count": 5,
     "metadata": {},
     "output_type": "execute_result"
    }
   ],
   "source": [
    "demet[-1]"
   ]
  },
  {
   "cell_type": "code",
   "execution_count": 6,
   "id": "2c6866a6",
   "metadata": {},
   "outputs": [
    {
     "data": {
      "text/plain": [
       "(1, 2, 3, 4)"
      ]
     },
     "execution_count": 6,
     "metadata": {},
     "output_type": "execute_result"
    }
   ],
   "source": [
    "demet[:4]"
   ]
  },
  {
   "cell_type": "code",
   "execution_count": 7,
   "id": "3f84ee3d",
   "metadata": {},
   "outputs": [
    {
     "data": {
      "text/plain": [
       "(3, 4, 5, 6, 7)"
      ]
     },
     "execution_count": 7,
     "metadata": {},
     "output_type": "execute_result"
    }
   ],
   "source": [
    "demet[2:]"
   ]
  },
  {
   "cell_type": "code",
   "execution_count": 8,
   "id": "eb27f05a",
   "metadata": {},
   "outputs": [],
   "source": [
    "demet2 = (1,1,1,1,1,2,2,4,5)"
   ]
  },
  {
   "cell_type": "code",
   "execution_count": 9,
   "id": "4f2f06e5",
   "metadata": {},
   "outputs": [
    {
     "data": {
      "text/plain": [
       "5"
      ]
     },
     "execution_count": 9,
     "metadata": {},
     "output_type": "execute_result"
    }
   ],
   "source": [
    "demet2.count(1)"
   ]
  },
  {
   "cell_type": "code",
   "execution_count": 10,
   "id": "fe1f761b",
   "metadata": {},
   "outputs": [
    {
     "data": {
      "text/plain": [
       "1"
      ]
     },
     "execution_count": 10,
     "metadata": {},
     "output_type": "execute_result"
    }
   ],
   "source": [
    "demet2.count(5)"
   ]
  },
  {
   "cell_type": "code",
   "execution_count": 11,
   "id": "cd7fb08f",
   "metadata": {},
   "outputs": [
    {
     "data": {
      "text/plain": [
       "0"
      ]
     },
     "execution_count": 11,
     "metadata": {},
     "output_type": "execute_result"
    }
   ],
   "source": [
    "demet2.count(10)"
   ]
  },
  {
   "cell_type": "code",
   "execution_count": 12,
   "id": "56dea4cc",
   "metadata": {},
   "outputs": [
    {
     "data": {
      "text/plain": [
       "0"
      ]
     },
     "execution_count": 12,
     "metadata": {},
     "output_type": "execute_result"
    }
   ],
   "source": [
    "demet3 = (\"Python\", \"Php\", \"C\", \"Java\")\n",
    "demet3.index(\"Python\")"
   ]
  },
  {
   "cell_type": "code",
   "execution_count": 13,
   "id": "47e3c71a",
   "metadata": {},
   "outputs": [
    {
     "data": {
      "text/plain": [
       "3"
      ]
     },
     "execution_count": 13,
     "metadata": {},
     "output_type": "execute_result"
    }
   ],
   "source": [
    "demet3.index(\"Java\")"
   ]
  },
  {
   "cell_type": "code",
   "execution_count": 14,
   "id": "f63fb6a1",
   "metadata": {},
   "outputs": [
    {
     "ename": "ValueError",
     "evalue": "tuple.index(x): x not in tuple",
     "output_type": "error",
     "traceback": [
      "\u001b[1;31m---------------------------------------------------------------------------\u001b[0m",
      "\u001b[1;31mValueError\u001b[0m                                Traceback (most recent call last)",
      "\u001b[1;32m~\\AppData\\Local\\Temp/ipykernel_21748/2253947714.py\u001b[0m in \u001b[0;36m<module>\u001b[1;34m\u001b[0m\n\u001b[1;32m----> 1\u001b[1;33m \u001b[0mdemet3\u001b[0m\u001b[1;33m.\u001b[0m\u001b[0mindex\u001b[0m\u001b[1;33m(\u001b[0m\u001b[1;34m\"JS\"\u001b[0m\u001b[1;33m)\u001b[0m\u001b[1;33m\u001b[0m\u001b[1;33m\u001b[0m\u001b[0m\n\u001b[0m",
      "\u001b[1;31mValueError\u001b[0m: tuple.index(x): x not in tuple"
     ]
    }
   ],
   "source": [
    "demet3.index(\"JS\")"
   ]
  },
  {
   "cell_type": "markdown",
   "id": "a3e904e8",
   "metadata": {},
   "source": [
    "Değiştirilmeme özelliği:"
   ]
  },
  {
   "cell_type": "code",
   "execution_count": 15,
   "id": "c330a050",
   "metadata": {},
   "outputs": [
    {
     "ename": "TypeError",
     "evalue": "'tuple' object does not support item assignment",
     "output_type": "error",
     "traceback": [
      "\u001b[1;31m---------------------------------------------------------------------------\u001b[0m",
      "\u001b[1;31mTypeError\u001b[0m                                 Traceback (most recent call last)",
      "\u001b[1;32m~\\AppData\\Local\\Temp/ipykernel_21748/257694492.py\u001b[0m in \u001b[0;36m<module>\u001b[1;34m\u001b[0m\n\u001b[0;32m      1\u001b[0m \u001b[0mdemet\u001b[0m \u001b[1;33m=\u001b[0m \u001b[1;33m(\u001b[0m\u001b[1;36m1\u001b[0m\u001b[1;33m,\u001b[0m\u001b[1;36m2\u001b[0m\u001b[1;33m,\u001b[0m\u001b[1;36m3\u001b[0m\u001b[1;33m,\u001b[0m\u001b[1;36m4\u001b[0m\u001b[1;33m,\u001b[0m\u001b[1;36m5\u001b[0m\u001b[1;33m)\u001b[0m\u001b[1;33m\u001b[0m\u001b[1;33m\u001b[0m\u001b[0m\n\u001b[1;32m----> 2\u001b[1;33m \u001b[0mdemet\u001b[0m\u001b[1;33m[\u001b[0m\u001b[1;33m-\u001b[0m\u001b[1;36m1\u001b[0m\u001b[1;33m]\u001b[0m \u001b[1;33m=\u001b[0m \u001b[1;36m10\u001b[0m\u001b[1;33m\u001b[0m\u001b[1;33m\u001b[0m\u001b[0m\n\u001b[0m",
      "\u001b[1;31mTypeError\u001b[0m: 'tuple' object does not support item assignment"
     ]
    }
   ],
   "source": [
    "demet = (1,2,3,4,5)\n",
    "demet[-1] = 10"
   ]
  },
  {
   "cell_type": "markdown",
   "id": "aa7b0479",
   "metadata": {},
   "source": [
    "Ne zaman kullanalım?"
   ]
  },
  {
   "cell_type": "markdown",
   "id": "331f3348",
   "metadata": {},
   "source": [
    "Birkaç programcı düzenliyorsa programı değiştirilmesini istemediğimiz şeyleri buraya depolayabiliriz"
   ]
  },
  {
   "cell_type": "code",
   "execution_count": null,
   "id": "3e7098a4",
   "metadata": {},
   "outputs": [],
   "source": []
  }
 ],
 "metadata": {
  "kernelspec": {
   "display_name": "Python 3 (ipykernel)",
   "language": "python",
   "name": "python3"
  },
  "language_info": {
   "codemirror_mode": {
    "name": "ipython",
    "version": 3
   },
   "file_extension": ".py",
   "mimetype": "text/x-python",
   "name": "python",
   "nbconvert_exporter": "python",
   "pygments_lexer": "ipython3",
   "version": "3.9.7"
  }
 },
 "nbformat": 4,
 "nbformat_minor": 5
}
