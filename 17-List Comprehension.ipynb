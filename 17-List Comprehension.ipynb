{
 "cells": [
  {
   "cell_type": "code",
   "execution_count": 1,
   "id": "8d332c41",
   "metadata": {},
   "outputs": [
    {
     "data": {
      "text/plain": [
       "[1, 2, 3, 4, 5]"
      ]
     },
     "execution_count": 1,
     "metadata": {},
     "output_type": "execute_result"
    }
   ],
   "source": [
    "liste = [1,2,3,4]\n",
    "liste.append(5)\n",
    "liste"
   ]
  },
  {
   "cell_type": "code",
   "execution_count": 3,
   "id": "7655994b",
   "metadata": {},
   "outputs": [
    {
     "data": {
      "text/plain": [
       "[1, 2, 3, 4, 5, 6]"
      ]
     },
     "execution_count": 3,
     "metadata": {},
     "output_type": "execute_result"
    }
   ],
   "source": [
    "liste + [6]"
   ]
  },
  {
   "cell_type": "code",
   "execution_count": 10,
   "id": "3f5a7e3d",
   "metadata": {},
   "outputs": [],
   "source": [
    "liste = [3,5,67,84,3]"
   ]
  },
  {
   "cell_type": "code",
   "execution_count": 5,
   "id": "2fe865f0",
   "metadata": {},
   "outputs": [],
   "source": [
    "liste2 = list()"
   ]
  },
  {
   "cell_type": "code",
   "execution_count": 6,
   "id": "3bc6586e",
   "metadata": {},
   "outputs": [],
   "source": [
    "liste2=[]"
   ]
  },
  {
   "cell_type": "code",
   "execution_count": 13,
   "id": "01b2c839",
   "metadata": {},
   "outputs": [
    {
     "name": "stdout",
     "output_type": "stream",
     "text": [
      "[3, 5, 67, 84, 3, 3, 3, 5, 67, 84, 3, 3, 5, 67, 84, 3]\n"
     ]
    }
   ],
   "source": [
    "for i in liste:\n",
    "    liste2.append(i)\n",
    "print(liste2)"
   ]
  },
  {
   "cell_type": "code",
   "execution_count": 7,
   "id": "101b3ef1",
   "metadata": {},
   "outputs": [
    {
     "name": "stdout",
     "output_type": "stream",
     "text": [
      "[3, 5, 67, 84, 3]\n"
     ]
    }
   ],
   "source": [
    "liste = [3,5,67,84,3]\n",
    "liste2 = list()\n",
    "for i in liste:\n",
    "    liste2 = liste2 + [i]\n",
    "print(liste2)"
   ]
  },
  {
   "cell_type": "code",
   "execution_count": 8,
   "id": "66c0fc4a",
   "metadata": {},
   "outputs": [
    {
     "name": "stdout",
     "output_type": "stream",
     "text": [
      "[3, 5, 67, 84, 3]\n"
     ]
    }
   ],
   "source": [
    "liste = [3,5,67,84,3]\n",
    "liste2 = list()\n",
    "for i in liste:\n",
    "    liste2.append(i)\n",
    "print(liste2)"
   ]
  },
  {
   "cell_type": "code",
   "execution_count": 9,
   "id": "b6553dd0",
   "metadata": {},
   "outputs": [
    {
     "name": "stdout",
     "output_type": "stream",
     "text": [
      "[5, 76, 8, 75, 4]\n"
     ]
    }
   ],
   "source": [
    "liste3 = [5,76,8,75,4]\n",
    "\n",
    "liste4= [i for i in liste3]\n",
    "print(liste4)"
   ]
  },
  {
   "cell_type": "markdown",
   "id": "6af4da04",
   "metadata": {},
   "source": [
    "list comprehension bir üst satır"
   ]
  },
  {
   "cell_type": "code",
   "execution_count": 10,
   "id": "811e3cb9",
   "metadata": {},
   "outputs": [
    {
     "name": "stdout",
     "output_type": "stream",
     "text": [
      "[6, 8, 10]\n"
     ]
    }
   ],
   "source": [
    "liste = [3,4,5]\n",
    "liste1 = [i*2 for i in liste]\n",
    "print(liste1)"
   ]
  },
  {
   "cell_type": "code",
   "execution_count": 12,
   "id": "217cc012",
   "metadata": {},
   "outputs": [
    {
     "data": {
      "text/plain": [
       "[2, 12, 30]"
      ]
     },
     "execution_count": 12,
     "metadata": {},
     "output_type": "execute_result"
    }
   ],
   "source": [
    "liste = [(1,2),(3,4),(5,6)]\n",
    "\n",
    "liste1 = [i*j for i,j in liste]\n",
    "liste1"
   ]
  },
  {
   "cell_type": "code",
   "execution_count": 16,
   "id": "8c4be156",
   "metadata": {},
   "outputs": [
    {
     "name": "stdout",
     "output_type": "stream",
     "text": [
      "['PPP', 'yyy', 'ttt', 'hhh', 'ooo', 'nnn']\n"
     ]
    }
   ],
   "source": [
    "a = \"Python\"\n",
    "liste1 = [i*3 for i in a]\n",
    "print(liste1)"
   ]
  },
  {
   "cell_type": "code",
   "execution_count": 28,
   "id": "7ed148b0",
   "metadata": {},
   "outputs": [
    {
     "name": "stdout",
     "output_type": "stream",
     "text": [
      "[1, 2, 3, 4, 5, 6, 7, 8, 9, 10, 11, 12, 13, 14, 15]\n"
     ]
    }
   ],
   "source": [
    "liste1 = []\n",
    "liste = [[1,2,3],[4,5,6,7,8],[9,10,11,12,13,14,15]]\n",
    "for i in liste:\n",
    "    for x in i:\n",
    "        liste1 = liste1 + [x]\n",
    "print(liste1)\n"
   ]
  },
  {
   "cell_type": "code",
   "execution_count": 29,
   "id": "4e422776",
   "metadata": {},
   "outputs": [
    {
     "name": "stdout",
     "output_type": "stream",
     "text": [
      "[1, 2, 3, 4, 5, 6, 7, 8, 9, 10, 11, 12, 13, 14, 15]\n"
     ]
    }
   ],
   "source": [
    "liste1 = []\n",
    "liste = [[1,2,3],[4,5,6,7,8],[9,10,11,12,13,14,15]]\n",
    "for i in liste:\n",
    "    for x in i:\n",
    "        liste1.append(x)\n",
    "print(liste1)\n"
   ]
  },
  {
   "cell_type": "code",
   "execution_count": 32,
   "id": "9b2eb055",
   "metadata": {},
   "outputs": [
    {
     "name": "stdout",
     "output_type": "stream",
     "text": [
      "[1, 2, 3, 4, 5, 6, 7, 8, 9, 10, 11, 12, 13, 14, 15]\n"
     ]
    }
   ],
   "source": [
    "liste = [[1,2,3],[4,5,6,7,8],[9,10,11,12,13,14,15]]\n",
    "liste1 = [x for i in liste for x in i]\n",
    "print(liste1)"
   ]
  },
  {
   "cell_type": "code",
   "execution_count": 1,
   "id": "1ebe69b1",
   "metadata": {},
   "outputs": [
    {
     "data": {
      "text/plain": [
       "125"
      ]
     },
     "execution_count": 1,
     "metadata": {},
     "output_type": "execute_result"
    }
   ],
   "source": [
    "5**3"
   ]
  },
  {
   "cell_type": "code",
   "execution_count": 2,
   "id": "c2fc22c8",
   "metadata": {},
   "outputs": [
    {
     "data": {
      "text/plain": [
       "27"
      ]
     },
     "execution_count": 2,
     "metadata": {},
     "output_type": "execute_result"
    }
   ],
   "source": [
    "3**3"
   ]
  },
  {
   "cell_type": "code",
   "execution_count": 3,
   "id": "61807e01",
   "metadata": {},
   "outputs": [
    {
     "data": {
      "text/plain": [
       "155"
      ]
     },
     "execution_count": 3,
     "metadata": {},
     "output_type": "execute_result"
    }
   ],
   "source": [
    "125+27+3"
   ]
  },
  {
   "cell_type": "code",
   "execution_count": 4,
   "id": "84d80c9c",
   "metadata": {},
   "outputs": [
    {
     "data": {
      "text/plain": [
       "153"
      ]
     },
     "execution_count": 4,
     "metadata": {},
     "output_type": "execute_result"
    }
   ],
   "source": [
    "125+27+1"
   ]
  },
  {
   "cell_type": "code",
   "execution_count": 10,
   "id": "07f5a3a8",
   "metadata": {},
   "outputs": [],
   "source": [
    "a = 152\n",
    "b = len(str(a))"
   ]
  },
  {
   "cell_type": "code",
   "execution_count": 11,
   "id": "8e64d671",
   "metadata": {},
   "outputs": [
    {
     "data": {
      "text/plain": [
       "int"
      ]
     },
     "execution_count": 11,
     "metadata": {},
     "output_type": "execute_result"
    }
   ],
   "source": [
    "type(b)"
   ]
  },
  {
   "cell_type": "code",
   "execution_count": 12,
   "id": "e072717f",
   "metadata": {},
   "outputs": [
    {
     "name": "stdout",
     "output_type": "stream",
     "text": [
      "3\n"
     ]
    }
   ],
   "source": [
    "print(b)"
   ]
  },
  {
   "cell_type": "code",
   "execution_count": 13,
   "id": "73ec860d",
   "metadata": {},
   "outputs": [
    {
     "name": "stdout",
     "output_type": "stream",
     "text": [
      "Armstrong?: 6\n"
     ]
    }
   ],
   "source": [
    "sayi = input(\"Armstrong?: \")\n",
    "basamak = len(sayi)\n",
    "liste = []\n",
    "liste = liste + sayi(basamak-1)"
   ]
  },
  {
   "cell_type": "code",
   "execution_count": 17,
   "id": "f1f589e5",
   "metadata": {},
   "outputs": [
    {
     "name": "stdout",
     "output_type": "stream",
     "text": [
      "3\n",
      "5\n",
      "6\n"
     ]
    }
   ],
   "source": [
    "for i in \"356\" :\n",
    "    print(i)"
   ]
  },
  {
   "cell_type": "code",
   "execution_count": 21,
   "id": "15771d57",
   "metadata": {},
   "outputs": [
    {
     "name": "stdout",
     "output_type": "stream",
     "text": [
      "Armstrong sayısı olması sorgulanacak sayıyı giriniz: 12\n"
     ]
    }
   ],
   "source": [
    "sayi = input(\"Armstrong sayısı olması sorgulanacak sayıyı giriniz: \")\n",
    "basamak = len(sayi)\n",
    "liste = []\n",
    "for i in sayi:\n",
    "    i = int(i)\n",
    "    liste = liste + [i]"
   ]
  },
  {
   "cell_type": "code",
   "execution_count": 22,
   "id": "e3d1429b",
   "metadata": {},
   "outputs": [
    {
     "name": "stdout",
     "output_type": "stream",
     "text": [
      "[1, 2]\n"
     ]
    }
   ],
   "source": [
    "print(liste)"
   ]
  },
  {
   "cell_type": "code",
   "execution_count": 23,
   "id": "9dfe733f",
   "metadata": {},
   "outputs": [
    {
     "data": {
      "text/plain": [
       "int"
      ]
     },
     "execution_count": 23,
     "metadata": {},
     "output_type": "execute_result"
    }
   ],
   "source": [
    "type(liste[1])"
   ]
  },
  {
   "cell_type": "code",
   "execution_count": 24,
   "id": "f42da08b",
   "metadata": {},
   "outputs": [
    {
     "name": "stdout",
     "output_type": "stream",
     "text": [
      "[1, 2, 1, 2, 1, 2]\n"
     ]
    }
   ],
   "source": [
    "print(liste*3)"
   ]
  },
  {
   "cell_type": "code",
   "execution_count": null,
   "id": "87c40b5b",
   "metadata": {},
   "outputs": [],
   "source": []
  }
 ],
 "metadata": {
  "kernelspec": {
   "display_name": "Python 3 (ipykernel)",
   "language": "python",
   "name": "python3"
  },
  "language_info": {
   "codemirror_mode": {
    "name": "ipython",
    "version": 3
   },
   "file_extension": ".py",
   "mimetype": "text/x-python",
   "name": "python",
   "nbconvert_exporter": "python",
   "pygments_lexer": "ipython3",
   "version": "3.9.7"
  }
 },
 "nbformat": 4,
 "nbformat_minor": 5
}
