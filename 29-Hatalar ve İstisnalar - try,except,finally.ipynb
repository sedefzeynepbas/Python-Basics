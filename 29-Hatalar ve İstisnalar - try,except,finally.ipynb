{
 "cells": [
  {
   "cell_type": "markdown",
   "id": "3c9553cb",
   "metadata": {},
   "source": [
    "Hatalar"
   ]
  },
  {
   "cell_type": "code",
   "execution_count": 1,
   "id": "78f4f934",
   "metadata": {},
   "outputs": [
    {
     "ename": "NameError",
     "evalue": "name 'a' is not defined",
     "output_type": "error",
     "traceback": [
      "\u001b[1;31m---------------------------------------------------------------------------\u001b[0m",
      "\u001b[1;31mNameError\u001b[0m                                 Traceback (most recent call last)",
      "\u001b[1;32m~\\AppData\\Local\\Temp/ipykernel_5376/1189138062.py\u001b[0m in \u001b[0;36m<module>\u001b[1;34m\u001b[0m\n\u001b[1;32m----> 1\u001b[1;33m \u001b[0mprint\u001b[0m\u001b[1;33m(\u001b[0m\u001b[0ma\u001b[0m\u001b[1;33m)\u001b[0m\u001b[1;33m\u001b[0m\u001b[1;33m\u001b[0m\u001b[0m\n\u001b[0m",
      "\u001b[1;31mNameError\u001b[0m: name 'a' is not defined"
     ]
    }
   ],
   "source": [
    "print(a)"
   ]
  },
  {
   "cell_type": "code",
   "execution_count": 3,
   "id": "327e8bca",
   "metadata": {},
   "outputs": [
    {
     "ename": "ValueError",
     "evalue": "invalid literal for int() with base 10: 'fıv3oj'",
     "output_type": "error",
     "traceback": [
      "\u001b[1;31m---------------------------------------------------------------------------\u001b[0m",
      "\u001b[1;31mValueError\u001b[0m                                Traceback (most recent call last)",
      "\u001b[1;32m~\\AppData\\Local\\Temp/ipykernel_5376/3852868747.py\u001b[0m in \u001b[0;36m<module>\u001b[1;34m\u001b[0m\n\u001b[1;32m----> 1\u001b[1;33m \u001b[0mint\u001b[0m\u001b[1;33m(\u001b[0m\u001b[1;34m\"fıv3oj\"\u001b[0m\u001b[1;33m)\u001b[0m\u001b[1;33m\u001b[0m\u001b[1;33m\u001b[0m\u001b[0m\n\u001b[0m",
      "\u001b[1;31mValueError\u001b[0m: invalid literal for int() with base 10: 'fıv3oj'"
     ]
    }
   ],
   "source": [
    "int(\"fıv3oj\")"
   ]
  },
  {
   "cell_type": "code",
   "execution_count": 4,
   "id": "4e8097e0",
   "metadata": {},
   "outputs": [
    {
     "ename": "ZeroDivisionError",
     "evalue": "division by zero",
     "output_type": "error",
     "traceback": [
      "\u001b[1;31m---------------------------------------------------------------------------\u001b[0m",
      "\u001b[1;31mZeroDivisionError\u001b[0m                         Traceback (most recent call last)",
      "\u001b[1;32m~\\AppData\\Local\\Temp/ipykernel_5376/3627099327.py\u001b[0m in \u001b[0;36m<module>\u001b[1;34m\u001b[0m\n\u001b[1;32m----> 1\u001b[1;33m \u001b[1;36m2\u001b[0m\u001b[1;33m/\u001b[0m\u001b[1;36m0\u001b[0m\u001b[1;33m\u001b[0m\u001b[1;33m\u001b[0m\u001b[0m\n\u001b[0m",
      "\u001b[1;31mZeroDivisionError\u001b[0m: division by zero"
     ]
    }
   ],
   "source": [
    "2/0"
   ]
  },
  {
   "cell_type": "code",
   "execution_count": 6,
   "id": "7f28bc94",
   "metadata": {},
   "outputs": [
    {
     "ename": "SyntaxError",
     "evalue": "invalid syntax (Temp/ipykernel_5376/64656797.py, line 1)",
     "output_type": "error",
     "traceback": [
      "\u001b[1;36m  File \u001b[1;32m\"C:\\Users\\BSS5BU\\AppData\\Local\\Temp/ipykernel_5376/64656797.py\"\u001b[1;36m, line \u001b[1;32m1\u001b[0m\n\u001b[1;33m    print('f'nfjkdnj)\u001b[0m\n\u001b[1;37m             ^\u001b[0m\n\u001b[1;31mSyntaxError\u001b[0m\u001b[1;31m:\u001b[0m invalid syntax\n"
     ]
    }
   ],
   "source": [
    "print('f'nfjkdnj)"
   ]
  },
  {
   "cell_type": "code",
   "execution_count": 7,
   "id": "5b9d71af",
   "metadata": {},
   "outputs": [
    {
     "ename": "ValueError",
     "evalue": "invalid literal for int() with base 10: 'fhvoıhe8'",
     "output_type": "error",
     "traceback": [
      "\u001b[1;31m---------------------------------------------------------------------------\u001b[0m",
      "\u001b[1;31mValueError\u001b[0m                                Traceback (most recent call last)",
      "\u001b[1;32m~\\AppData\\Local\\Temp/ipykernel_5376/1988738326.py\u001b[0m in \u001b[0;36m<module>\u001b[1;34m\u001b[0m\n\u001b[1;32m----> 1\u001b[1;33m \u001b[0ma\u001b[0m \u001b[1;33m=\u001b[0m \u001b[0mint\u001b[0m\u001b[1;33m(\u001b[0m\u001b[1;34m\"fhvoıhe8\"\u001b[0m\u001b[1;33m)\u001b[0m\u001b[1;33m\u001b[0m\u001b[1;33m\u001b[0m\u001b[0m\n\u001b[0m",
      "\u001b[1;31mValueError\u001b[0m: invalid literal for int() with base 10: 'fhvoıhe8'"
     ]
    }
   ],
   "source": [
    "a = int(\"fhvoıhe8\")"
   ]
  },
  {
   "cell_type": "code",
   "execution_count": 11,
   "id": "0d258a01",
   "metadata": {},
   "outputs": [
    {
     "name": "stdout",
     "output_type": "stream",
     "text": [
      "Hata oluştu.\n",
      "Bloklar sona erdi.\n"
     ]
    }
   ],
   "source": [
    "try:\n",
    "    a = int(\"fhvoıhe8\")\n",
    "    print(\"Program burada.\")\n",
    "except:\n",
    "    print(\"Hata oluştu.\")\n",
    "print(\"Bloklar sona erdi.\")"
   ]
  },
  {
   "cell_type": "code",
   "execution_count": 12,
   "id": "06f44197",
   "metadata": {},
   "outputs": [
    {
     "name": "stdout",
     "output_type": "stream",
     "text": [
      "Program burada.\n",
      "Bloklar sona erdi.\n"
     ]
    }
   ],
   "source": [
    "try:\n",
    "    a = int(\"28\")\n",
    "    print(\"Program burada.\")\n",
    "except:\n",
    "    print(\"Hata oluştu.\")\n",
    "print(\"Bloklar sona erdi.\")\n",
    "    "
   ]
  },
  {
   "cell_type": "code",
   "execution_count": 15,
   "id": "808c12ac",
   "metadata": {},
   "outputs": [
    {
     "name": "stdout",
     "output_type": "stream",
     "text": [
      "Hata oluştu.\n",
      "Bloklar sona erdi.\n"
     ]
    }
   ],
   "source": [
    "try:\n",
    "    a = int(\"dfdjkdn\")\n",
    "    print(\"Program burada.\")\n",
    "except ValueError:\n",
    "    print(\"Hata oluştu.\")\n",
    "except:\n",
    "    print(\"Hata mı?\")\n",
    "print(\"Bloklar sona erdi.\")"
   ]
  },
  {
   "cell_type": "code",
   "execution_count": 2,
   "id": "79a21ff0",
   "metadata": {},
   "outputs": [
    {
     "name": "stdout",
     "output_type": "stream",
     "text": [
      "Girilen iki sayı bölünecektir.\n",
      "Sayı1: 3\n",
      "Sayı2: b\n",
      "Lütfen sayı giriniz.\n",
      "Bloklar sona erdi.\n"
     ]
    }
   ],
   "source": [
    "print(\"Girilen iki sayı bölünecektir.\")\n",
    "try:\n",
    "    a = int(input(\"Sayı1: \"))\n",
    "    b = int(input(\"Sayı2: \"))\n",
    "    print (a/b)\n",
    "    \n",
    "except ValueError:\n",
    "    print(\"Lütfen sayı giriniz.\")\n",
    "except ZeroDivisionError:\n",
    "    print(\"Bir sayı sıfıra bölünemez\")\n",
    "print(\"Bloklar sona erdi.\")"
   ]
  },
  {
   "cell_type": "code",
   "execution_count": 6,
   "id": "04a020e3",
   "metadata": {},
   "outputs": [
    {
     "name": "stdout",
     "output_type": "stream",
     "text": [
      "Girilen iki sayı bölünecektir.\n",
      "Sayı1: e\n",
      "ValueError veya ZeroDivisionError\n",
      "Bloklar sona erdi.\n"
     ]
    }
   ],
   "source": [
    "print(\"Girilen iki sayı bölünecektir.\")\n",
    "try:\n",
    "    a = int(input(\"Sayı1: \"))\n",
    "    b = int(input(\"Sayı2: \"))\n",
    "    print (a/b)\n",
    "    \n",
    "except (ValueError, ZeroDivisionError):\n",
    "    print(\"ValueError veya ZeroDivisionError\")\n",
    "\n",
    "print(\"Bloklar sona erdi.\")"
   ]
  },
  {
   "cell_type": "markdown",
   "id": "b07cfc96",
   "metadata": {},
   "source": [
    "finally"
   ]
  },
  {
   "cell_type": "markdown",
   "id": "ed55b3d0",
   "metadata": {},
   "source": [
    "mutlaka çalışması gereken kodlar buraya yazılacak"
   ]
  },
  {
   "cell_type": "code",
   "execution_count": 9,
   "id": "15528bd1",
   "metadata": {},
   "outputs": [
    {
     "name": "stdout",
     "output_type": "stream",
     "text": [
      "Girilen iki sayı bölünecektir.\n",
      "Sayı1: b\n",
      "Lütfen sayı giriniz.\n",
      "Mutlaka çalışması gereken yer...\n",
      "Bloklar sona erdi.\n"
     ]
    }
   ],
   "source": [
    "print(\"Girilen iki sayı bölünecektir.\")\n",
    "try:\n",
    "    a = int(input(\"Sayı1: \"))\n",
    "    b = int(input(\"Sayı2: \"))\n",
    "    print (a/b)\n",
    "    \n",
    "except ValueError:\n",
    "    print(\"Lütfen sayı giriniz.\")\n",
    "except ZeroDivisionError:\n",
    "    print(\"Bir sayı sıfıra bölünemez\")\n",
    "finally:\n",
    "    print(\"Mutlaka çalışması gereken yer...\")\n",
    "print(\"Bloklar sona erdi.\")"
   ]
  },
  {
   "cell_type": "markdown",
   "id": "719eb3c7",
   "metadata": {},
   "source": [
    "HATA FIRLATMAK\n",
    "raise HataAdı(Opsiyonel hata mesajı)"
   ]
  },
  {
   "cell_type": "code",
   "execution_count": 10,
   "id": "c2a83a07",
   "metadata": {},
   "outputs": [],
   "source": [
    "def ters_cevir(s):\n",
    "    if type(s) != str:\n",
    "        raise ValueError(\"Lütfen string bir değer gönderin\")\n",
    "    else:\n",
    "        return s[::-1]"
   ]
  },
  {
   "cell_type": "code",
   "execution_count": 11,
   "id": "bd8dd367",
   "metadata": {},
   "outputs": [
    {
     "data": {
      "text/plain": [
       "'iknit'"
      ]
     },
     "execution_count": 11,
     "metadata": {},
     "output_type": "execute_result"
    }
   ],
   "source": [
    "ters_cevir(\"tinki\")"
   ]
  },
  {
   "cell_type": "code",
   "execution_count": 12,
   "id": "32f903a0",
   "metadata": {},
   "outputs": [
    {
     "ename": "ValueError",
     "evalue": "Lütfen string bir değer gönderin",
     "output_type": "error",
     "traceback": [
      "\u001b[1;31m---------------------------------------------------------------------------\u001b[0m",
      "\u001b[1;31mValueError\u001b[0m                                Traceback (most recent call last)",
      "\u001b[1;32m~\\AppData\\Local\\Temp/ipykernel_20960/2160234919.py\u001b[0m in \u001b[0;36m<module>\u001b[1;34m\u001b[0m\n\u001b[1;32m----> 1\u001b[1;33m \u001b[0mters_cevir\u001b[0m\u001b[1;33m(\u001b[0m\u001b[1;36m21\u001b[0m\u001b[1;33m)\u001b[0m\u001b[1;33m\u001b[0m\u001b[1;33m\u001b[0m\u001b[0m\n\u001b[0m",
      "\u001b[1;32m~\\AppData\\Local\\Temp/ipykernel_20960/2941319593.py\u001b[0m in \u001b[0;36mters_cevir\u001b[1;34m(s)\u001b[0m\n\u001b[0;32m      1\u001b[0m \u001b[1;32mdef\u001b[0m \u001b[0mters_cevir\u001b[0m\u001b[1;33m(\u001b[0m\u001b[0ms\u001b[0m\u001b[1;33m)\u001b[0m\u001b[1;33m:\u001b[0m\u001b[1;33m\u001b[0m\u001b[1;33m\u001b[0m\u001b[0m\n\u001b[0;32m      2\u001b[0m     \u001b[1;32mif\u001b[0m \u001b[0mtype\u001b[0m\u001b[1;33m(\u001b[0m\u001b[0ms\u001b[0m\u001b[1;33m)\u001b[0m \u001b[1;33m!=\u001b[0m \u001b[0mstr\u001b[0m\u001b[1;33m:\u001b[0m\u001b[1;33m\u001b[0m\u001b[1;33m\u001b[0m\u001b[0m\n\u001b[1;32m----> 3\u001b[1;33m         \u001b[1;32mraise\u001b[0m \u001b[0mValueError\u001b[0m\u001b[1;33m(\u001b[0m\u001b[1;34m\"Lütfen string bir değer gönderin\"\u001b[0m\u001b[1;33m)\u001b[0m\u001b[1;33m\u001b[0m\u001b[1;33m\u001b[0m\u001b[0m\n\u001b[0m\u001b[0;32m      4\u001b[0m     \u001b[1;32melse\u001b[0m\u001b[1;33m:\u001b[0m\u001b[1;33m\u001b[0m\u001b[1;33m\u001b[0m\u001b[0m\n\u001b[0;32m      5\u001b[0m         \u001b[1;32mreturn\u001b[0m \u001b[0ms\u001b[0m\u001b[1;33m[\u001b[0m\u001b[1;33m:\u001b[0m\u001b[1;33m:\u001b[0m\u001b[1;33m-\u001b[0m\u001b[1;36m1\u001b[0m\u001b[1;33m]\u001b[0m\u001b[1;33m\u001b[0m\u001b[1;33m\u001b[0m\u001b[0m\n",
      "\u001b[1;31mValueError\u001b[0m: Lütfen string bir değer gönderin"
     ]
    }
   ],
   "source": [
    "ters_cevir(21)"
   ]
  },
  {
   "cell_type": "markdown",
   "id": "2d3ed50a",
   "metadata": {},
   "source": [
    "\"\"\"HATA ÖZELLEŞTİRİLİYOR\"\"\""
   ]
  },
  {
   "cell_type": "code",
   "execution_count": 13,
   "id": "6422f6b2",
   "metadata": {},
   "outputs": [
    {
     "name": "stdout",
     "output_type": "stream",
     "text": [
      "Lütfen string bir değer giriniz\n"
     ]
    }
   ],
   "source": [
    "try:\n",
    "    print(ters_cevir(12))\n",
    "except ValueError:\n",
    "    print(\"Lütfen string bir değer giriniz\")"
   ]
  },
  {
   "cell_type": "code",
   "execution_count": null,
   "id": "826ba78b",
   "metadata": {},
   "outputs": [],
   "source": []
  }
 ],
 "metadata": {
  "kernelspec": {
   "display_name": "Python 3 (ipykernel)",
   "language": "python",
   "name": "python3"
  },
  "language_info": {
   "codemirror_mode": {
    "name": "ipython",
    "version": 3
   },
   "file_extension": ".py",
   "mimetype": "text/x-python",
   "name": "python",
   "nbconvert_exporter": "python",
   "pygments_lexer": "ipython3",
   "version": "3.9.7"
  }
 },
 "nbformat": 4,
 "nbformat_minor": 5
}
