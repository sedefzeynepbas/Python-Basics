{
 "cells": [
  {
   "cell_type": "markdown",
   "id": "8918628b",
   "metadata": {},
   "source": [
    "dosyaları okumak ve veri almak için r kipiyle almamız gerekiyor. eğer dosya yoksa \"FileNotFoundError\" verir"
   ]
  },
  {
   "cell_type": "code",
   "execution_count": 3,
   "id": "11e81ff5",
   "metadata": {},
   "outputs": [],
   "source": [
    "file1 = open(\"bilgiler.txt\", \"r\")"
   ]
  },
  {
   "cell_type": "code",
   "execution_count": 4,
   "id": "288192c5",
   "metadata": {},
   "outputs": [],
   "source": [
    "file1.close()"
   ]
  },
  {
   "cell_type": "code",
   "execution_count": 5,
   "id": "505e9b9c",
   "metadata": {},
   "outputs": [
    {
     "ename": "FileNotFoundError",
     "evalue": "[Errno 2] No such file or directory: 'bilgiler2.txt'",
     "output_type": "error",
     "traceback": [
      "\u001b[1;31m---------------------------------------------------------------------------\u001b[0m",
      "\u001b[1;31mFileNotFoundError\u001b[0m                         Traceback (most recent call last)",
      "\u001b[1;32m~\\AppData\\Local\\Temp/ipykernel_24428/2324258187.py\u001b[0m in \u001b[0;36m<module>\u001b[1;34m\u001b[0m\n\u001b[1;32m----> 1\u001b[1;33m \u001b[0mfile\u001b[0m \u001b[1;33m=\u001b[0m \u001b[0mopen\u001b[0m\u001b[1;33m(\u001b[0m\u001b[1;34m\"bilgiler2.txt\"\u001b[0m\u001b[1;33m,\u001b[0m \u001b[1;34m\"r\"\u001b[0m\u001b[1;33m)\u001b[0m\u001b[1;33m\u001b[0m\u001b[1;33m\u001b[0m\u001b[0m\n\u001b[0m",
      "\u001b[1;31mFileNotFoundError\u001b[0m: [Errno 2] No such file or directory: 'bilgiler2.txt'"
     ]
    }
   ],
   "source": [
    "file = open(\"bilgiler2.txt\", \"r\")"
   ]
  },
  {
   "cell_type": "code",
   "execution_count": 6,
   "id": "c7246961",
   "metadata": {},
   "outputs": [
    {
     "name": "stdout",
     "output_type": "stream",
     "text": [
      "Dosya bulunamadı\n"
     ]
    }
   ],
   "source": [
    "try:\n",
    "    file = open(\"bilgiler2.txt\", \"r\")\n",
    "except FileNotFoundError:\n",
    "    print(\"Dosya bulunamadı\")\n",
    "    "
   ]
  },
  {
   "cell_type": "markdown",
   "id": "887ddfa5",
   "metadata": {},
   "source": [
    "FOR DÖNGÜSÜ İLE OKUMA"
   ]
  },
  {
   "cell_type": "code",
   "execution_count": 13,
   "id": "e75ee98d",
   "metadata": {},
   "outputs": [
    {
     "name": "stdout",
     "output_type": "stream",
     "text": [
      "Tinki vinki\n",
      "\n",
      "Beybi\n",
      "\n",
      "Loyal\n",
      "\n",
      "Dipsi\n",
      "\n",
      "Lala\n",
      "\n",
      "Po\n",
      "\n"
     ]
    }
   ],
   "source": [
    "file = open(\"C:/Users/BSS5BU/Desktop/bilgiler.txt\", \"r\", encoding = \"utf-8\")\n",
    "\n",
    "for i in file:\n",
    "    print(i)\n",
    "file.close()"
   ]
  },
  {
   "cell_type": "code",
   "execution_count": 14,
   "id": "c7607d50",
   "metadata": {},
   "outputs": [
    {
     "name": "stdout",
     "output_type": "stream",
     "text": [
      "Tinki vinki\n",
      "Beybi\n",
      "Loyal\n",
      "Dipsi\n",
      "Lala\n",
      "Po\n"
     ]
    }
   ],
   "source": [
    "file = open(\"C:/Users/BSS5BU/Desktop/bilgiler.txt\", \"r\", encoding = \"utf-8\")\n",
    "\n",
    "for i in file:\n",
    "    print(i, end = \"\")\n",
    "file.close()"
   ]
  },
  {
   "cell_type": "markdown",
   "id": "b55c68a6",
   "metadata": {},
   "source": [
    "read() fonksiyonu"
   ]
  },
  {
   "cell_type": "code",
   "execution_count": 21,
   "id": "d0bad7c3",
   "metadata": {},
   "outputs": [
    {
     "name": "stdout",
     "output_type": "stream",
     "text": [
      "Dosyanın içeriği:\n",
      "Tinki vinki\n",
      "Beybi\n",
      "Loyal\n",
      "Dipsi\n",
      "Lala\n",
      "Po\n",
      "\n",
      "Dosyanın içeriği 2:\n",
      "\n"
     ]
    }
   ],
   "source": [
    "file = open(\"C:/Users/BSS5BU/Desktop/bilgiler.txt\", \"r\", encoding = \"utf-8\")\n",
    "icerik = file.read()\n",
    "print(\"Dosyanın içeriği:\")\n",
    "print(icerik)\n",
    "icerik2 = file.read()\n",
    "print(\"Dosyanın içeriği 2:\")\n",
    "print(icerik2) # Dosyada imleç sona gitti o yüzden iki gözükmüyor"
   ]
  },
  {
   "cell_type": "code",
   "execution_count": 26,
   "id": "bdfbec8c",
   "metadata": {},
   "outputs": [
    {
     "name": "stdout",
     "output_type": "stream",
     "text": [
      "Tinki vinki\n",
      "\n",
      "Beybi\n",
      "\n",
      "Loyal\n",
      "\n",
      "Dipsi\n",
      "\n",
      "Lala\n",
      "\n",
      "Po\n",
      "\n",
      "--------------------\n",
      "\n",
      "\n"
     ]
    }
   ],
   "source": [
    "file = open(\"C:/Users/BSS5BU/Desktop/bilgiler.txt\", \"r\", encoding = \"utf-8\")\n",
    "print(file.readline())\n",
    "print(file.readline())\n",
    "print(file.readline())\n",
    "print(file.readline())\n",
    "print(file.readline())\n",
    "print(file.readline())\n",
    "print(\"--------------------\")\n",
    "print(file.readline())\n",
    "print(file.readline())\n",
    "file.close()"
   ]
  },
  {
   "cell_type": "code",
   "execution_count": 27,
   "id": "da871e12",
   "metadata": {},
   "outputs": [
    {
     "name": "stdout",
     "output_type": "stream",
     "text": [
      "['Tinki vinki\\n', 'Beybi\\n', 'Loyal\\n', 'Dipsi\\n', 'Lala\\n', 'Po\\n']\n"
     ]
    }
   ],
   "source": [
    "file = open(\"C:/Users/BSS5BU/Desktop/bilgiler.txt\", \"r\", encoding = \"utf-8\")\n",
    "\n",
    "liste = file.readlines()\n",
    "print(liste)\n",
    "file.close()"
   ]
  },
  {
   "cell_type": "code",
   "execution_count": null,
   "id": "cf45a3b8",
   "metadata": {},
   "outputs": [],
   "source": []
  }
 ],
 "metadata": {
  "kernelspec": {
   "display_name": "Python 3 (ipykernel)",
   "language": "python",
   "name": "python3"
  },
  "language_info": {
   "codemirror_mode": {
    "name": "ipython",
    "version": 3
   },
   "file_extension": ".py",
   "mimetype": "text/x-python",
   "name": "python",
   "nbconvert_exporter": "python",
   "pygments_lexer": "ipython3",
   "version": "3.9.7"
  }
 },
 "nbformat": 4,
 "nbformat_minor": 5
}
