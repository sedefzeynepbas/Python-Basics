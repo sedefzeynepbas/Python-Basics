{
 "cells": [
  {
   "cell_type": "markdown",
   "id": "a5fa3345",
   "metadata": {},
   "source": [
    "break:"
   ]
  },
  {
   "cell_type": "markdown",
   "id": "3ffac940",
   "metadata": {},
   "source": [
    "içinde olduğu bir döngüyü sonlandırır"
   ]
  },
  {
   "cell_type": "code",
   "execution_count": 3,
   "id": "b8f5d6a7",
   "metadata": {},
   "outputs": [
    {
     "name": "stdout",
     "output_type": "stream",
     "text": [
      "i:  0\n",
      "i:  1\n",
      "i:  2\n",
      "i:  3\n",
      "i:  4\n"
     ]
    }
   ],
   "source": [
    "i=0\n",
    "while i<10:\n",
    "    if(i==5):\n",
    "        break\n",
    "    print(\"i: \", i)\n",
    "    i+=1"
   ]
  },
  {
   "cell_type": "code",
   "execution_count": 5,
   "id": "c737f75a",
   "metadata": {},
   "outputs": [
    {
     "name": "stdout",
     "output_type": "stream",
     "text": [
      "i:  1\n",
      "i:  2\n"
     ]
    }
   ],
   "source": [
    "for i in range(1,6):\n",
    "    if i==3:\n",
    "        break\n",
    "    print(\"i: \", i)"
   ]
  },
  {
   "cell_type": "code",
   "execution_count": 6,
   "id": "38ee22ca",
   "metadata": {},
   "outputs": [
    {
     "name": "stdout",
     "output_type": "stream",
     "text": [
      "i:  1\n",
      "i:  2\n"
     ]
    }
   ],
   "source": [
    "liste = [1,2,3,4,5]\n",
    "for i in liste:\n",
    "    if i==3:\n",
    "        break\n",
    "    print(\"i: \", i)"
   ]
  },
  {
   "cell_type": "code",
   "execution_count": 3,
   "id": "463abf77",
   "metadata": {},
   "outputs": [
    {
     "name": "stdout",
     "output_type": "stream",
     "text": [
      "İsim(Çıkmak için 'q' ya basın): gjk\n",
      "İsminiz:  gjk\n",
      "İsim(Çıkmak için 'q' ya basın): ykgvv\n",
      "İsminiz:  ykgvv\n",
      "İsim(Çıkmak için 'q' ya basın): qwertyuıo\n",
      "İsminiz:  qwertyuıo\n",
      "İsim(Çıkmak için 'q' ya basın): kjew\n",
      "İsminiz:  kjew\n",
      "İsim(Çıkmak için 'q' ya basın): q\n",
      "Programdan çıkılıyor...\n"
     ]
    }
   ],
   "source": [
    "while True:\n",
    "    isim = input(\"İsim(Çıkmak için 'q' ya basın): \")\n",
    "    if isim==\"q\":\n",
    "        print(\"Programdan çıkılıyor...\")\n",
    "        break\n",
    "    else:\n",
    "        print(\"İsminiz: \", isim)"
   ]
  },
  {
   "cell_type": "markdown",
   "id": "31c6f220",
   "metadata": {},
   "source": [
    "while true break yoksa döngü sonsuza dek sürecek demek. break'e basınca sonlanıcak demek."
   ]
  },
  {
   "cell_type": "code",
   "execution_count": 1,
   "id": "96e8de29",
   "metadata": {},
   "outputs": [
    {
     "name": "stdout",
     "output_type": "stream",
     "text": [
      "[0, 1, 2, 3, 4, 5, 6, 7, 8, 9, 10]\n"
     ]
    }
   ],
   "source": [
    "liste = list(range(11))\n",
    "print(liste)"
   ]
  },
  {
   "cell_type": "code",
   "execution_count": 2,
   "id": "4ce10c00",
   "metadata": {},
   "outputs": [
    {
     "name": "stdout",
     "output_type": "stream",
     "text": [
      "i:  0\n",
      "i:  1\n",
      "i:  2\n",
      "i:  3\n",
      "i:  4\n",
      "i:  5\n",
      "i:  6\n",
      "i:  7\n",
      "i:  8\n",
      "i:  9\n",
      "i:  10\n"
     ]
    }
   ],
   "source": [
    "for i in liste:\n",
    "    print(\"i: \", i)"
   ]
  },
  {
   "cell_type": "code",
   "execution_count": 4,
   "id": "205cbf9c",
   "metadata": {},
   "outputs": [
    {
     "name": "stdout",
     "output_type": "stream",
     "text": [
      "i:  0\n",
      "i:  1\n",
      "i:  2\n",
      "i:  4\n",
      "i:  6\n",
      "i:  7\n",
      "i:  8\n",
      "i:  9\n",
      "i:  10\n"
     ]
    }
   ],
   "source": [
    "for i in liste:\n",
    "    if (i==3 or i==5):\n",
    "        continue\n",
    "    print(\"i: \" , i)"
   ]
  },
  {
   "cell_type": "markdown",
   "id": "28af45ee",
   "metadata": {},
   "source": [
    "döngünün başına gidiyor koşul sağlandığında"
   ]
  },
  {
   "cell_type": "code",
   "execution_count": 5,
   "id": "bc678075",
   "metadata": {},
   "outputs": [
    {
     "name": "stdout",
     "output_type": "stream",
     "text": [
      "h\n"
     ]
    }
   ],
   "source": [
    "print(\"h\")"
   ]
  },
  {
   "cell_type": "code",
   "execution_count": null,
   "id": "224da87a",
   "metadata": {},
   "outputs": [],
   "source": []
  }
 ],
 "metadata": {
  "kernelspec": {
   "display_name": "Python 3 (ipykernel)",
   "language": "python",
   "name": "python3"
  },
  "language_info": {
   "codemirror_mode": {
    "name": "ipython",
    "version": 3
   },
   "file_extension": ".py",
   "mimetype": "text/x-python",
   "name": "python",
   "nbconvert_exporter": "python",
   "pygments_lexer": "ipython3",
   "version": "3.9.7"
  }
 },
 "nbformat": 4,
 "nbformat_minor": 5
}
