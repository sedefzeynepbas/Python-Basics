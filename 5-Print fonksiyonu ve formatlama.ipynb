{
 "cells": [
  {
   "cell_type": "code",
   "execution_count": 1,
   "id": "fa7a3195",
   "metadata": {},
   "outputs": [
    {
     "name": "stdout",
     "output_type": "stream",
     "text": [
      "35\n"
     ]
    }
   ],
   "source": [
    "print(35)"
   ]
  },
  {
   "cell_type": "code",
   "execution_count": 2,
   "id": "3c467ce9",
   "metadata": {},
   "outputs": [
    {
     "data": {
      "text/plain": [
       "35"
      ]
     },
     "execution_count": 2,
     "metadata": {},
     "output_type": "execute_result"
    }
   ],
   "source": [
    "35"
   ]
  },
  {
   "cell_type": "markdown",
   "id": "1d2fb75b",
   "metadata": {},
   "source": [
    "Neden print'e ihtiyaç var?"
   ]
  },
  {
   "cell_type": "markdown",
   "id": "383894df",
   "metadata": {},
   "source": [
    "Dosya'da yazı yazdırmak için print gerekli"
   ]
  },
  {
   "cell_type": "code",
   "execution_count": 3,
   "id": "983d3fd3",
   "metadata": {},
   "outputs": [
    {
     "name": "stdout",
     "output_type": "stream",
     "text": [
      "35\n"
     ]
    }
   ],
   "source": [
    "print(35)"
   ]
  },
  {
   "cell_type": "code",
   "execution_count": 4,
   "id": "1858ac89",
   "metadata": {},
   "outputs": [
    {
     "name": "stdout",
     "output_type": "stream",
     "text": [
      "3.14\n"
     ]
    }
   ],
   "source": [
    "print(3.14)"
   ]
  },
  {
   "cell_type": "code",
   "execution_count": 6,
   "id": "0764705a",
   "metadata": {},
   "outputs": [
    {
     "name": "stdout",
     "output_type": "stream",
     "text": [
      "tinki\n"
     ]
    }
   ],
   "source": [
    "print(\"tinki\")"
   ]
  },
  {
   "cell_type": "code",
   "execution_count": 7,
   "id": "0b5fd6f0",
   "metadata": {},
   "outputs": [
    {
     "data": {
      "text/plain": [
       "'tinki'"
      ]
     },
     "execution_count": 7,
     "metadata": {},
     "output_type": "execute_result"
    }
   ],
   "source": [
    "\"tinki\""
   ]
  },
  {
   "cell_type": "code",
   "execution_count": 8,
   "id": "9fe32dd2",
   "metadata": {},
   "outputs": [
    {
     "name": "stdout",
     "output_type": "stream",
     "text": [
      "19\n"
     ]
    }
   ],
   "source": [
    "a = 4\n",
    "b = 15\n",
    "print(a + b)"
   ]
  },
  {
   "cell_type": "code",
   "execution_count": 9,
   "id": "123aa9f6",
   "metadata": {},
   "outputs": [
    {
     "name": "stdout",
     "output_type": "stream",
     "text": [
      "35 45 4.54\n"
     ]
    }
   ],
   "source": [
    "print(35, 45, 4.54)"
   ]
  },
  {
   "cell_type": "code",
   "execution_count": 10,
   "id": "0d9d658f",
   "metadata": {},
   "outputs": [
    {
     "name": "stdout",
     "output_type": "stream",
     "text": [
      "tinki, vinki\n"
     ]
    }
   ],
   "source": [
    "print(\"tinki, vinki\")"
   ]
  },
  {
   "cell_type": "code",
   "execution_count": 11,
   "id": "f8794e96",
   "metadata": {},
   "outputs": [
    {
     "name": "stdout",
     "output_type": "stream",
     "text": [
      "tinki vinki\n"
     ]
    }
   ],
   "source": [
    "print(\"tinki\", \"vinki\")"
   ]
  },
  {
   "cell_type": "code",
   "execution_count": 12,
   "id": "4011f3f0",
   "metadata": {},
   "outputs": [
    {
     "name": "stdout",
     "output_type": "stream",
     "text": [
      "Merhaba\n",
      "Python\n",
      "Slm\n"
     ]
    }
   ],
   "source": [
    "print(\"Merhaba\\nPython\\nSlm\")"
   ]
  },
  {
   "cell_type": "markdown",
   "id": "7d4587e5",
   "metadata": {},
   "source": [
    "-----------\\n---------------"
   ]
  },
  {
   "cell_type": "code",
   "execution_count": 13,
   "id": "21ff4e46",
   "metadata": {},
   "outputs": [
    {
     "name": "stdout",
     "output_type": "stream",
     "text": [
      "Merhaba            Loyal\n"
     ]
    }
   ],
   "source": [
    "print(\"Merhaba            Loyal\")"
   ]
  },
  {
   "cell_type": "code",
   "execution_count": 21,
   "id": "9c8ae246",
   "metadata": {},
   "outputs": [
    {
     "name": "stdout",
     "output_type": "stream",
     "text": [
      "merhaba\tloyal\tbby\ttw\n"
     ]
    }
   ],
   "source": [
    "print(\"merhaba\\tloyal\\tbby\\ttw\")"
   ]
  },
  {
   "cell_type": "code",
   "execution_count": 22,
   "id": "b7527d94",
   "metadata": {},
   "outputs": [
    {
     "name": "stdout",
     "output_type": "stream",
     "text": [
      "sss\tddd\tfff\n"
     ]
    }
   ],
   "source": [
    "print(\"sss\\tddd\\tfff\")"
   ]
  },
  {
   "cell_type": "code",
   "execution_count": 23,
   "id": "2109120b",
   "metadata": {},
   "outputs": [
    {
     "name": "stdout",
     "output_type": "stream",
     "text": [
      "merhaba\tloyal\tbby\ttw\n"
     ]
    }
   ],
   "source": [
    "print(\"merhaba\\tloyal\\tbby\\ttw\")"
   ]
  },
  {
   "cell_type": "code",
   "execution_count": 24,
   "id": "c45f5a19",
   "metadata": {},
   "outputs": [
    {
     "name": "stdout",
     "output_type": "stream",
     "text": [
      "hello\tloyal\tbby\ttw\n"
     ]
    }
   ],
   "source": [
    "print(\"hello\\tloyal\\tbby\\ttw\")"
   ]
  },
  {
   "cell_type": "markdown",
   "id": "a95f6be2",
   "metadata": {},
   "source": [
    "type fonksiyonu"
   ]
  },
  {
   "cell_type": "code",
   "execution_count": 25,
   "id": "0e70dac3",
   "metadata": {},
   "outputs": [
    {
     "data": {
      "text/plain": [
       "float"
      ]
     },
     "execution_count": 25,
     "metadata": {},
     "output_type": "execute_result"
    }
   ],
   "source": [
    "type(3.14)"
   ]
  },
  {
   "cell_type": "code",
   "execution_count": 26,
   "id": "4e5873e7",
   "metadata": {},
   "outputs": [
    {
     "data": {
      "text/plain": [
       "int"
      ]
     },
     "execution_count": 26,
     "metadata": {},
     "output_type": "execute_result"
    }
   ],
   "source": [
    "type(3)"
   ]
  },
  {
   "cell_type": "code",
   "execution_count": 27,
   "id": "e5290282",
   "metadata": {},
   "outputs": [
    {
     "data": {
      "text/plain": [
       "str"
      ]
     },
     "execution_count": 27,
     "metadata": {},
     "output_type": "execute_result"
    }
   ],
   "source": [
    "type(\"dfghjj\")"
   ]
  },
  {
   "cell_type": "code",
   "execution_count": 28,
   "id": "606a7e89",
   "metadata": {},
   "outputs": [
    {
     "name": "stdout",
     "output_type": "stream",
     "text": [
      "35 43 54 65\n"
     ]
    }
   ],
   "source": [
    "print(35,43,54,65)"
   ]
  },
  {
   "cell_type": "code",
   "execution_count": 29,
   "id": "91d074f6",
   "metadata": {},
   "outputs": [
    {
     "name": "stdout",
     "output_type": "stream",
     "text": [
      "35/43/54/65\n"
     ]
    }
   ],
   "source": [
    "print(35,43,54,65, sep =\"/\")"
   ]
  },
  {
   "cell_type": "code",
   "execution_count": 30,
   "id": "169a079e",
   "metadata": {},
   "outputs": [
    {
     "name": "stdout",
     "output_type": "stream",
     "text": [
      "35_43_54_65\n"
     ]
    }
   ],
   "source": [
    "print(35,43,54,65, sep =\"_\")"
   ]
  },
  {
   "cell_type": "code",
   "execution_count": 31,
   "id": "1b3c0b94",
   "metadata": {},
   "outputs": [
    {
     "name": "stdout",
     "output_type": "stream",
     "text": [
      "35\n",
      "43\n",
      "54\n",
      "65\n"
     ]
    }
   ],
   "source": [
    "print(35,43,54,65, sep = \"\\n\")"
   ]
  },
  {
   "cell_type": "code",
   "execution_count": 33,
   "id": "43beb94f",
   "metadata": {},
   "outputs": [
    {
     "name": "stdout",
     "output_type": "stream",
     "text": [
      "06/04/2014\n"
     ]
    }
   ],
   "source": [
    "print(\"06\", \"04\", 2014, sep=\"/\")"
   ]
  },
  {
   "cell_type": "code",
   "execution_count": 34,
   "id": "b335e536",
   "metadata": {},
   "outputs": [
    {
     "name": "stdout",
     "output_type": "stream",
     "text": [
      "Python\n"
     ]
    }
   ],
   "source": [
    "print(\"Python\")"
   ]
  },
  {
   "cell_type": "code",
   "execution_count": 35,
   "id": "473fbe86",
   "metadata": {},
   "outputs": [
    {
     "name": "stdout",
     "output_type": "stream",
     "text": [
      "P y t h o n\n"
     ]
    }
   ],
   "source": [
    "print(*\"Python\")"
   ]
  },
  {
   "cell_type": "markdown",
   "id": "598db186",
   "metadata": {},
   "source": [
    "-------------- * ----------------"
   ]
  },
  {
   "cell_type": "code",
   "execution_count": 37,
   "id": "45ab44ce",
   "metadata": {},
   "outputs": [
    {
     "name": "stdout",
     "output_type": "stream",
     "text": [
      "T.B.M.M\n"
     ]
    }
   ],
   "source": [
    "print(*\"TBMM\", sep =\".\")"
   ]
  },
  {
   "cell_type": "code",
   "execution_count": 38,
   "id": "8011f76c",
   "metadata": {},
   "outputs": [
    {
     "name": "stdout",
     "output_type": "stream",
     "text": [
      "1 + 7'nin toplamı 8'dir\n"
     ]
    }
   ],
   "source": [
    "a = 1\n",
    "b = 7\n",
    "print(\"{} + {}'nin toplamı {}'dir\".format(a,b,a+b))"
   ]
  },
  {
   "cell_type": "markdown",
   "id": "a7487378",
   "metadata": {},
   "source": [
    "Format fonksiyonu"
   ]
  },
  {
   "cell_type": "code",
   "execution_count": 43,
   "id": "30d31c92",
   "metadata": {},
   "outputs": [
    {
     "data": {
      "text/plain": [
       "'f c b e a d'"
      ]
     },
     "execution_count": 43,
     "metadata": {},
     "output_type": "execute_result"
    }
   ],
   "source": [
    "\"{5} {2} {1} {4} {0} {3}\".format(\"a\",\"b\",\"c\",\"d\",\"e\",\"f\")"
   ]
  },
  {
   "cell_type": "code",
   "execution_count": 44,
   "id": "ebbbc53f",
   "metadata": {},
   "outputs": [
    {
     "data": {
      "text/plain": [
       "'3.12 5.65 9.543'"
      ]
     },
     "execution_count": 44,
     "metadata": {},
     "output_type": "execute_result"
    }
   ],
   "source": [
    "\"{:.2f} {:.2f} {:.3f}\".format(3.1234,5.65432,9.5432)"
   ]
  },
  {
   "cell_type": "markdown",
   "id": "1c8c95fa",
   "metadata": {},
   "source": [
    "Format fonksiyonunun özellikleri için https://pyformat.info/"
   ]
  },
  {
   "cell_type": "code",
   "execution_count": 45,
   "id": "0549c77d",
   "metadata": {},
   "outputs": [
    {
     "data": {
      "text/plain": [
       "'fff ccc bbb eee aaa ddd'"
      ]
     },
     "execution_count": 45,
     "metadata": {},
     "output_type": "execute_result"
    }
   ],
   "source": [
    "a = \"aaa\"\n",
    "b = \"bbb\"\n",
    "c = \"ccc\"\n",
    "d = \"ddd\"\n",
    "e = \"eee\"\n",
    "f = \"fff\"\n",
    "\"{5} {2} {1} {4} {0} {3}\".format(a,b,c,d,e,f)"
   ]
  },
  {
   "cell_type": "code",
   "execution_count": null,
   "id": "9a18e0b4",
   "metadata": {},
   "outputs": [],
   "source": []
  }
 ],
 "metadata": {
  "kernelspec": {
   "display_name": "Python 3 (ipykernel)",
   "language": "python",
   "name": "python3"
  },
  "language_info": {
   "codemirror_mode": {
    "name": "ipython",
    "version": 3
   },
   "file_extension": ".py",
   "mimetype": "text/x-python",
   "name": "python",
   "nbconvert_exporter": "python",
   "pygments_lexer": "ipython3",
   "version": "3.9.7"
  }
 },
 "nbformat": 4,
 "nbformat_minor": 5
}
