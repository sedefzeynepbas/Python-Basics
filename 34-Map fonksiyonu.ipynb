{
 "cells": [
  {
   "cell_type": "markdown",
   "id": "68f90ae1",
   "metadata": {},
   "source": [
    "map(fonksiyon, liste vb)"
   ]
  },
  {
   "cell_type": "code",
   "execution_count": null,
   "id": "f3924042",
   "metadata": {},
   "outputs": [],
   "source": [
    "def double(x):\n",
    "    return x*2"
   ]
  },
  {
   "cell_type": "code",
   "execution_count": 7,
   "id": "5d0814f0",
   "metadata": {},
   "outputs": [],
   "source": [
    "b = list(map(double, [1,2,3,4,5,6,7]))"
   ]
  },
  {
   "cell_type": "code",
   "execution_count": 8,
   "id": "4fb3508e",
   "metadata": {},
   "outputs": [
    {
     "name": "stdout",
     "output_type": "stream",
     "text": [
      "[2, 4, 6, 8, 10, 12, 14]\n"
     ]
    }
   ],
   "source": [
    "print(b)"
   ]
  },
  {
   "cell_type": "code",
   "execution_count": 9,
   "id": "bba5e44f",
   "metadata": {},
   "outputs": [
    {
     "data": {
      "text/plain": [
       "[1, 4, 9, 16, 25, 36, 49, 64, 81, 100]"
      ]
     },
     "execution_count": 9,
     "metadata": {},
     "output_type": "execute_result"
    }
   ],
   "source": [
    "list(map(lambda x : x**2, (1,2,3,4,5,6,7,8,9,10)))"
   ]
  },
  {
   "cell_type": "code",
   "execution_count": 10,
   "id": "45b304b6",
   "metadata": {},
   "outputs": [],
   "source": [
    "liste1 = [1,2,3,4,455]\n",
    "liste2 = [4,62,5,67,8]\n",
    "liste3 = [6,5,6,5,3,2,89,0]"
   ]
  },
  {
   "cell_type": "code",
   "execution_count": 11,
   "id": "7eb223e8",
   "metadata": {},
   "outputs": [
    {
     "data": {
      "text/plain": [
       "[4, 124, 15, 268, 3640]"
      ]
     },
     "execution_count": 11,
     "metadata": {},
     "output_type": "execute_result"
    }
   ],
   "source": [
    "list(map(lambda x,y : x*y, liste1,liste2))"
   ]
  },
  {
   "cell_type": "code",
   "execution_count": 12,
   "id": "01329857",
   "metadata": {},
   "outputs": [
    {
     "data": {
      "text/plain": [
       "[24, 620, 90, 1340, 10920]"
      ]
     },
     "execution_count": 12,
     "metadata": {},
     "output_type": "execute_result"
    }
   ],
   "source": [
    "list(map(lambda x,y,z : x*y*z, liste1,liste2,liste3))"
   ]
  },
  {
   "cell_type": "code",
   "execution_count": null,
   "id": "74accbdb",
   "metadata": {},
   "outputs": [],
   "source": []
  }
 ],
 "metadata": {
  "kernelspec": {
   "display_name": "Python 3 (ipykernel)",
   "language": "python",
   "name": "python3"
  },
  "language_info": {
   "codemirror_mode": {
    "name": "ipython",
    "version": 3
   },
   "file_extension": ".py",
   "mimetype": "text/x-python",
   "name": "python",
   "nbconvert_exporter": "python",
   "pygments_lexer": "ipython3",
   "version": "3.9.7"
  }
 },
 "nbformat": 4,
 "nbformat_minor": 5
}
