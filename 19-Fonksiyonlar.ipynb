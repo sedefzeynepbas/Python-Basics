{
 "cells": [
  {
   "cell_type": "markdown",
   "id": "6cc28fca",
   "metadata": {},
   "source": [
    "built-in-functions: print(), type() vs"
   ]
  },
  {
   "cell_type": "markdown",
   "id": "bc81fc9a",
   "metadata": {},
   "source": [
    "def fonksiyon_adı(parametre1,parametre2...):\n",
    "    fonk bloğu\n",
    "    yapılacak işlemler\n",
    "    dönüş bloğu"
   ]
  },
  {
   "cell_type": "code",
   "execution_count": 1,
   "id": "e8d245ae",
   "metadata": {},
   "outputs": [
    {
     "ename": "NameError",
     "evalue": "name 'selamla' is not defined",
     "output_type": "error",
     "traceback": [
      "\u001b[1;31m---------------------------------------------------------------------------\u001b[0m",
      "\u001b[1;31mNameError\u001b[0m                                 Traceback (most recent call last)",
      "\u001b[1;32m~\\AppData\\Local\\Temp/ipykernel_16708/3555920602.py\u001b[0m in \u001b[0;36m<module>\u001b[1;34m\u001b[0m\n\u001b[1;32m----> 1\u001b[1;33m \u001b[0mtype\u001b[0m\u001b[1;33m(\u001b[0m\u001b[0mselamla\u001b[0m\u001b[1;33m)\u001b[0m\u001b[1;33m\u001b[0m\u001b[1;33m\u001b[0m\u001b[0m\n\u001b[0m",
      "\u001b[1;31mNameError\u001b[0m: name 'selamla' is not defined"
     ]
    }
   ],
   "source": [
    "type(selamla)"
   ]
  },
  {
   "cell_type": "code",
   "execution_count": 2,
   "id": "b1505092",
   "metadata": {},
   "outputs": [],
   "source": [
    "def greet():\n",
    "    print(\"Hi! \")\n",
    "    print(\"Hello! \")"
   ]
  },
  {
   "cell_type": "code",
   "execution_count": 3,
   "id": "1cb99b05",
   "metadata": {},
   "outputs": [
    {
     "data": {
      "text/plain": [
       "function"
      ]
     },
     "execution_count": 3,
     "metadata": {},
     "output_type": "execute_result"
    }
   ],
   "source": [
    "type(greet)"
   ]
  },
  {
   "cell_type": "code",
   "execution_count": 4,
   "id": "6a041222",
   "metadata": {},
   "outputs": [
    {
     "name": "stdout",
     "output_type": "stream",
     "text": [
      "Hi! \n",
      "Hello! \n"
     ]
    }
   ],
   "source": [
    "greet()"
   ]
  },
  {
   "cell_type": "code",
   "execution_count": 7,
   "id": "3f742f1e",
   "metadata": {},
   "outputs": [
    {
     "ename": "TypeError",
     "evalue": "greet() takes 0 positional arguments but 1 was given",
     "output_type": "error",
     "traceback": [
      "\u001b[1;31m---------------------------------------------------------------------------\u001b[0m",
      "\u001b[1;31mTypeError\u001b[0m                                 Traceback (most recent call last)",
      "\u001b[1;32m~\\AppData\\Local\\Temp/ipykernel_16708/2634586241.py\u001b[0m in \u001b[0;36m<module>\u001b[1;34m\u001b[0m\n\u001b[1;32m----> 1\u001b[1;33m \u001b[0mgreet\u001b[0m\u001b[1;33m(\u001b[0m\u001b[1;34m\"Python\"\u001b[0m\u001b[1;33m)\u001b[0m\u001b[1;33m\u001b[0m\u001b[1;33m\u001b[0m\u001b[0m\n\u001b[0m",
      "\u001b[1;31mTypeError\u001b[0m: greet() takes 0 positional arguments but 1 was given"
     ]
    }
   ],
   "source": [
    "greet(\"Python\")"
   ]
  },
  {
   "cell_type": "code",
   "execution_count": 6,
   "id": "b49a73c5",
   "metadata": {},
   "outputs": [
    {
     "name": "stdout",
     "output_type": "stream",
     "text": [
      "Hi! \n",
      "Hello! \n",
      "Hi! \n",
      "Hello! \n"
     ]
    }
   ],
   "source": [
    "greet()\n",
    "greet()"
   ]
  },
  {
   "cell_type": "markdown",
   "id": "d3e356de",
   "metadata": {},
   "source": [
    "PARAMETRELER VE ARGÜMANLAR"
   ]
  },
  {
   "cell_type": "code",
   "execution_count": 10,
   "id": "44341620",
   "metadata": {},
   "outputs": [],
   "source": [
    "def greet(isim):\n",
    "    print(\"İsminiz:\", isim)"
   ]
  },
  {
   "cell_type": "code",
   "execution_count": 11,
   "id": "54fd1930",
   "metadata": {},
   "outputs": [
    {
     "name": "stdout",
     "output_type": "stream",
     "text": [
      "İsminiz: tinki\n"
     ]
    }
   ],
   "source": [
    "greet(\"tinki\")"
   ]
  },
  {
   "cell_type": "code",
   "execution_count": 12,
   "id": "9b4139b4",
   "metadata": {},
   "outputs": [],
   "source": [
    "def topla(a, b, c):\n",
    "    print(\"Toplamları:\", a+b+c)"
   ]
  },
  {
   "cell_type": "code",
   "execution_count": 13,
   "id": "6f35c159",
   "metadata": {},
   "outputs": [
    {
     "name": "stdout",
     "output_type": "stream",
     "text": [
      "Toplamları: 12\n"
     ]
    }
   ],
   "source": [
    "topla(3,4,5)"
   ]
  },
  {
   "cell_type": "code",
   "execution_count": 14,
   "id": "778d5d34",
   "metadata": {},
   "outputs": [
    {
     "name": "stdout",
     "output_type": "stream",
     "text": [
      "Toplamları: 60\n"
     ]
    }
   ],
   "source": [
    "topla(10,20,30)"
   ]
  },
  {
   "cell_type": "code",
   "execution_count": 17,
   "id": "ee9845bf",
   "metadata": {},
   "outputs": [],
   "source": [
    "def faktoriyel(sayı):\n",
    "    f = 1\n",
    "    if (sayı == 0 or sayı == 1):\n",
    "        print(\"Faktoriyel:\", f)\n",
    "    else:\n",
    "        while sayı >= 1:\n",
    "            f *= sayı\n",
    "            sayı -= 1\n",
    "            \n",
    "        print(\"Faktoriyel:\", f)"
   ]
  },
  {
   "cell_type": "code",
   "execution_count": 23,
   "id": "2b8d4d18",
   "metadata": {},
   "outputs": [
    {
     "name": "stdout",
     "output_type": "stream",
     "text": [
      "Faktoriyel: 1\n"
     ]
    }
   ],
   "source": [
    "faktoriyel(0)"
   ]
  },
  {
   "cell_type": "code",
   "execution_count": 24,
   "id": "0f0b3746",
   "metadata": {},
   "outputs": [
    {
     "name": "stdout",
     "output_type": "stream",
     "text": [
      "Faktoriyel: 120\n"
     ]
    }
   ],
   "source": [
    "faktoriyel(5)"
   ]
  },
  {
   "cell_type": "code",
   "execution_count": 25,
   "id": "49703b3a",
   "metadata": {},
   "outputs": [
    {
     "name": "stdout",
     "output_type": "stream",
     "text": [
      "Faktoriyel: 3628800\n"
     ]
    }
   ],
   "source": [
    "faktoriyel(10)"
   ]
  },
  {
   "cell_type": "code",
   "execution_count": null,
   "id": "a4b2319a",
   "metadata": {},
   "outputs": [],
   "source": []
  }
 ],
 "metadata": {
  "kernelspec": {
   "display_name": "Python 3 (ipykernel)",
   "language": "python",
   "name": "python3"
  },
  "language_info": {
   "codemirror_mode": {
    "name": "ipython",
    "version": 3
   },
   "file_extension": ".py",
   "mimetype": "text/x-python",
   "name": "python",
   "nbconvert_exporter": "python",
   "pygments_lexer": "ipython3",
   "version": "3.9.7"
  }
 },
 "nbformat": 4,
 "nbformat_minor": 5
}
