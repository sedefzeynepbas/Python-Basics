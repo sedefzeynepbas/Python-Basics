{
 "cells": [
  {
   "cell_type": "code",
   "execution_count": 2,
   "id": "65ce2040",
   "metadata": {},
   "outputs": [
    {
     "data": {
      "text/plain": [
       "'PYTHON'"
      ]
     },
     "execution_count": 2,
     "metadata": {},
     "output_type": "execute_result"
    }
   ],
   "source": [
    "\"python\".upper()"
   ]
  },
  {
   "cell_type": "code",
   "execution_count": 3,
   "id": "a85d49c2",
   "metadata": {},
   "outputs": [
    {
     "data": {
      "text/plain": [
       "'python'"
      ]
     },
     "execution_count": 3,
     "metadata": {},
     "output_type": "execute_result"
    }
   ],
   "source": [
    "\"PYTHON\".lower()"
   ]
  },
  {
   "cell_type": "code",
   "execution_count": 4,
   "id": "5ef77356",
   "metadata": {},
   "outputs": [
    {
     "data": {
      "text/plain": [
       "'PYTHON'"
      ]
     },
     "execution_count": 4,
     "metadata": {},
     "output_type": "execute_result"
    }
   ],
   "source": [
    "\"PythON\".upper()"
   ]
  },
  {
   "cell_type": "code",
   "execution_count": 5,
   "id": "417fba10",
   "metadata": {},
   "outputs": [
    {
     "data": {
      "text/plain": [
       "'Tonko vonkononkolerden mosonoz?'"
      ]
     },
     "execution_count": 5,
     "metadata": {},
     "output_type": "execute_result"
    }
   ],
   "source": [
    "\"Tinki vinkininkilerden misiniz?\".replace(\"i\",\"o\")"
   ]
  },
  {
   "cell_type": "code",
   "execution_count": 8,
   "id": "cc1a4754",
   "metadata": {},
   "outputs": [],
   "source": [
    "b = \"Python Programlama Dili\".split(\" \")"
   ]
  },
  {
   "cell_type": "code",
   "execution_count": 9,
   "id": "42da291b",
   "metadata": {},
   "outputs": [
    {
     "data": {
      "text/plain": [
       "['PythonPython', 'ProgramlamaProgramlama', 'DiliDili']"
      ]
     },
     "execution_count": 9,
     "metadata": {},
     "output_type": "execute_result"
    }
   ],
   "source": [
    "list(map(lambda x : x*2, b))"
   ]
  },
  {
   "cell_type": "code",
   "execution_count": 10,
   "id": "f63309a7",
   "metadata": {},
   "outputs": [],
   "source": [
    "b = \"Python Programlama Dili\".replace(\" \",\"-\")"
   ]
  },
  {
   "cell_type": "code",
   "execution_count": 11,
   "id": "c38d6d57",
   "metadata": {},
   "outputs": [
    {
     "data": {
      "text/plain": [
       "'Python-Programlama-Dili'"
      ]
     },
     "execution_count": 11,
     "metadata": {},
     "output_type": "execute_result"
    }
   ],
   "source": [
    "b"
   ]
  },
  {
   "cell_type": "code",
   "execution_count": 12,
   "id": "15ad3303",
   "metadata": {},
   "outputs": [
    {
     "data": {
      "text/plain": [
       "'Skörtıl'"
      ]
     },
     "execution_count": 12,
     "metadata": {},
     "output_type": "execute_result"
    }
   ],
   "source": [
    "\"Skörıl\".replace(\"ıl\",\"tıl\")"
   ]
  },
  {
   "cell_type": "code",
   "execution_count": 22,
   "id": "6c443c69",
   "metadata": {},
   "outputs": [
    {
     "name": "stdout",
     "output_type": "stream",
     "text": [
      "Vihuuu!\n"
     ]
    }
   ],
   "source": [
    "liste = [\"Tinki\",\"Pinki\",\"Zinki\",\"Dinki\"]\n",
    "for i in liste:\n",
    "    if i.startswith(\"T\"):\n",
    "        print(\"Vihuuu!\")"
   ]
  },
  {
   "cell_type": "code",
   "execution_count": 20,
   "id": "6d34e53c",
   "metadata": {},
   "outputs": [
    {
     "name": "stdout",
     "output_type": "stream",
     "text": [
      "Bu da!\n",
      "Bu da!\n",
      "Bu da!\n",
      "Bu da!\n"
     ]
    }
   ],
   "source": [
    "for i in liste:\n",
    "    if i.endswith(\"i\"):\n",
    "        print(\"Bu da!\")"
   ]
  },
  {
   "cell_type": "code",
   "execution_count": 23,
   "id": "45d74de3",
   "metadata": {},
   "outputs": [
    {
     "data": {
      "text/plain": [
       "True"
      ]
     },
     "execution_count": 23,
     "metadata": {},
     "output_type": "execute_result"
    }
   ],
   "source": [
    "\"Python\".endswith(\"on\")"
   ]
  },
  {
   "cell_type": "code",
   "execution_count": 24,
   "id": "8f2fc9f2",
   "metadata": {},
   "outputs": [
    {
     "data": {
      "text/plain": [
       "False"
      ]
     },
     "execution_count": 24,
     "metadata": {},
     "output_type": "execute_result"
    }
   ],
   "source": [
    "\"Python\".startswith(\"on\")"
   ]
  },
  {
   "cell_type": "code",
   "execution_count": 25,
   "id": "6dbdb958",
   "metadata": {},
   "outputs": [],
   "source": [
    "b = \"Python Programlama Dili\".split(\" \")"
   ]
  },
  {
   "cell_type": "code",
   "execution_count": 26,
   "id": "c7f11b64",
   "metadata": {},
   "outputs": [
    {
     "data": {
      "text/plain": [
       "['Python', 'Programlama', 'Dili']"
      ]
     },
     "execution_count": 26,
     "metadata": {},
     "output_type": "execute_result"
    }
   ],
   "source": [
    "b"
   ]
  },
  {
   "cell_type": "code",
   "execution_count": 29,
   "id": "e3f33d7d",
   "metadata": {},
   "outputs": [],
   "source": [
    "liste2 = \"a-b-b-b-b-b-b\"\n",
    "liste3 = liste2.split(\"-\")"
   ]
  },
  {
   "cell_type": "code",
   "execution_count": 33,
   "id": "e65060d0",
   "metadata": {},
   "outputs": [
    {
     "name": "stdout",
     "output_type": "stream",
     "text": [
      "aa\n",
      "bb\n",
      "bc\n",
      "bd\n",
      "be\n",
      "bf\n"
     ]
    }
   ],
   "source": [
    "liste = \"a b c d e f\".split(\" \")\n",
    "for i,j in zip(liste3,liste):\n",
    "    print(i+j)"
   ]
  },
  {
   "cell_type": "code",
   "execution_count": 34,
   "id": "82b9657c",
   "metadata": {},
   "outputs": [
    {
     "data": {
      "text/plain": [
       "'python'"
      ]
     },
     "execution_count": 34,
     "metadata": {},
     "output_type": "execute_result"
    }
   ],
   "source": [
    "\"               python               \".strip() "
   ]
  },
  {
   "cell_type": "code",
   "execution_count": 35,
   "id": "9c8daf05",
   "metadata": {},
   "outputs": [
    {
     "data": {
      "text/plain": [
       "'python               '"
      ]
     },
     "execution_count": 35,
     "metadata": {},
     "output_type": "execute_result"
    }
   ],
   "source": [
    "\"               python               \".lstrip() "
   ]
  },
  {
   "cell_type": "code",
   "execution_count": 36,
   "id": "1a32a355",
   "metadata": {},
   "outputs": [
    {
     "data": {
      "text/plain": [
       "'               python'"
      ]
     },
     "execution_count": 36,
     "metadata": {},
     "output_type": "execute_result"
    }
   ],
   "source": [
    "\"               python               \".rstrip() "
   ]
  },
  {
   "cell_type": "code",
   "execution_count": 37,
   "id": "d7743912",
   "metadata": {},
   "outputs": [
    {
     "data": {
      "text/plain": [
       "'Python'"
      ]
     },
     "execution_count": 37,
     "metadata": {},
     "output_type": "execute_result"
    }
   ],
   "source": [
    "\">>>>>>>>>>>>>Python>>>>>>>>>>>>>\".strip(\">\")"
   ]
  },
  {
   "cell_type": "code",
   "execution_count": 42,
   "id": "3df9c6d5",
   "metadata": {},
   "outputs": [
    {
     "data": {
      "text/plain": [
       "'               python               '"
      ]
     },
     "execution_count": 42,
     "metadata": {},
     "output_type": "execute_result"
    }
   ],
   "source": [
    "\"               python               \".strip(\"p\") "
   ]
  },
  {
   "cell_type": "code",
   "execution_count": 43,
   "id": "03e65741",
   "metadata": {},
   "outputs": [],
   "source": [
    "liste = [\"21\",\"02\",\"2014\"]\n",
    "\n",
    "b = \"/\".join(liste)"
   ]
  },
  {
   "cell_type": "code",
   "execution_count": 44,
   "id": "6bfe62ec",
   "metadata": {},
   "outputs": [
    {
     "name": "stdout",
     "output_type": "stream",
     "text": [
      "21/02/2014\n"
     ]
    }
   ],
   "source": [
    "print(b)"
   ]
  },
  {
   "cell_type": "code",
   "execution_count": 45,
   "id": "51331b48",
   "metadata": {},
   "outputs": [
    {
     "data": {
      "text/plain": [
       "'T.B.M.M'"
      ]
     },
     "execution_count": 45,
     "metadata": {},
     "output_type": "execute_result"
    }
   ],
   "source": [
    "liste2 = (\"T\",\"B\",\"M\",\"M\")\n",
    "\".\".join(liste2)"
   ]
  },
  {
   "cell_type": "code",
   "execution_count": 46,
   "id": "483ca27b",
   "metadata": {},
   "outputs": [
    {
     "data": {
      "text/plain": [
       "3"
      ]
     },
     "execution_count": 46,
     "metadata": {},
     "output_type": "execute_result"
    }
   ],
   "source": [
    "\"Gelmeden yoğurt süt falan al\".count(\"a\")"
   ]
  },
  {
   "cell_type": "code",
   "execution_count": 48,
   "id": "828dfe27",
   "metadata": {},
   "outputs": [
    {
     "data": {
      "text/plain": [
       "4"
      ]
     },
     "execution_count": 48,
     "metadata": {},
     "output_type": "execute_result"
    }
   ],
   "source": [
    "\"Gelmeden yoğurt süt falan al\".count(\" \")"
   ]
  },
  {
   "cell_type": "code",
   "execution_count": 49,
   "id": "f17221f4",
   "metadata": {},
   "outputs": [
    {
     "data": {
      "text/plain": [
       "1"
      ]
     },
     "execution_count": 49,
     "metadata": {},
     "output_type": "execute_result"
    }
   ],
   "source": [
    "\"Gelmeden yoğurt süt falan al\".count(\"a\",-3)"
   ]
  },
  {
   "cell_type": "code",
   "execution_count": 50,
   "id": "8872fbfc",
   "metadata": {},
   "outputs": [
    {
     "data": {
      "text/plain": [
       "0"
      ]
     },
     "execution_count": 50,
     "metadata": {},
     "output_type": "execute_result"
    }
   ],
   "source": [
    "\"araba\".find(\"a\")"
   ]
  },
  {
   "cell_type": "markdown",
   "id": "73609dc4",
   "metadata": {},
   "source": [
    "find() baştan itibaren arar ve ilk buldğu indeksi döndürür rfind ise tersten arar ilk buulduğunu yazar bulamazsa -1 döndürür"
   ]
  },
  {
   "cell_type": "code",
   "execution_count": 51,
   "id": "a9ae633f",
   "metadata": {},
   "outputs": [
    {
     "data": {
      "text/plain": [
       "4"
      ]
     },
     "execution_count": 51,
     "metadata": {},
     "output_type": "execute_result"
    }
   ],
   "source": [
    "\"araba\".rfind(\"a\")"
   ]
  },
  {
   "cell_type": "code",
   "execution_count": 52,
   "id": "86ba8f58",
   "metadata": {},
   "outputs": [
    {
     "data": {
      "text/plain": [
       "-1"
      ]
     },
     "execution_count": 52,
     "metadata": {},
     "output_type": "execute_result"
    }
   ],
   "source": [
    "\"araba\".find(\"s\")"
   ]
  },
  {
   "cell_type": "code",
   "execution_count": null,
   "id": "0c8e969c",
   "metadata": {},
   "outputs": [],
   "source": []
  }
 ],
 "metadata": {
  "kernelspec": {
   "display_name": "Python 3 (ipykernel)",
   "language": "python",
   "name": "python3"
  },
  "language_info": {
   "codemirror_mode": {
    "name": "ipython",
    "version": 3
   },
   "file_extension": ".py",
   "mimetype": "text/x-python",
   "name": "python",
   "nbconvert_exporter": "python",
   "pygments_lexer": "ipython3",
   "version": "3.9.7"
  }
 },
 "nbformat": 4,
 "nbformat_minor": 5
}
