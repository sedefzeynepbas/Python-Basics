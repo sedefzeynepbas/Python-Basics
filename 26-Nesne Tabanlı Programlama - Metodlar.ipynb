{
 "cells": [
  {
   "cell_type": "code",
   "execution_count": 13,
   "id": "7c80ee21",
   "metadata": {},
   "outputs": [],
   "source": [
    "class Yazilimci():\n",
    "    def __init__(self,isim,soyisim,numara,maas,diller):\n",
    "        self.isim = isim\n",
    "        self.soyisim = soyisim\n",
    "        self.numara = numara\n",
    "        self.maas = maas\n",
    "        self.diller = diller\n",
    "    def bilgilerigöster(self):\n",
    "        print(\"\"\"\n",
    "        Yazılımcı objesinin özellikleri\n",
    "        \n",
    "        İsim: {}\n",
    "        Soyisim: {}\n",
    "        Numara: {}\n",
    "        Maas: {}\n",
    "        Bildiği diller: {}\n",
    "        \n",
    "        \"\"\".format(self.isim,self.soyisim,self.numara,self.maas,self.diller))\n",
    "    def zam_yap(self, zam_miktarı):\n",
    "        self.maas += zam_miktarı\n",
    "        print(\"Zam yapıldı... \")\n",
    "    \n",
    "    \n",
    "    def dil_ekle(self, yeni_dil):\n",
    "        print(\"Dil ekleniyor...\")\n",
    "        self.diller.append(yeni_dil)\n",
    "        "
   ]
  },
  {
   "cell_type": "code",
   "execution_count": 14,
   "id": "3517c318",
   "metadata": {},
   "outputs": [],
   "source": [
    "yazilimci = Yazilimci(\"Tinki\",\"Vinki\",12345,5000,[\"Python\",\"Java\",\"C\",\"Javascript\"])"
   ]
  },
  {
   "cell_type": "code",
   "execution_count": 15,
   "id": "cc27fce9",
   "metadata": {},
   "outputs": [
    {
     "data": {
      "text/plain": [
       "<__main__.Yazilimci at 0x1f6c9fdd970>"
      ]
     },
     "execution_count": 15,
     "metadata": {},
     "output_type": "execute_result"
    }
   ],
   "source": [
    "yazilimci"
   ]
  },
  {
   "cell_type": "code",
   "execution_count": 16,
   "id": "2fd53ee4",
   "metadata": {},
   "outputs": [
    {
     "name": "stdout",
     "output_type": "stream",
     "text": [
      "\n",
      "        Yazılımcı objesinin özellikleri\n",
      "        \n",
      "        İsim: Tinki\n",
      "        Soyisim: Vinki\n",
      "        Numara: 12345\n",
      "        Maas: 5000\n",
      "        Bildiği diller: ['Python', 'Java', 'C', 'Javascript']\n",
      "        \n",
      "        \n"
     ]
    }
   ],
   "source": [
    "yazilimci.bilgilerigöster()"
   ]
  },
  {
   "cell_type": "code",
   "execution_count": 17,
   "id": "7e5c3d98",
   "metadata": {},
   "outputs": [
    {
     "name": "stdout",
     "output_type": "stream",
     "text": [
      "Dil ekleniyor...\n"
     ]
    }
   ],
   "source": [
    "yazilimci.dil_ekle(\"GoLang\")"
   ]
  },
  {
   "cell_type": "code",
   "execution_count": 18,
   "id": "c33a81d7",
   "metadata": {},
   "outputs": [
    {
     "name": "stdout",
     "output_type": "stream",
     "text": [
      "\n",
      "        Yazılımcı objesinin özellikleri\n",
      "        \n",
      "        İsim: Tinki\n",
      "        Soyisim: Vinki\n",
      "        Numara: 12345\n",
      "        Maas: 5000\n",
      "        Bildiği diller: ['Python', 'Java', 'C', 'Javascript', 'GoLang']\n",
      "        \n",
      "        \n"
     ]
    }
   ],
   "source": [
    "yazilimci.bilgilerigöster()"
   ]
  },
  {
   "cell_type": "code",
   "execution_count": 19,
   "id": "c80abdbc",
   "metadata": {},
   "outputs": [
    {
     "name": "stdout",
     "output_type": "stream",
     "text": [
      "Zam yapıldı... \n"
     ]
    }
   ],
   "source": [
    "yazilimci.zam_yap(500)"
   ]
  },
  {
   "cell_type": "code",
   "execution_count": 20,
   "id": "9bd9c7ae",
   "metadata": {},
   "outputs": [
    {
     "data": {
      "text/plain": [
       "5500"
      ]
     },
     "execution_count": 20,
     "metadata": {},
     "output_type": "execute_result"
    }
   ],
   "source": [
    "yazilimci.maas"
   ]
  },
  {
   "cell_type": "code",
   "execution_count": 21,
   "id": "5f8a3bbd",
   "metadata": {},
   "outputs": [
    {
     "name": "stdout",
     "output_type": "stream",
     "text": [
      "\n",
      "        Yazılımcı objesinin özellikleri\n",
      "        \n",
      "        İsim: Tinki\n",
      "        Soyisim: Vinki\n",
      "        Numara: 12345\n",
      "        Maas: 5500\n",
      "        Bildiği diller: ['Python', 'Java', 'C', 'Javascript', 'GoLang']\n",
      "        \n",
      "        \n"
     ]
    }
   ],
   "source": [
    "yazilimci.bilgilerigöster()"
   ]
  },
  {
   "cell_type": "code",
   "execution_count": null,
   "id": "d3136f40",
   "metadata": {},
   "outputs": [],
   "source": []
  }
 ],
 "metadata": {
  "kernelspec": {
   "display_name": "Python 3 (ipykernel)",
   "language": "python",
   "name": "python3"
  },
  "language_info": {
   "codemirror_mode": {
    "name": "ipython",
    "version": 3
   },
   "file_extension": ".py",
   "mimetype": "text/x-python",
   "name": "python",
   "nbconvert_exporter": "python",
   "pygments_lexer": "ipython3",
   "version": "3.9.7"
  }
 },
 "nbformat": 4,
 "nbformat_minor": 5
}
