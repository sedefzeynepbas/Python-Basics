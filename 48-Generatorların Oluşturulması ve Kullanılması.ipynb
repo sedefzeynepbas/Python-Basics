{
 "cells": [
  {
   "cell_type": "code",
   "execution_count": 34,
   "id": "4e6d6d9c",
   "metadata": {},
   "outputs": [],
   "source": [
    "# iterable objeler oluşturmak için kullanılan objelerdir (mesela fonksiyonlar)"
   ]
  },
  {
   "cell_type": "code",
   "execution_count": 2,
   "id": "3a6bf5d7",
   "metadata": {},
   "outputs": [],
   "source": [
    "def kareleri_al():\n",
    "    liste =[]\n",
    "    for i in range(1,6):\n",
    "        liste.append(i**2)\n",
    "    return liste\n"
   ]
  },
  {
   "cell_type": "code",
   "execution_count": 4,
   "id": "b479e713",
   "metadata": {},
   "outputs": [
    {
     "name": "stdout",
     "output_type": "stream",
     "text": [
      "[1, 4, 9, 16, 25]\n"
     ]
    }
   ],
   "source": [
    "print(kareleri_al())"
   ]
  },
  {
   "cell_type": "code",
   "execution_count": 5,
   "id": "53e332cf",
   "metadata": {},
   "outputs": [],
   "source": [
    "# 100000 tane sayı olacaksa liste yapmak mantıklı olmayacaktır çünkü 100000 sayı bellekte çok yer kaplayacaktır"
   ]
  },
  {
   "cell_type": "code",
   "execution_count": 6,
   "id": "1d947aa9",
   "metadata": {},
   "outputs": [],
   "source": [
    "def kareleri_al():\n",
    "    for i in range(1,6):\n",
    "        yield i**2"
   ]
  },
  {
   "cell_type": "code",
   "execution_count": 7,
   "id": "30b8214a",
   "metadata": {},
   "outputs": [],
   "source": [
    "generator_degiskeni = kareleri_al() #generator objesi oluştu"
   ]
  },
  {
   "cell_type": "code",
   "execution_count": 9,
   "id": "5c409864",
   "metadata": {},
   "outputs": [
    {
     "data": {
      "text/plain": [
       "<generator object kareleri_al at 0x0000018E80C83DD0>"
      ]
     },
     "execution_count": 9,
     "metadata": {},
     "output_type": "execute_result"
    }
   ],
   "source": [
    "generator_degiskeni"
   ]
  },
  {
   "cell_type": "code",
   "execution_count": 10,
   "id": "621b91a8",
   "metadata": {},
   "outputs": [],
   "source": [
    "# henüz generator_degiskeni içinde hiçbir değer yok, henüz üretilmedi"
   ]
  },
  {
   "cell_type": "code",
   "execution_count": 11,
   "id": "195081f8",
   "metadata": {},
   "outputs": [],
   "source": [
    "iterator = iter(generator_degiskeni)"
   ]
  },
  {
   "cell_type": "code",
   "execution_count": 12,
   "id": "88dc01ed",
   "metadata": {},
   "outputs": [],
   "source": [
    "# elemana ulaşmak istemezsen bir değer üretmiyor ulaşmak istersen üretiyor"
   ]
  },
  {
   "cell_type": "code",
   "execution_count": 13,
   "id": "81e58e8e",
   "metadata": {},
   "outputs": [
    {
     "data": {
      "text/plain": [
       "1"
      ]
     },
     "execution_count": 13,
     "metadata": {},
     "output_type": "execute_result"
    }
   ],
   "source": [
    "next(iterator)"
   ]
  },
  {
   "cell_type": "code",
   "execution_count": 14,
   "id": "d7f885b5",
   "metadata": {},
   "outputs": [
    {
     "data": {
      "text/plain": [
       "4"
      ]
     },
     "execution_count": 14,
     "metadata": {},
     "output_type": "execute_result"
    }
   ],
   "source": [
    "next(iterator)"
   ]
  },
  {
   "cell_type": "code",
   "execution_count": 15,
   "id": "cd5a2c2f",
   "metadata": {},
   "outputs": [
    {
     "data": {
      "text/plain": [
       "9"
      ]
     },
     "execution_count": 15,
     "metadata": {},
     "output_type": "execute_result"
    }
   ],
   "source": [
    "next(iterator)"
   ]
  },
  {
   "cell_type": "code",
   "execution_count": 16,
   "id": "f36bc43e",
   "metadata": {},
   "outputs": [
    {
     "data": {
      "text/plain": [
       "16"
      ]
     },
     "execution_count": 16,
     "metadata": {},
     "output_type": "execute_result"
    }
   ],
   "source": [
    "next(iterator)"
   ]
  },
  {
   "cell_type": "code",
   "execution_count": 17,
   "id": "e1e2a13d",
   "metadata": {},
   "outputs": [
    {
     "data": {
      "text/plain": [
       "25"
      ]
     },
     "execution_count": 17,
     "metadata": {},
     "output_type": "execute_result"
    }
   ],
   "source": [
    "next(iterator)"
   ]
  },
  {
   "cell_type": "code",
   "execution_count": 18,
   "id": "7b27adbc",
   "metadata": {},
   "outputs": [
    {
     "ename": "StopIteration",
     "evalue": "",
     "output_type": "error",
     "traceback": [
      "\u001b[1;31m---------------------------------------------------------------------------\u001b[0m",
      "\u001b[1;31mStopIteration\u001b[0m                             Traceback (most recent call last)",
      "\u001b[1;32m~\\AppData\\Local\\Temp/ipykernel_21336/4235178104.py\u001b[0m in \u001b[0;36m<module>\u001b[1;34m\u001b[0m\n\u001b[1;32m----> 1\u001b[1;33m \u001b[0mnext\u001b[0m\u001b[1;33m(\u001b[0m\u001b[0miterator\u001b[0m\u001b[1;33m)\u001b[0m\u001b[1;33m\u001b[0m\u001b[1;33m\u001b[0m\u001b[0m\n\u001b[0m",
      "\u001b[1;31mStopIteration\u001b[0m: "
     ]
    }
   ],
   "source": [
    "next(iterator)"
   ]
  },
  {
   "cell_type": "code",
   "execution_count": 19,
   "id": "3d3b78de",
   "metadata": {},
   "outputs": [],
   "source": [
    "# iter ile ürettikten sonra değer oluşturuyor ve oluşan değerleri hiçbir yerde saklamıyor artık indexlere ulaşamayız"
   ]
  },
  {
   "cell_type": "code",
   "execution_count": 20,
   "id": "6d4242e2",
   "metadata": {},
   "outputs": [],
   "source": [
    "iterator2 = iter(generator_degiskeni)"
   ]
  },
  {
   "cell_type": "code",
   "execution_count": 21,
   "id": "563af30c",
   "metadata": {},
   "outputs": [
    {
     "ename": "StopIteration",
     "evalue": "",
     "output_type": "error",
     "traceback": [
      "\u001b[1;31m---------------------------------------------------------------------------\u001b[0m",
      "\u001b[1;31mStopIteration\u001b[0m                             Traceback (most recent call last)",
      "\u001b[1;32m~\\AppData\\Local\\Temp/ipykernel_21336/4235803774.py\u001b[0m in \u001b[0;36m<module>\u001b[1;34m\u001b[0m\n\u001b[1;32m----> 1\u001b[1;33m \u001b[0mnext\u001b[0m\u001b[1;33m(\u001b[0m\u001b[0miterator2\u001b[0m\u001b[1;33m)\u001b[0m\u001b[1;33m\u001b[0m\u001b[1;33m\u001b[0m\u001b[0m\n\u001b[0m",
      "\u001b[1;31mStopIteration\u001b[0m: "
     ]
    }
   ],
   "source": [
    "next(iterator2)"
   ]
  },
  {
   "cell_type": "code",
   "execution_count": 22,
   "id": "aceec97c",
   "metadata": {},
   "outputs": [],
   "source": [
    "# generator değerleri üretti ve tükendi tekrar almak istiyorsan tekrar generator üretmelisin"
   ]
  },
  {
   "cell_type": "code",
   "execution_count": 23,
   "id": "95762e34",
   "metadata": {},
   "outputs": [],
   "source": [
    "# saklamak istemediğinde sadece değerleri görmek istediğinde generatorları kullanabilirsin"
   ]
  },
  {
   "cell_type": "code",
   "execution_count": 24,
   "id": "1158ad4f",
   "metadata": {},
   "outputs": [],
   "source": [
    "liste = [ i * 3 for i in range(5)]\n"
   ]
  },
  {
   "cell_type": "code",
   "execution_count": 26,
   "id": "4aa62f97",
   "metadata": {},
   "outputs": [],
   "source": [
    "generator = ( i * 3 for i in range(5))"
   ]
  },
  {
   "cell_type": "code",
   "execution_count": 27,
   "id": "ea49574d",
   "metadata": {},
   "outputs": [],
   "source": [
    "iterator = iter(generator)"
   ]
  },
  {
   "cell_type": "code",
   "execution_count": 28,
   "id": "9a417493",
   "metadata": {},
   "outputs": [
    {
     "data": {
      "text/plain": [
       "0"
      ]
     },
     "execution_count": 28,
     "metadata": {},
     "output_type": "execute_result"
    }
   ],
   "source": [
    "next(iterator)"
   ]
  },
  {
   "cell_type": "code",
   "execution_count": 29,
   "id": "a0d352a3",
   "metadata": {},
   "outputs": [
    {
     "name": "stdout",
     "output_type": "stream",
     "text": [
      "3\n",
      "6\n",
      "9\n",
      "12\n"
     ]
    }
   ],
   "source": [
    "for i in iterator:\n",
    "    print(i)"
   ]
  },
  {
   "cell_type": "code",
   "execution_count": 32,
   "id": "a103717e",
   "metadata": {},
   "outputs": [],
   "source": [
    "for i in iterator:\n",
    "    print(i) #içinde değer kalmadı"
   ]
  },
  {
   "cell_type": "code",
   "execution_count": 33,
   "id": "da98fdf7",
   "metadata": {},
   "outputs": [],
   "source": [
    "def carpim_tablosu():\n",
    "    for i in range(1,11):\n",
    "        for j in range(1,11):\n",
    "            yield \"{} x {} = {}\".format(i,j,i*j)"
   ]
  },
  {
   "cell_type": "code",
   "execution_count": 35,
   "id": "be0cbebd",
   "metadata": {},
   "outputs": [
    {
     "name": "stdout",
     "output_type": "stream",
     "text": [
      "1 x 1 = 1\n",
      "1 x 2 = 2\n",
      "1 x 3 = 3\n",
      "1 x 4 = 4\n",
      "1 x 5 = 5\n",
      "1 x 6 = 6\n",
      "1 x 7 = 7\n",
      "1 x 8 = 8\n",
      "1 x 9 = 9\n",
      "1 x 10 = 10\n",
      "2 x 1 = 2\n",
      "2 x 2 = 4\n",
      "2 x 3 = 6\n",
      "2 x 4 = 8\n",
      "2 x 5 = 10\n",
      "2 x 6 = 12\n",
      "2 x 7 = 14\n",
      "2 x 8 = 16\n",
      "2 x 9 = 18\n",
      "2 x 10 = 20\n",
      "3 x 1 = 3\n",
      "3 x 2 = 6\n",
      "3 x 3 = 9\n",
      "3 x 4 = 12\n",
      "3 x 5 = 15\n",
      "3 x 6 = 18\n",
      "3 x 7 = 21\n",
      "3 x 8 = 24\n",
      "3 x 9 = 27\n",
      "3 x 10 = 30\n",
      "4 x 1 = 4\n",
      "4 x 2 = 8\n",
      "4 x 3 = 12\n",
      "4 x 4 = 16\n",
      "4 x 5 = 20\n",
      "4 x 6 = 24\n",
      "4 x 7 = 28\n",
      "4 x 8 = 32\n",
      "4 x 9 = 36\n",
      "4 x 10 = 40\n",
      "5 x 1 = 5\n",
      "5 x 2 = 10\n",
      "5 x 3 = 15\n",
      "5 x 4 = 20\n",
      "5 x 5 = 25\n",
      "5 x 6 = 30\n",
      "5 x 7 = 35\n",
      "5 x 8 = 40\n",
      "5 x 9 = 45\n",
      "5 x 10 = 50\n",
      "6 x 1 = 6\n",
      "6 x 2 = 12\n",
      "6 x 3 = 18\n",
      "6 x 4 = 24\n",
      "6 x 5 = 30\n",
      "6 x 6 = 36\n",
      "6 x 7 = 42\n",
      "6 x 8 = 48\n",
      "6 x 9 = 54\n",
      "6 x 10 = 60\n",
      "7 x 1 = 7\n",
      "7 x 2 = 14\n",
      "7 x 3 = 21\n",
      "7 x 4 = 28\n",
      "7 x 5 = 35\n",
      "7 x 6 = 42\n",
      "7 x 7 = 49\n",
      "7 x 8 = 56\n",
      "7 x 9 = 63\n",
      "7 x 10 = 70\n",
      "8 x 1 = 8\n",
      "8 x 2 = 16\n",
      "8 x 3 = 24\n",
      "8 x 4 = 32\n",
      "8 x 5 = 40\n",
      "8 x 6 = 48\n",
      "8 x 7 = 56\n",
      "8 x 8 = 64\n",
      "8 x 9 = 72\n",
      "8 x 10 = 80\n",
      "9 x 1 = 9\n",
      "9 x 2 = 18\n",
      "9 x 3 = 27\n",
      "9 x 4 = 36\n",
      "9 x 5 = 45\n",
      "9 x 6 = 54\n",
      "9 x 7 = 63\n",
      "9 x 8 = 72\n",
      "9 x 9 = 81\n",
      "9 x 10 = 90\n",
      "10 x 1 = 10\n",
      "10 x 2 = 20\n",
      "10 x 3 = 30\n",
      "10 x 4 = 40\n",
      "10 x 5 = 50\n",
      "10 x 6 = 60\n",
      "10 x 7 = 70\n",
      "10 x 8 = 80\n",
      "10 x 9 = 90\n",
      "10 x 10 = 100\n"
     ]
    }
   ],
   "source": [
    "for i in carpim_tablosu():\n",
    "    print(i)\n",
    "    "
   ]
  },
  {
   "cell_type": "code",
   "execution_count": 37,
   "id": "14b8e911",
   "metadata": {},
   "outputs": [],
   "source": [
    "# boşuna bellek işgal etmemiş olduk..."
   ]
  },
  {
   "cell_type": "code",
   "execution_count": 38,
   "id": "b7f58d3e",
   "metadata": {},
   "outputs": [],
   "source": [
    "# örneğin range generatorle yazılmış bir fonksiyondur"
   ]
  },
  {
   "cell_type": "code",
   "execution_count": null,
   "id": "dd2eb333",
   "metadata": {},
   "outputs": [],
   "source": []
  }
 ],
 "metadata": {
  "kernelspec": {
   "display_name": "Python 3 (ipykernel)",
   "language": "python",
   "name": "python3"
  },
  "language_info": {
   "codemirror_mode": {
    "name": "ipython",
    "version": 3
   },
   "file_extension": ".py",
   "mimetype": "text/x-python",
   "name": "python",
   "nbconvert_exporter": "python",
   "pygments_lexer": "ipython3",
   "version": "3.9.7"
  }
 },
 "nbformat": 4,
 "nbformat_minor": 5
}
