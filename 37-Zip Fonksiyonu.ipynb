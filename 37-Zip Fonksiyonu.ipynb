{
 "cells": [
  {
   "cell_type": "code",
   "execution_count": 1,
   "id": "d83872a5",
   "metadata": {},
   "outputs": [],
   "source": [
    "liste1 = range(1,6)\n",
    "liste2 = range(6,12)"
   ]
  },
  {
   "cell_type": "code",
   "execution_count": 6,
   "id": "6711dfc5",
   "metadata": {},
   "outputs": [
    {
     "name": "stdout",
     "output_type": "stream",
     "text": [
      "[(1, 6), (2, 7), (3, 8), (4, 9), (5, 10)]\n"
     ]
    }
   ],
   "source": [
    "i = 0\n",
    "sonuc = list()\n",
    "while i < len(liste1) and i < len(liste2):\n",
    "    sonuc.append((liste1[i],liste2[i]))\n",
    "    i += 1\n",
    "print(sonuc)"
   ]
  },
  {
   "cell_type": "code",
   "execution_count": 7,
   "id": "46be99e5",
   "metadata": {},
   "outputs": [
    {
     "data": {
      "text/plain": [
       "[(1, 6), (2, 7), (3, 8), (4, 9), (5, 10)]"
      ]
     },
     "execution_count": 7,
     "metadata": {},
     "output_type": "execute_result"
    }
   ],
   "source": [
    "list(zip(liste1,liste2))"
   ]
  },
  {
   "cell_type": "code",
   "execution_count": 8,
   "id": "30e31c5c",
   "metadata": {},
   "outputs": [],
   "source": [
    "liste1 = range(1,6)\n",
    "liste2 = range(6,12)\n",
    "liste3 = [\"Python\", \"Php\", \"Java\", \"Javascript\"]"
   ]
  },
  {
   "cell_type": "code",
   "execution_count": 9,
   "id": "b48e8cea",
   "metadata": {},
   "outputs": [
    {
     "data": {
      "text/plain": [
       "[(1, 6, 'Python'), (2, 7, 'Php'), (3, 8, 'Java'), (4, 9, 'Javascript')]"
      ]
     },
     "execution_count": 9,
     "metadata": {},
     "output_type": "execute_result"
    }
   ],
   "source": [
    "list(zip(liste1,liste2,liste3))"
   ]
  },
  {
   "cell_type": "code",
   "execution_count": 11,
   "id": "25a269f0",
   "metadata": {},
   "outputs": [
    {
     "name": "stdout",
     "output_type": "stream",
     "text": [
      "6 Python\n",
      "7 Php\n",
      "8 Java\n",
      "9 Javascript\n"
     ]
    }
   ],
   "source": [
    "for i,j in zip(liste2,liste3):\n",
    "    print(i,j)"
   ]
  },
  {
   "cell_type": "code",
   "execution_count": 12,
   "id": "e74d5cf4",
   "metadata": {},
   "outputs": [],
   "source": [
    "sözlük1 = {\"Elma\": 1, \"Armut\": 2, \"Kiraz\": 3}\n",
    "sözlük2 = {\"Sıfır\": 0, \"Bir\": 1, \"İki\": 2}"
   ]
  },
  {
   "cell_type": "code",
   "execution_count": 13,
   "id": "21f435c0",
   "metadata": {},
   "outputs": [
    {
     "data": {
      "text/plain": [
       "[('Elma', 'Sıfır'), ('Armut', 'Bir'), ('Kiraz', 'İki')]"
      ]
     },
     "execution_count": 13,
     "metadata": {},
     "output_type": "execute_result"
    }
   ],
   "source": [
    "list(zip(sözlük1,sözlük2))"
   ]
  },
  {
   "cell_type": "code",
   "execution_count": 14,
   "id": "c1732401",
   "metadata": {},
   "outputs": [
    {
     "data": {
      "text/plain": [
       "[(1, 'Sıfır'), (2, 'Bir'), (3, 'İki')]"
      ]
     },
     "execution_count": 14,
     "metadata": {},
     "output_type": "execute_result"
    }
   ],
   "source": [
    "list(zip(sözlük1.values(),sözlük2))"
   ]
  },
  {
   "cell_type": "code",
   "execution_count": 15,
   "id": "1579b07f",
   "metadata": {},
   "outputs": [
    {
     "data": {
      "text/plain": [
       "[(1, 0), (2, 1), (3, 2)]"
      ]
     },
     "execution_count": 15,
     "metadata": {},
     "output_type": "execute_result"
    }
   ],
   "source": [
    "list(zip(sözlük1.values(),sözlük2.values()))"
   ]
  },
  {
   "cell_type": "code",
   "execution_count": null,
   "id": "791019f4",
   "metadata": {},
   "outputs": [],
   "source": []
  }
 ],
 "metadata": {
  "kernelspec": {
   "display_name": "Python 3 (ipykernel)",
   "language": "python",
   "name": "python3"
  },
  "language_info": {
   "codemirror_mode": {
    "name": "ipython",
    "version": 3
   },
   "file_extension": ".py",
   "mimetype": "text/x-python",
   "name": "python",
   "nbconvert_exporter": "python",
   "pygments_lexer": "ipython3",
   "version": "3.9.7"
  }
 },
 "nbformat": 4,
 "nbformat_minor": 5
}
