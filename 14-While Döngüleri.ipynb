{
 "cells": [
  {
   "cell_type": "code",
   "execution_count": 3,
   "id": "2455846d",
   "metadata": {},
   "outputs": [
    {
     "name": "stdout",
     "output_type": "stream",
     "text": [
      "i'nin değeri:  0\n",
      "i'nin değeri:  1\n",
      "i'nin değeri:  2\n",
      "i'nin değeri:  3\n",
      "i'nin değeri:  4\n",
      "i'nin değeri:  5\n",
      "i'nin değeri:  6\n",
      "i'nin değeri:  7\n",
      "i'nin değeri:  8\n",
      "i'nin değeri:  9\n"
     ]
    }
   ],
   "source": [
    "i = 0\n",
    "\n",
    "while (i<10):\n",
    "    print(\"i'nin değeri: \", i)\n",
    "    i += 1"
   ]
  },
  {
   "cell_type": "code",
   "execution_count": 4,
   "id": "8c56051f",
   "metadata": {},
   "outputs": [
    {
     "name": "stdout",
     "output_type": "stream",
     "text": [
      "i'nin değeri:  0\n",
      "i'nin değeri:  2\n",
      "i'nin değeri:  4\n",
      "i'nin değeri:  6\n",
      "i'nin değeri:  8\n",
      "i'nin değeri:  10\n",
      "i'nin değeri:  12\n",
      "i'nin değeri:  14\n",
      "i'nin değeri:  16\n",
      "i'nin değeri:  18\n"
     ]
    }
   ],
   "source": [
    "i = 0\n",
    "\n",
    "while (i<20):\n",
    "    print(\"i'nin değeri: \", i)\n",
    "    i += 2"
   ]
  },
  {
   "cell_type": "code",
   "execution_count": 5,
   "id": "66031205",
   "metadata": {},
   "outputs": [
    {
     "name": "stdout",
     "output_type": "stream",
     "text": [
      "Python öğreniyorum\n",
      "Python öğreniyorum\n",
      "Python öğreniyorum\n",
      "Python öğreniyorum\n",
      "Python öğreniyorum\n",
      "Python öğreniyorum\n",
      "Python öğreniyorum\n",
      "Python öğreniyorum\n",
      "Python öğreniyorum\n",
      "Python öğreniyorum\n",
      "Python öğreniyorum\n",
      "Python öğreniyorum\n",
      "Python öğreniyorum\n",
      "Python öğreniyorum\n",
      "Python öğreniyorum\n",
      "Python öğreniyorum\n",
      "Python öğreniyorum\n",
      "Python öğreniyorum\n",
      "Python öğreniyorum\n",
      "Python öğreniyorum\n",
      "Python öğreniyorum\n",
      "Python öğreniyorum\n",
      "Python öğreniyorum\n",
      "Python öğreniyorum\n",
      "Python öğreniyorum\n",
      "Python öğreniyorum\n",
      "Python öğreniyorum\n",
      "Python öğreniyorum\n",
      "Python öğreniyorum\n",
      "Python öğreniyorum\n",
      "Python öğreniyorum\n",
      "Python öğreniyorum\n",
      "Python öğreniyorum\n",
      "Python öğreniyorum\n",
      "Python öğreniyorum\n",
      "Python öğreniyorum\n",
      "Python öğreniyorum\n",
      "Python öğreniyorum\n",
      "Python öğreniyorum\n",
      "Python öğreniyorum\n"
     ]
    }
   ],
   "source": [
    "a = 0\n",
    "while a<40:\n",
    "    print(\"Python öğreniyorum\")\n",
    "    a +=1"
   ]
  },
  {
   "cell_type": "code",
   "execution_count": 1,
   "id": "11196dd6",
   "metadata": {},
   "outputs": [
    {
     "name": "stdout",
     "output_type": "stream",
     "text": [
      "3\n",
      "8\n",
      "9\n",
      "5\n",
      "7\n"
     ]
    }
   ],
   "source": [
    "liste = [3,8,9,5,7]\n",
    "\n",
    "for i in liste:\n",
    "    print(i)"
   ]
  },
  {
   "cell_type": "code",
   "execution_count": 3,
   "id": "fb5fb554",
   "metadata": {},
   "outputs": [
    {
     "name": "stdout",
     "output_type": "stream",
     "text": [
      "index 0 Liste elemanı 3\n",
      "index 1 Liste elemanı 8\n",
      "index 2 Liste elemanı 9\n",
      "index 3 Liste elemanı 5\n",
      "index 4 Liste elemanı 7\n"
     ]
    }
   ],
   "source": [
    "index = 0\n",
    "while index<len(liste):\n",
    "    print(\"index\",index, \"Liste elemanı\",liste[index] )\n",
    "    index +=1"
   ]
  },
  {
   "cell_type": "markdown",
   "id": "2adc10d5",
   "metadata": {},
   "source": [
    "döngü sonsuza girer eğer indexi arttırmazsan"
   ]
  },
  {
   "cell_type": "code",
   "execution_count": null,
   "id": "7e250e31",
   "metadata": {},
   "outputs": [],
   "source": []
  }
 ],
 "metadata": {
  "kernelspec": {
   "display_name": "Python 3 (ipykernel)",
   "language": "python",
   "name": "python3"
  },
  "language_info": {
   "codemirror_mode": {
    "name": "ipython",
    "version": 3
   },
   "file_extension": ".py",
   "mimetype": "text/x-python",
   "name": "python",
   "nbconvert_exporter": "python",
   "pygments_lexer": "ipython3",
   "version": "3.9.7"
  }
 },
 "nbformat": 4,
 "nbformat_minor": 5
}
