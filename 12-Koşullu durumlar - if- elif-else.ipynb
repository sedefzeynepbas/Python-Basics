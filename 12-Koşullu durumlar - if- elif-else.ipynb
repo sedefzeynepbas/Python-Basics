{
 "cells": [
  {
   "cell_type": "code",
   "execution_count": 11,
   "id": "6620cc61",
   "metadata": {},
   "outputs": [
    {
     "name": "stdout",
     "output_type": "stream",
     "text": [
      "2\n",
      "Merhaba\n"
     ]
    }
   ],
   "source": [
    "a=2\n",
    "if (a==2):\n",
    "    print(a)\n",
    "print(\"Merhaba\")"
   ]
  },
  {
   "cell_type": "code",
   "execution_count": 10,
   "id": "5132d182",
   "metadata": {},
   "outputs": [
    {
     "name": "stdout",
     "output_type": "stream",
     "text": [
      "Merhaba\n"
     ]
    }
   ],
   "source": [
    "a=2\n",
    "if (a==3):\n",
    "    print(a)\n",
    "print(\"Merhaba\")"
   ]
  },
  {
   "cell_type": "code",
   "execution_count": 15,
   "id": "804e9b47",
   "metadata": {},
   "outputs": [
    {
     "name": "stdout",
     "output_type": "stream",
     "text": [
      "Yaşınızı giriniz: 17\n",
      "Mekana giremezsiniz!\n"
     ]
    }
   ],
   "source": [
    "yas = int(input(\"Yaşınızı giriniz: \"))\n",
    "if yas < 18:\n",
    "    print(\"Mekana giremezsiniz!\")\n",
    "else:\n",
    "    print(\"Hoşgeldiniz!\")"
   ]
  },
  {
   "cell_type": "code",
   "execution_count": 16,
   "id": "c1f0fe7a",
   "metadata": {},
   "outputs": [
    {
     "name": "stdout",
     "output_type": "stream",
     "text": [
      "Yaşınızı giriniz: 40\n",
      "Hoşgeldiniz!\n"
     ]
    }
   ],
   "source": [
    "yas = int(input(\"Yaşınızı giriniz: \"))\n",
    "if yas < 18:\n",
    "    print(\"Mekana giremezsiniz!\")\n",
    "else:\n",
    "    print(\"Hoşgeldiniz!\")"
   ]
  },
  {
   "cell_type": "code",
   "execution_count": 17,
   "id": "ae04ecc8",
   "metadata": {},
   "outputs": [
    {
     "name": "stdout",
     "output_type": "stream",
     "text": [
      "Sayı: -1\n",
      "Negatif sayı\n"
     ]
    }
   ],
   "source": [
    "sayı = float(input(\"Sayı: \"))\n",
    "if sayı < 0:\n",
    "    print(\"Negatif sayı\")\n",
    "else:\n",
    "    print(\"0 veya Pozitif Sayı\")"
   ]
  },
  {
   "cell_type": "code",
   "execution_count": 18,
   "id": "7b28be99",
   "metadata": {},
   "outputs": [
    {
     "name": "stdout",
     "output_type": "stream",
     "text": [
      "Sayı: 5\n",
      "0 veya Pozitif Sayı\n"
     ]
    }
   ],
   "source": [
    "sayı = float(input(\"Sayı: \"))\n",
    "if sayı < 0:\n",
    "    print(\"Negatif sayı\")\n",
    "else:\n",
    "    print(\"0 veya Pozitif Sayı\")"
   ]
  },
  {
   "cell_type": "markdown",
   "id": "f741f661",
   "metadata": {},
   "source": [
    "if - elif - else"
   ]
  },
  {
   "cell_type": "code",
   "execution_count": 25,
   "id": "51324127",
   "metadata": {},
   "outputs": [
    {
     "name": "stdout",
     "output_type": "stream",
     "text": [
      "İşlemi giriniz: 3\n",
      "İşlem 3 seçildi\n"
     ]
    }
   ],
   "source": [
    "işlem = input(\"İşlemi giriniz: \")\n",
    "if işlem == \"1\":\n",
    "    print(\"İşlem 1 seçildi\")\n",
    "elif işlem == \"2\":\n",
    "    print(\"İşlem 2 seçildi\")\n",
    "elif işlem == \"3\":\n",
    "    print(\"İşlem 3 seçildi\")\n",
    "elif işlem == \"4\":\n",
    "    print(\"İşlem 4 seçildi\")\n",
    "else:\n",
    "    print(\"Geçersiz İşlem!\")"
   ]
  },
  {
   "cell_type": "code",
   "execution_count": 26,
   "id": "43ab8ff9",
   "metadata": {},
   "outputs": [
    {
     "name": "stdout",
     "output_type": "stream",
     "text": [
      "İşlemi giriniz: 5\n"
     ]
    }
   ],
   "source": [
    "işlem = input(\"İşlemi giriniz: \")\n",
    "if işlem == \"1\":\n",
    "    print(\"İşlem 1 seçildi\")\n",
    "elif işlem == \"2\":\n",
    "    print(\"İşlem 2 seçildi\")\n",
    "elif işlem == \"3\":\n",
    "    print(\"İşlem 3 seçildi\")\n",
    "elif işlem == \"4\":\n",
    "    print(\"İşlem 4 seçildi\")"
   ]
  },
  {
   "cell_type": "code",
   "execution_count": 27,
   "id": "85c191e6",
   "metadata": {},
   "outputs": [
    {
     "ename": "SyntaxError",
     "evalue": "invalid syntax (Temp/ipykernel_696/1918874439.py, line 1)",
     "output_type": "error",
     "traceback": [
      "\u001b[1;36m  File \u001b[1;32m\"C:\\Users\\BSS5BU\\AppData\\Local\\Temp/ipykernel_696/1918874439.py\"\u001b[1;36m, line \u001b[1;32m1\u001b[0m\n\u001b[1;33m    else:\u001b[0m\n\u001b[1;37m    ^\u001b[0m\n\u001b[1;31mSyntaxError\u001b[0m\u001b[1;31m:\u001b[0m invalid syntax\n"
     ]
    }
   ],
   "source": [
    "else:\n",
    "    print(\"Geçersiz İşlem!\")"
   ]
  },
  {
   "cell_type": "code",
   "execution_count": 28,
   "id": "c4018208",
   "metadata": {},
   "outputs": [
    {
     "ename": "SyntaxError",
     "evalue": "invalid syntax (Temp/ipykernel_696/2155737107.py, line 1)",
     "output_type": "error",
     "traceback": [
      "\u001b[1;36m  File \u001b[1;32m\"C:\\Users\\BSS5BU\\AppData\\Local\\Temp/ipykernel_696/2155737107.py\"\u001b[1;36m, line \u001b[1;32m1\u001b[0m\n\u001b[1;33m    elif:\u001b[0m\n\u001b[1;37m    ^\u001b[0m\n\u001b[1;31mSyntaxError\u001b[0m\u001b[1;31m:\u001b[0m invalid syntax\n"
     ]
    }
   ],
   "source": [
    "elif:\n",
    "    print(\"Geçersiz İşlem!\")"
   ]
  },
  {
   "cell_type": "code",
   "execution_count": 32,
   "id": "2297bdd3",
   "metadata": {},
   "outputs": [
    {
     "name": "stdout",
     "output_type": "stream",
     "text": [
      "Notunuzu giriniz: 50\n",
      "Kaldınız!\n"
     ]
    }
   ],
   "source": [
    "\"\"\"Harf Notu Hesaplama\"\"\"\n",
    "note = float(input(\"Notunuzu giriniz: \"))\n",
    "if note >= 90:\n",
    "    print(\"AA\")\n",
    "elif note>= 85:\n",
    "    print(\"BA\")\n",
    "elif note>= 80:\n",
    "    print(\"BB\")\n",
    "elif note>= 75:\n",
    "    print(\"CB\")\n",
    "elif note>= 70:\n",
    "    print(\"CC\")\n",
    "elif note>= 65:\n",
    "    print(\"DC\")\n",
    "elif note>= 60:\n",
    "    print(\"DD\")\n",
    "else:\n",
    "    print(\"Kaldınız!\")"
   ]
  },
  {
   "cell_type": "code",
   "execution_count": 33,
   "id": "5a97de5d",
   "metadata": {},
   "outputs": [
    {
     "name": "stdout",
     "output_type": "stream",
     "text": [
      "Notunuzu giriniz: 75\n",
      "CB\n",
      "CC\n",
      "DC\n",
      "DD\n"
     ]
    }
   ],
   "source": [
    "note = float(input(\"Notunuzu giriniz: \"))\n",
    "if note >= 90:\n",
    "    print(\"AA\")\n",
    "if note>= 85:\n",
    "    print(\"BA\")\n",
    "if note>= 80:\n",
    "    print(\"BB\")\n",
    "if note>= 75:\n",
    "    print(\"CB\")\n",
    "if note>= 70:\n",
    "    print(\"CC\")\n",
    "if note>= 65:\n",
    "    print(\"DC\")\n",
    "if note>= 60:\n",
    "    print(\"DD\")\n",
    "else:\n",
    "    print(\"Kaldınız!\")"
   ]
  },
  {
   "cell_type": "code",
   "execution_count": null,
   "id": "49c4d1fc",
   "metadata": {},
   "outputs": [],
   "source": []
  }
 ],
 "metadata": {
  "kernelspec": {
   "display_name": "Python 3 (ipykernel)",
   "language": "python",
   "name": "python3"
  },
  "language_info": {
   "codemirror_mode": {
    "name": "ipython",
    "version": 3
   },
   "file_extension": ".py",
   "mimetype": "text/x-python",
   "name": "python",
   "nbconvert_exporter": "python",
   "pygments_lexer": "ipython3",
   "version": "3.9.7"
  }
 },
 "nbformat": 4,
 "nbformat_minor": 5
}
