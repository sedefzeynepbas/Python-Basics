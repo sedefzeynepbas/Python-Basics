{
 "cells": [
  {
   "cell_type": "code",
   "execution_count": 5,
   "id": "5ac2bb22",
   "metadata": {},
   "outputs": [],
   "source": [
    "def greet(isim):\n",
    "    print(\"Hey\", isim)"
   ]
  },
  {
   "cell_type": "code",
   "execution_count": 6,
   "id": "6109b1c1",
   "metadata": {},
   "outputs": [
    {
     "name": "stdout",
     "output_type": "stream",
     "text": [
      "Hey tinki\n"
     ]
    }
   ],
   "source": [
    "greet(\"tinki\")"
   ]
  },
  {
   "cell_type": "code",
   "execution_count": 7,
   "id": "f473c6b6",
   "metadata": {},
   "outputs": [],
   "source": [
    "def greet(isim = \"İsimsiz\"):\n",
    "    print(\"Hey\", isim)"
   ]
  },
  {
   "cell_type": "code",
   "execution_count": 9,
   "id": "8d460878",
   "metadata": {},
   "outputs": [
    {
     "name": "stdout",
     "output_type": "stream",
     "text": [
      "Hey İsimsiz\n"
     ]
    }
   ],
   "source": [
    "greet()"
   ]
  },
  {
   "cell_type": "code",
   "execution_count": 11,
   "id": "4229f888",
   "metadata": {},
   "outputs": [
    {
     "name": "stdout",
     "output_type": "stream",
     "text": [
      "Hey pinkie\n"
     ]
    }
   ],
   "source": [
    "greet(\"pinkie\")"
   ]
  },
  {
   "cell_type": "code",
   "execution_count": 22,
   "id": "db5fe501",
   "metadata": {},
   "outputs": [],
   "source": [
    "def bilgiler(a,s,n):\n",
    "    print(\"Ad:\", a, \"Soyad:\", s, \"Numara:\", n)"
   ]
  },
  {
   "cell_type": "code",
   "execution_count": 23,
   "id": "318db34b",
   "metadata": {},
   "outputs": [
    {
     "name": "stdout",
     "output_type": "stream",
     "text": [
      "Ad: tinki Soyad: vinki Numara: 11\n"
     ]
    }
   ],
   "source": [
    "bilgiler(\"tinki\", \"vinki\", \"11\")"
   ]
  },
  {
   "cell_type": "code",
   "execution_count": 24,
   "id": "d1d3cac4",
   "metadata": {},
   "outputs": [],
   "source": [
    "def bilgiler(a = \"Bilgi Yok\",s= \"Bilgi Yok\",n= \"Bilgi Yok\"):\n",
    "    print(\"Ad:\", a, \"Soyad:\", s, \"Numara:\", n)"
   ]
  },
  {
   "cell_type": "code",
   "execution_count": 25,
   "id": "f563f5eb",
   "metadata": {},
   "outputs": [
    {
     "name": "stdout",
     "output_type": "stream",
     "text": [
      "Ad: Bilgi Yok Soyad: Bilgi Yok Numara: Bilgi Yok\n"
     ]
    }
   ],
   "source": [
    "bilgiler()"
   ]
  },
  {
   "cell_type": "code",
   "execution_count": 26,
   "id": "92c95fdf",
   "metadata": {},
   "outputs": [
    {
     "name": "stdout",
     "output_type": "stream",
     "text": [
      "Ad: tinki Soyad: vinki Numara: Bilgi Yok\n"
     ]
    }
   ],
   "source": [
    "bilgiler(\"tinki\",\"vinki\")"
   ]
  },
  {
   "cell_type": "code",
   "execution_count": 27,
   "id": "06b16d79",
   "metadata": {},
   "outputs": [
    {
     "name": "stdout",
     "output_type": "stream",
     "text": [
      "Ad: Bilgi Yok Soyad: Bilgi Yok Numara: 11\n"
     ]
    }
   ],
   "source": [
    "bilgiler(n = \"11\")"
   ]
  },
  {
   "cell_type": "code",
   "execution_count": 28,
   "id": "cd2bcc2b",
   "metadata": {},
   "outputs": [
    {
     "name": "stdout",
     "output_type": "stream",
     "text": [
      "tinki lulu bby\n"
     ]
    }
   ],
   "source": [
    "print(\"tinki\",\"lulu\",\"bby\")"
   ]
  },
  {
   "cell_type": "code",
   "execution_count": 31,
   "id": "0e6483eb",
   "metadata": {},
   "outputs": [
    {
     "name": "stdout",
     "output_type": "stream",
     "text": [
      "tinki & lulu & bby\n"
     ]
    }
   ],
   "source": [
    "print(\"tinki\",\"lulu\",\"bby\", sep = \" & \")"
   ]
  },
  {
   "cell_type": "code",
   "execution_count": 32,
   "id": "ab199ee2",
   "metadata": {},
   "outputs": [],
   "source": [
    "def topla(a,b,c):\n",
    "    print(a+b+c)"
   ]
  },
  {
   "cell_type": "code",
   "execution_count": 33,
   "id": "806e869d",
   "metadata": {},
   "outputs": [
    {
     "name": "stdout",
     "output_type": "stream",
     "text": [
      "12\n"
     ]
    }
   ],
   "source": [
    "topla(3,4,5)"
   ]
  },
  {
   "cell_type": "code",
   "execution_count": 34,
   "id": "043e361a",
   "metadata": {},
   "outputs": [
    {
     "ename": "TypeError",
     "evalue": "topla() takes 3 positional arguments but 4 were given",
     "output_type": "error",
     "traceback": [
      "\u001b[1;31m---------------------------------------------------------------------------\u001b[0m",
      "\u001b[1;31mTypeError\u001b[0m                                 Traceback (most recent call last)",
      "\u001b[1;32m~\\AppData\\Local\\Temp/ipykernel_23252/1874366028.py\u001b[0m in \u001b[0;36m<module>\u001b[1;34m\u001b[0m\n\u001b[1;32m----> 1\u001b[1;33m \u001b[0mtopla\u001b[0m\u001b[1;33m(\u001b[0m\u001b[1;36m3\u001b[0m\u001b[1;33m,\u001b[0m\u001b[1;36m4\u001b[0m\u001b[1;33m,\u001b[0m\u001b[1;36m5\u001b[0m\u001b[1;33m,\u001b[0m\u001b[1;36m6\u001b[0m\u001b[1;33m)\u001b[0m\u001b[1;33m\u001b[0m\u001b[1;33m\u001b[0m\u001b[0m\n\u001b[0m",
      "\u001b[1;31mTypeError\u001b[0m: topla() takes 3 positional arguments but 4 were given"
     ]
    }
   ],
   "source": [
    "topla(3,4,5,6)"
   ]
  },
  {
   "cell_type": "code",
   "execution_count": 39,
   "id": "9d005f04",
   "metadata": {},
   "outputs": [],
   "source": [
    "def topla(*a):\n",
    "    print(a)\n",
    "    return a"
   ]
  },
  {
   "cell_type": "code",
   "execution_count": 36,
   "id": "0e0d5be9",
   "metadata": {},
   "outputs": [
    {
     "name": "stdout",
     "output_type": "stream",
     "text": [
      "(1, 2, 3)\n"
     ]
    }
   ],
   "source": [
    "topla(1,2,3)"
   ]
  },
  {
   "cell_type": "code",
   "execution_count": 40,
   "id": "4d05ed13",
   "metadata": {},
   "outputs": [
    {
     "data": {
      "text/plain": [
       "'tuple oldu'"
      ]
     },
     "execution_count": 40,
     "metadata": {},
     "output_type": "execute_result"
    }
   ],
   "source": [
    "\"\"\"tuple oldu\"\"\""
   ]
  },
  {
   "cell_type": "code",
   "execution_count": 41,
   "id": "4b11ed25",
   "metadata": {},
   "outputs": [
    {
     "name": "stdout",
     "output_type": "stream",
     "text": [
      "(3, 4, 5, 6, 7)\n"
     ]
    },
    {
     "data": {
      "text/plain": [
       "(3, 4, 5, 6, 7)"
      ]
     },
     "execution_count": 41,
     "metadata": {},
     "output_type": "execute_result"
    }
   ],
   "source": [
    "topla(3,4,5,6,7)"
   ]
  },
  {
   "cell_type": "code",
   "execution_count": 42,
   "id": "0d7b9959",
   "metadata": {},
   "outputs": [
    {
     "name": "stdout",
     "output_type": "stream",
     "text": [
      "(1, 2, 3)\n"
     ]
    }
   ],
   "source": [
    "b = 2*(topla(1,2,3))"
   ]
  },
  {
   "cell_type": "code",
   "execution_count": 43,
   "id": "670eac86",
   "metadata": {},
   "outputs": [
    {
     "data": {
      "text/plain": [
       "(1, 2, 3, 1, 2, 3)"
      ]
     },
     "execution_count": 43,
     "metadata": {},
     "output_type": "execute_result"
    }
   ],
   "source": [
    "b"
   ]
  },
  {
   "cell_type": "code",
   "execution_count": 45,
   "id": "82a800e3",
   "metadata": {},
   "outputs": [],
   "source": [
    "def topla(*a):\n",
    "    toplam = 0\n",
    "    for i in a:\n",
    "        toplam += i\n",
    "    print(toplam)"
   ]
  },
  {
   "cell_type": "code",
   "execution_count": 46,
   "id": "1232225f",
   "metadata": {},
   "outputs": [
    {
     "name": "stdout",
     "output_type": "stream",
     "text": [
      "6\n"
     ]
    }
   ],
   "source": [
    "topla(1,2,3)"
   ]
  },
  {
   "cell_type": "code",
   "execution_count": 47,
   "id": "39aa134b",
   "metadata": {},
   "outputs": [
    {
     "name": "stdout",
     "output_type": "stream",
     "text": [
      "63\n"
     ]
    }
   ],
   "source": [
    "topla(3,4,5,6,7,8,9,10,11)"
   ]
  },
  {
   "cell_type": "code",
   "execution_count": 48,
   "id": "d9de469c",
   "metadata": {},
   "outputs": [
    {
     "name": "stdout",
     "output_type": "stream",
     "text": [
      "Help on built-in function print in module builtins:\n",
      "\n",
      "print(...)\n",
      "    print(value, ..., sep=' ', end='\\n', file=sys.stdout, flush=False)\n",
      "    \n",
      "    Prints the values to a stream, or to sys.stdout by default.\n",
      "    Optional keyword arguments:\n",
      "    file:  a file-like object (stream); defaults to the current sys.stdout.\n",
      "    sep:   string inserted between values, default a space.\n",
      "    end:   string appended after the last value, default a newline.\n",
      "    flush: whether to forcibly flush the stream.\n",
      "\n"
     ]
    }
   ],
   "source": [
    "help(print)"
   ]
  },
  {
   "cell_type": "code",
   "execution_count": 49,
   "id": "0743a670",
   "metadata": {},
   "outputs": [
    {
     "ename": "TypeError",
     "evalue": "unsupported operand type(s) for +=: 'int' and 'str'",
     "output_type": "error",
     "traceback": [
      "\u001b[1;31m---------------------------------------------------------------------------\u001b[0m",
      "\u001b[1;31mTypeError\u001b[0m                                 Traceback (most recent call last)",
      "\u001b[1;32m~\\AppData\\Local\\Temp/ipykernel_23252/2213829470.py\u001b[0m in \u001b[0;36m<module>\u001b[1;34m\u001b[0m\n\u001b[1;32m----> 1\u001b[1;33m \u001b[0mtopla\u001b[0m\u001b[1;33m(\u001b[0m\u001b[1;34m\"tinki\"\u001b[0m\u001b[1;33m,\u001b[0m\u001b[1;34m\"vinki\"\u001b[0m\u001b[1;33m)\u001b[0m\u001b[1;33m\u001b[0m\u001b[1;33m\u001b[0m\u001b[0m\n\u001b[0m",
      "\u001b[1;32m~\\AppData\\Local\\Temp/ipykernel_23252/3503406056.py\u001b[0m in \u001b[0;36mtopla\u001b[1;34m(*a)\u001b[0m\n\u001b[0;32m      2\u001b[0m     \u001b[0mtoplam\u001b[0m \u001b[1;33m=\u001b[0m \u001b[1;36m0\u001b[0m\u001b[1;33m\u001b[0m\u001b[1;33m\u001b[0m\u001b[0m\n\u001b[0;32m      3\u001b[0m     \u001b[1;32mfor\u001b[0m \u001b[0mi\u001b[0m \u001b[1;32min\u001b[0m \u001b[0ma\u001b[0m\u001b[1;33m:\u001b[0m\u001b[1;33m\u001b[0m\u001b[1;33m\u001b[0m\u001b[0m\n\u001b[1;32m----> 4\u001b[1;33m         \u001b[0mtoplam\u001b[0m \u001b[1;33m+=\u001b[0m \u001b[0mi\u001b[0m\u001b[1;33m\u001b[0m\u001b[1;33m\u001b[0m\u001b[0m\n\u001b[0m\u001b[0;32m      5\u001b[0m     \u001b[0mprint\u001b[0m\u001b[1;33m(\u001b[0m\u001b[0mtoplam\u001b[0m\u001b[1;33m)\u001b[0m\u001b[1;33m\u001b[0m\u001b[1;33m\u001b[0m\u001b[0m\n",
      "\u001b[1;31mTypeError\u001b[0m: unsupported operand type(s) for +=: 'int' and 'str'"
     ]
    }
   ],
   "source": [
    "topla(\"tinki\",\"vinki\")"
   ]
  },
  {
   "cell_type": "code",
   "execution_count": 51,
   "id": "290e0740",
   "metadata": {},
   "outputs": [],
   "source": [
    "def birlestir(*a):\n",
    "    print(a)"
   ]
  },
  {
   "cell_type": "code",
   "execution_count": 54,
   "id": "5e96eabd",
   "metadata": {},
   "outputs": [
    {
     "name": "stdout",
     "output_type": "stream",
     "text": [
      "('tinki', 'vinki')\n"
     ]
    }
   ],
   "source": [
    "birlestir(\"tinki\",\"vinki\")"
   ]
  },
  {
   "cell_type": "code",
   "execution_count": null,
   "id": "56e204cc",
   "metadata": {},
   "outputs": [],
   "source": []
  }
 ],
 "metadata": {
  "kernelspec": {
   "display_name": "Python 3 (ipykernel)",
   "language": "python",
   "name": "python3"
  },
  "language_info": {
   "codemirror_mode": {
    "name": "ipython",
    "version": 3
   },
   "file_extension": ".py",
   "mimetype": "text/x-python",
   "name": "python",
   "nbconvert_exporter": "python",
   "pygments_lexer": "ipython3",
   "version": "3.9.7"
  }
 },
 "nbformat": 4,
 "nbformat_minor": 5
}
