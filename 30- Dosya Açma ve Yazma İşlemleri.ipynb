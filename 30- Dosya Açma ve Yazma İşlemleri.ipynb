{
 "cells": [
  {
   "cell_type": "markdown",
   "id": "816ca9b1",
   "metadata": {},
   "source": [
    "\"w\" dosya kipi write anlamına gelir eğer öyle bi dosya yoksa dosyanın üstüne yazar. yoksa yeni oluşturur. Tehlikeli\n"
   ]
  },
  {
   "cell_type": "code",
   "execution_count": 3,
   "id": "1c2ce202",
   "metadata": {},
   "outputs": [
    {
     "data": {
      "text/plain": [
       "<_io.TextIOWrapper name='bilgiler.txt' mode='w' encoding='cp1252'>"
      ]
     },
     "execution_count": 3,
     "metadata": {},
     "output_type": "execute_result"
    }
   ],
   "source": [
    "open(\"bilgiler.txt\", \"w\")"
   ]
  },
  {
   "cell_type": "code",
   "execution_count": 4,
   "id": "d05425cb",
   "metadata": {},
   "outputs": [],
   "source": [
    "file = open(\"bilgiler.txt\", \"w\")"
   ]
  },
  {
   "cell_type": "code",
   "execution_count": 5,
   "id": "e52aec70",
   "metadata": {},
   "outputs": [],
   "source": [
    "file.close()"
   ]
  },
  {
   "cell_type": "markdown",
   "id": "df4d5f2a",
   "metadata": {},
   "source": [
    "kapatmak önemli"
   ]
  },
  {
   "cell_type": "code",
   "execution_count": 11,
   "id": "72a383ac",
   "metadata": {},
   "outputs": [],
   "source": [
    "file = open(\"C:/Users/BSS5BU/Desktop/bilgiler.txt\", \"w\", encoding=\"utf-8\")"
   ]
  },
  {
   "cell_type": "markdown",
   "id": "4d28e0a6",
   "metadata": {},
   "source": [
    "utf-8 dosyaya türkçe karakter yazabilmek için"
   ]
  },
  {
   "cell_type": "code",
   "execution_count": 12,
   "id": "cf2c0156",
   "metadata": {},
   "outputs": [
    {
     "data": {
      "text/plain": [
       "25"
      ]
     },
     "execution_count": 12,
     "metadata": {},
     "output_type": "execute_result"
    }
   ],
   "source": [
    "file.write(\"Tinki vinki, Lulu, Beybiş\")"
   ]
  },
  {
   "cell_type": "code",
   "execution_count": 13,
   "id": "deda626b",
   "metadata": {},
   "outputs": [],
   "source": [
    "file.close()"
   ]
  },
  {
   "cell_type": "code",
   "execution_count": 14,
   "id": "e9389e3b",
   "metadata": {},
   "outputs": [],
   "source": [
    "file = open(\"C:/Users/BSS5BU/Desktop/bilgiler.txt\", \"w\", encoding=\"utf-8\")"
   ]
  },
  {
   "cell_type": "code",
   "execution_count": 15,
   "id": "41c07070",
   "metadata": {},
   "outputs": [],
   "source": [
    "file.close()"
   ]
  },
  {
   "cell_type": "markdown",
   "id": "0d485e76",
   "metadata": {},
   "source": [
    "\"a\" kipi append. dosya yoksa oluşturulur. dosya varsa en sonuna ekleme yapar"
   ]
  },
  {
   "cell_type": "code",
   "execution_count": 16,
   "id": "cfc5a28b",
   "metadata": {},
   "outputs": [],
   "source": [
    "file = open(\"C:/Users/BSS5BU/Desktop/bilgiler.txt\", \"a\", encoding=\"utf-8\")"
   ]
  },
  {
   "cell_type": "code",
   "execution_count": 17,
   "id": "0fdc6aa2",
   "metadata": {},
   "outputs": [
    {
     "data": {
      "text/plain": [
       "25"
      ]
     },
     "execution_count": 17,
     "metadata": {},
     "output_type": "execute_result"
    }
   ],
   "source": [
    "file.write(\"Tinki vinki, Lulu, Beybiş\")"
   ]
  },
  {
   "cell_type": "code",
   "execution_count": 18,
   "id": "9957788a",
   "metadata": {},
   "outputs": [],
   "source": [
    "file.close()"
   ]
  },
  {
   "cell_type": "code",
   "execution_count": 22,
   "id": "9a407c08",
   "metadata": {},
   "outputs": [],
   "source": [
    "file = open(\"C:/Users/BSS5BU/Desktop/bilgiler.txt\", \"a\", encoding=\"utf-8\")"
   ]
  },
  {
   "cell_type": "code",
   "execution_count": 23,
   "id": "775e3aad",
   "metadata": {},
   "outputs": [
    {
     "data": {
      "text/plain": [
       "19"
      ]
     },
     "execution_count": 23,
     "metadata": {},
     "output_type": "execute_result"
    }
   ],
   "source": [
    "file.write(\", Mars, Dipsi, Lala\")"
   ]
  },
  {
   "cell_type": "code",
   "execution_count": 24,
   "id": "4c9e9008",
   "metadata": {},
   "outputs": [],
   "source": [
    "file.close()"
   ]
  },
  {
   "cell_type": "code",
   "execution_count": 25,
   "id": "13163c22",
   "metadata": {},
   "outputs": [],
   "source": [
    "file = open(\"C:/Users/BSS5BU/Desktop/bilgiler.txt\", \"a\", encoding=\"utf-8\")"
   ]
  },
  {
   "cell_type": "code",
   "execution_count": 26,
   "id": "f6618e0e",
   "metadata": {},
   "outputs": [
    {
     "data": {
      "text/plain": [
       "23"
      ]
     },
     "execution_count": 26,
     "metadata": {},
     "output_type": "execute_result"
    }
   ],
   "source": [
    "file.write(\"Tinki vinki\\nBeybi\\nLoyal\")"
   ]
  },
  {
   "cell_type": "code",
   "execution_count": 27,
   "id": "0805c253",
   "metadata": {},
   "outputs": [],
   "source": [
    "file.close()"
   ]
  },
  {
   "cell_type": "code",
   "execution_count": null,
   "id": "e2fd11c1",
   "metadata": {},
   "outputs": [],
   "source": []
  }
 ],
 "metadata": {
  "kernelspec": {
   "display_name": "Python 3 (ipykernel)",
   "language": "python",
   "name": "python3"
  },
  "language_info": {
   "codemirror_mode": {
    "name": "ipython",
    "version": 3
   },
   "file_extension": ".py",
   "mimetype": "text/x-python",
   "name": "python",
   "nbconvert_exporter": "python",
   "pygments_lexer": "ipython3",
   "version": "3.9.7"
  }
 },
 "nbformat": 4,
 "nbformat_minor": 5
}
