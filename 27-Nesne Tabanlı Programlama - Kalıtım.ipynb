{
 "cells": [
  {
   "cell_type": "code",
   "execution_count": 8,
   "id": "7a1efe09",
   "metadata": {},
   "outputs": [],
   "source": [
    "class Calisan():\n",
    "    \n",
    "    def __init__(self, isim, maas, departman):\n",
    "        print(\"Çalışan sınıfının init fonksiyonu\")\n",
    "        \n",
    "        self.isim = isim\n",
    "        self.maas = maas\n",
    "        self.departman = departman\n",
    "    def bilgilerigoster(self):\n",
    "        print(\"Calisan class'ının bilgileri:\")\n",
    "        \n",
    "        print(\"İsim: {}\\nMaaş: {}\\nDepartman: {}\".format(self.isim,self.maas,self.departman))\n",
    "    \n",
    "    def departman_degistir(self, yeni_departman):\n",
    "        self.departman = yeni_departman\n",
    "             \n",
    "        "
   ]
  },
  {
   "cell_type": "code",
   "execution_count": 2,
   "id": "5253a9b7",
   "metadata": {
    "scrolled": true
   },
   "outputs": [
    {
     "ename": "IndentationError",
     "evalue": "expected an indented block (Temp/ipykernel_480/2857022101.py, line 1)",
     "output_type": "error",
     "traceback": [
      "\u001b[1;36m  File \u001b[1;32m\"C:\\Users\\BSS5BU\\AppData\\Local\\Temp/ipykernel_480/2857022101.py\"\u001b[1;36m, line \u001b[1;32m1\u001b[0m\n\u001b[1;33m    class Yonetici(Calisan):\u001b[0m\n\u001b[1;37m                            ^\u001b[0m\n\u001b[1;31mIndentationError\u001b[0m\u001b[1;31m:\u001b[0m expected an indented block\n"
     ]
    }
   ],
   "source": [
    "class Yonetici(Calisan):"
   ]
  },
  {
   "cell_type": "code",
   "execution_count": 10,
   "id": "75644ebf",
   "metadata": {},
   "outputs": [],
   "source": [
    "class Yonetici(Calisan):\n",
    "    pass"
   ]
  },
  {
   "cell_type": "code",
   "execution_count": 11,
   "id": "03cafe1a",
   "metadata": {},
   "outputs": [
    {
     "name": "stdout",
     "output_type": "stream",
     "text": [
      "Çalışan sınıfının init fonksiyonu\n"
     ]
    }
   ],
   "source": [
    "yonetici = Yonetici(\"Tinki\", 3000, \"IT\")"
   ]
  },
  {
   "cell_type": "code",
   "execution_count": 13,
   "id": "97122263",
   "metadata": {},
   "outputs": [
    {
     "name": "stdout",
     "output_type": "stream",
     "text": [
      "Calisan class'ının bilgileri:\n",
      "İsim: Tinki\n",
      "Maaş: 3000\n",
      "Departman: IT\n"
     ]
    }
   ],
   "source": [
    "yonetici.bilgilerigoster()"
   ]
  },
  {
   "cell_type": "code",
   "execution_count": 15,
   "id": "fbec81ba",
   "metadata": {},
   "outputs": [],
   "source": [
    "yonetici.departman_degistir(\"IK\")"
   ]
  },
  {
   "cell_type": "code",
   "execution_count": 16,
   "id": "fd38322f",
   "metadata": {},
   "outputs": [
    {
     "name": "stdout",
     "output_type": "stream",
     "text": [
      "Calisan class'ının bilgileri:\n",
      "İsim: Tinki\n",
      "Maaş: 3000\n",
      "Departman: IK\n"
     ]
    }
   ],
   "source": [
    "yonetici.bilgilerigoster()"
   ]
  },
  {
   "cell_type": "code",
   "execution_count": 17,
   "id": "1cdd97a5",
   "metadata": {},
   "outputs": [
    {
     "data": {
      "text/plain": [
       "['__class__',\n",
       " '__delattr__',\n",
       " '__dict__',\n",
       " '__dir__',\n",
       " '__doc__',\n",
       " '__eq__',\n",
       " '__format__',\n",
       " '__ge__',\n",
       " '__getattribute__',\n",
       " '__gt__',\n",
       " '__hash__',\n",
       " '__init__',\n",
       " '__init_subclass__',\n",
       " '__le__',\n",
       " '__lt__',\n",
       " '__module__',\n",
       " '__ne__',\n",
       " '__new__',\n",
       " '__reduce__',\n",
       " '__reduce_ex__',\n",
       " '__repr__',\n",
       " '__setattr__',\n",
       " '__sizeof__',\n",
       " '__str__',\n",
       " '__subclasshook__',\n",
       " '__weakref__',\n",
       " 'bilgilerigoster',\n",
       " 'departman',\n",
       " 'departman_degistir',\n",
       " 'isim',\n",
       " 'maas']"
      ]
     },
     "execution_count": 17,
     "metadata": {},
     "output_type": "execute_result"
    }
   ],
   "source": [
    "dir(yonetici)"
   ]
  },
  {
   "cell_type": "code",
   "execution_count": 26,
   "id": "1e4a9c8f",
   "metadata": {},
   "outputs": [],
   "source": [
    "class Yonetici(Calisan):\n",
    "    def zam_yap(self, zam_miktari_yuzde):\n",
    "        self.maas += self.maas*zam_miktari_yuzde"
   ]
  },
  {
   "cell_type": "code",
   "execution_count": 27,
   "id": "fece3d06",
   "metadata": {},
   "outputs": [
    {
     "name": "stdout",
     "output_type": "stream",
     "text": [
      "Çalışan sınıfının init fonksiyonu\n"
     ]
    }
   ],
   "source": [
    "yönetici2 = Yonetici(\"BBY\", 3000, \"CDLS\")"
   ]
  },
  {
   "cell_type": "code",
   "execution_count": 28,
   "id": "96bd5886",
   "metadata": {},
   "outputs": [],
   "source": [
    "yönetici2.zam_yap(0.30)"
   ]
  },
  {
   "cell_type": "code",
   "execution_count": 29,
   "id": "c3ad7e6d",
   "metadata": {},
   "outputs": [
    {
     "name": "stdout",
     "output_type": "stream",
     "text": [
      "Calisan class'ının bilgileri:\n",
      "İsim: BBY\n",
      "Maaş: 3900.0\n",
      "Departman: CDLS\n"
     ]
    }
   ],
   "source": [
    "yönetici2.bilgilerigoster()"
   ]
  },
  {
   "cell_type": "markdown",
   "id": "7587388e",
   "metadata": {},
   "source": [
    "Overwriting (iptal Etme): Eğer inherit ettiğin classın içindeki bir fonksiyonu(metodu) kendi classında tekrar tanımlamış olursun.\n",
    "    Python bu yeni tanımladığını kullanır artık çağırdığında"
   ]
  },
  {
   "cell_type": "code",
   "execution_count": 41,
   "id": "05da65c4",
   "metadata": {},
   "outputs": [],
   "source": [
    "class Yonetici(Calisan):\n",
    "    def __init__(self, isim, maas, departman, kisi_sayisi):\n",
    "        print(\"Yonetici class'ının init fonksiyonu\")\n",
    "        self.isim = isim\n",
    "        self.maas = maas\n",
    "        self.departman = departman\n",
    "        self.kisi_sayisi = kisi_sayisi\n",
    "    def bilgilerigoster(self):\n",
    "        print(\"Yonetici class'ının bilgileri:\")\n",
    "        \n",
    "        print(\"İsim: {}\\nMaaş: {}\\nDepartman: {}\\nSorumlu kişi sayısı: {}\".format(self.isim,self.maas,self.departman, self.kisi_sayisi))\n",
    "    def zam_yap(self, zam_miktari_yuzde):\n",
    "        self.maas += self.maas*zam_miktari_yuzde"
   ]
  },
  {
   "cell_type": "code",
   "execution_count": 42,
   "id": "a00794f6",
   "metadata": {},
   "outputs": [
    {
     "name": "stdout",
     "output_type": "stream",
     "text": [
      "Yonetici class'ının init fonksiyonu\n"
     ]
    }
   ],
   "source": [
    "yonetici3 = Yonetici(\"Loyal\", 5000, \"Chef\", 10)"
   ]
  },
  {
   "cell_type": "code",
   "execution_count": 43,
   "id": "84e7fa10",
   "metadata": {},
   "outputs": [
    {
     "name": "stdout",
     "output_type": "stream",
     "text": [
      "Yonetici class'ının bilgileri:\n",
      "İsim: Loyal\n",
      "Maaş: 5000\n",
      "Departman: Chef\n",
      "Sorumlu kişi sayısı: 10\n"
     ]
    }
   ],
   "source": [
    "yonetici3.bilgilerigoster()"
   ]
  },
  {
   "cell_type": "markdown",
   "id": "838cb9cf",
   "metadata": {},
   "source": [
    "super anahtar kelimesi ile overwrite yaptığımız bir fonksiyonu inherit aldığımız classtan çekebiliriz"
   ]
  },
  {
   "cell_type": "code",
   "execution_count": 44,
   "id": "16199b83",
   "metadata": {},
   "outputs": [],
   "source": [
    "class Calisan():\n",
    "    \n",
    "    def __init__(self, isim, maas, departman):\n",
    "        print(\"Çalışan sınıfının init fonksiyonu\")\n",
    "        \n",
    "        self.isim = isim\n",
    "        self.maas = maas\n",
    "        self.departman = departman\n",
    "    def bilgilerigoster(self):\n",
    "        print(\"Calisan class'ının bilgileri:\")\n",
    "        \n",
    "        print(\"İsim: {}\\nMaaş: {}\\nDepartman: {}\".format(self.isim,self.maas,self.departman))\n",
    "    \n",
    "    def departman_degistir(self, yeni_departman):\n",
    "        self.departman = yeni_departman"
   ]
  },
  {
   "cell_type": "code",
   "execution_count": 45,
   "id": "e0929474",
   "metadata": {},
   "outputs": [],
   "source": [
    "class Yonetici(Calisan):\n",
    "    def __init__(self, isim, maas, departman, kisi_sayisi):\n",
    "        super().__init__(isim, maas, departman\n",
    "                        )\n",
    "        print(\"Yonetici class'ının init fonksiyonu\")\n",
    "        \n",
    "        self.kisi_sayisi = kisi_sayisi\n",
    "    def bilgilerigoster(self):\n",
    "        print(\"Yonetici class'ının bilgileri:\")\n",
    "        \n",
    "        print(\"İsim: {}\\nMaaş: {}\\nDepartman: {}\\nSorumlu kişi sayısı: {}\".format(self.isim,self.maas,self.departman, self.kisi_sayisi))\n",
    "    def zam_yap(self, zam_miktari_yuzde):\n",
    "        self.maas += self.maas*zam_miktari_yuzde"
   ]
  },
  {
   "cell_type": "code",
   "execution_count": 46,
   "id": "475ce686",
   "metadata": {},
   "outputs": [
    {
     "name": "stdout",
     "output_type": "stream",
     "text": [
      "Çalışan sınıfının init fonksiyonu\n",
      "Yonetici class'ının init fonksiyonu\n"
     ]
    }
   ],
   "source": [
    "yonetici4 = Yonetici(\"Tinki\", 20, \"Play\", 3)"
   ]
  },
  {
   "cell_type": "code",
   "execution_count": 47,
   "id": "4314647e",
   "metadata": {},
   "outputs": [
    {
     "name": "stdout",
     "output_type": "stream",
     "text": [
      "Yonetici class'ının bilgileri:\n",
      "İsim: Tinki\n",
      "Maaş: 20\n",
      "Departman: Play\n",
      "Sorumlu kişi sayısı: 3\n"
     ]
    }
   ],
   "source": [
    "yonetici4.bilgilerigoster()"
   ]
  },
  {
   "cell_type": "markdown",
   "id": "0ea5adb5",
   "metadata": {},
   "source": [
    "---Done---"
   ]
  },
  {
   "cell_type": "code",
   "execution_count": 49,
   "id": "d08d9469",
   "metadata": {},
   "outputs": [
    {
     "name": "stdout",
     "output_type": "stream",
     "text": [
      "1 2 3 4 5 6 7 8 9 10 11 12 13 14 15 16 17 18 19 20\n"
     ]
    }
   ],
   "source": [
    "print(*range(1,21))"
   ]
  },
  {
   "cell_type": "code",
   "execution_count": 50,
   "id": "dc72f4e0",
   "metadata": {},
   "outputs": [],
   "source": [
    "import math"
   ]
  },
  {
   "cell_type": "code",
   "execution_count": 56,
   "id": "0eb05d54",
   "metadata": {},
   "outputs": [
    {
     "name": "stdout",
     "output_type": "stream",
     "text": [
      "(1.1+2.3j)\n"
     ]
    }
   ],
   "source": [
    "x = 1.1\n",
    "y = 2.3\n",
    "z = complex(x,y)\n",
    "print(z)"
   ]
  },
  {
   "cell_type": "code",
   "execution_count": null,
   "id": "611153ad",
   "metadata": {},
   "outputs": [],
   "source": []
  }
 ],
 "metadata": {
  "kernelspec": {
   "display_name": "Python 3 (ipykernel)",
   "language": "python",
   "name": "python3"
  },
  "language_info": {
   "codemirror_mode": {
    "name": "ipython",
    "version": 3
   },
   "file_extension": ".py",
   "mimetype": "text/x-python",
   "name": "python",
   "nbconvert_exporter": "python",
   "pygments_lexer": "ipython3",
   "version": "3.9.7"
  }
 },
 "nbformat": 4,
 "nbformat_minor": 5
}
